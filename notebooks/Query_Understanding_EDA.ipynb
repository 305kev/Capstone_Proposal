{
 "cells": [
  {
   "cell_type": "code",
   "execution_count": 34,
   "metadata": {},
   "outputs": [],
   "source": [
    "import nltk.collocations\n",
    "import nltk.corpus\n",
    "import collections\n",
    "import pandas as pd\n",
    "from sklearn.feature_extraction.text import TfidfVectorizer,CountVectorizer\n",
    "import string\n",
    "\n",
    "from sklearn.metrics.pairwise import linear_kernel\n",
    "from nltk.tokenize import word_tokenize\n",
    "from nltk.corpus import stopwords\n",
    "from nltk.stem.snowball import SnowballStemmer\n",
    "import nltk\n"
   ]
  },
  {
   "cell_type": "code",
   "execution_count": 6,
   "metadata": {},
   "outputs": [
    {
     "data": {
      "text/plain": [
       "'/Users/kevingmagana/DSI/capstone/capstone-update/Capstone_Proposal/notebooks'"
      ]
     },
     "execution_count": 6,
     "metadata": {},
     "output_type": "execute_result"
    }
   ],
   "source": [
    "pwd"
   ]
  },
  {
   "cell_type": "code",
   "execution_count": 7,
   "metadata": {},
   "outputs": [],
   "source": [
    "df = pd.read_csv('/Users/kevingmagana/DSI/capstone/case_corpus.csv')"
   ]
  },
  {
   "cell_type": "code",
   "execution_count": 11,
   "metadata": {},
   "outputs": [
    {
     "data": {
      "text/html": [
       "<div>\n",
       "<style>\n",
       "    .dataframe thead tr:only-child th {\n",
       "        text-align: right;\n",
       "    }\n",
       "\n",
       "    .dataframe thead th {\n",
       "        text-align: left;\n",
       "    }\n",
       "\n",
       "    .dataframe tbody tr th {\n",
       "        vertical-align: top;\n",
       "    }\n",
       "</style>\n",
       "<table border=\"1\" class=\"dataframe\">\n",
       "  <thead>\n",
       "    <tr style=\"text-align: right;\">\n",
       "      <th></th>\n",
       "      <th>case_text</th>\n",
       "      <th>case_title</th>\n",
       "      <th>court</th>\n",
       "      <th>date</th>\n",
       "      <th>docket</th>\n",
       "      <th>tags</th>\n",
       "      <th>type_of_law</th>\n",
       "      <th>url</th>\n",
       "      <th>web_source</th>\n",
       "      <th>html_format</th>\n",
       "      <th>title_date</th>\n",
       "    </tr>\n",
       "  </thead>\n",
       "  <tbody>\n",
       "    <tr>\n",
       "      <th>0</th>\n",
       "      <td>United States Court of Appeals,Tenth Circuit.\\...</td>\n",
       "      <td>Porro v. Barnes</td>\n",
       "      <td>United States Tenth Circuit</td>\n",
       "      <td>11/09/2010</td>\n",
       "      <td>10-6002</td>\n",
       "      <td>Civil Rights, Constitutional Law, Immigration ...</td>\n",
       "      <td>case</td>\n",
       "      <td>http://caselaw.findlaw.com/us-10th-circuit/154...</td>\n",
       "      <td>findlaw.com</td>\n",
       "      <td>[&lt;div class=\"caselawcontent searchable-content...</td>\n",
       "      <td>Porro v. Barnes 11/09/2010</td>\n",
       "    </tr>\n",
       "    <tr>\n",
       "      <th>1</th>\n",
       "      <td>United States Court of Appeals,Tenth Circuit.\\...</td>\n",
       "      <td>Garcia-Carbajal v. Holder</td>\n",
       "      <td>United States Tenth Circuit</td>\n",
       "      <td>11/05/2010</td>\n",
       "      <td>09-9558</td>\n",
       "      <td>Administrative Law, Immigration Law</td>\n",
       "      <td>case</td>\n",
       "      <td>http://caselaw.findlaw.com/us-10th-circuit/154...</td>\n",
       "      <td>findlaw.com</td>\n",
       "      <td>[&lt;div class=\"caselawcontent searchable-content...</td>\n",
       "      <td>Garcia-Carbajal v. Holder 11/05/2010</td>\n",
       "    </tr>\n",
       "    <tr>\n",
       "      <th>2</th>\n",
       "      <td>United States Court of Appeals,Tenth Circuit.\\...</td>\n",
       "      <td>US v. Rendon-Alamo</td>\n",
       "      <td>United States Tenth Circuit</td>\n",
       "      <td>10/19/2010</td>\n",
       "      <td>10-2089</td>\n",
       "      <td>Sentencing, Immigration Law, Criminal Law &amp; Pr...</td>\n",
       "      <td>case</td>\n",
       "      <td>http://caselaw.findlaw.com/us-10th-circuit/154...</td>\n",
       "      <td>findlaw.com</td>\n",
       "      <td>[&lt;div class=\"caselawcontent searchable-content...</td>\n",
       "      <td>US v. Rendon-Alamo 10/19/2010</td>\n",
       "    </tr>\n",
       "    <tr>\n",
       "      <th>3</th>\n",
       "      <td>United States Court of Appeals,Tenth Circuit.\\...</td>\n",
       "      <td>Iliev v. Holder</td>\n",
       "      <td>United States Tenth Circuit</td>\n",
       "      <td>07/19/2010</td>\n",
       "      <td>09-9517</td>\n",
       "      <td>Administrative Law, Immigration Law</td>\n",
       "      <td>case</td>\n",
       "      <td>http://caselaw.findlaw.com/us-10th-circuit/153...</td>\n",
       "      <td>findlaw.com</td>\n",
       "      <td>[&lt;div class=\"caselawcontent searchable-content...</td>\n",
       "      <td>Iliev v. Holder 07/19/2010</td>\n",
       "    </tr>\n",
       "    <tr>\n",
       "      <th>4</th>\n",
       "      <td>United States Court of Appeals,Tenth Circuit.\\...</td>\n",
       "      <td>US v. Adame-Orozco</td>\n",
       "      <td>United States Tenth Circuit</td>\n",
       "      <td>06/04/2010</td>\n",
       "      <td>09-3296</td>\n",
       "      <td>Criminal Law &amp; Procedure, Immigration Law</td>\n",
       "      <td>case</td>\n",
       "      <td>http://caselaw.findlaw.com/us-10th-circuit/152...</td>\n",
       "      <td>findlaw.com</td>\n",
       "      <td>[&lt;div class=\"caselawcontent searchable-content...</td>\n",
       "      <td>US v. Adame-Orozco 06/04/2010</td>\n",
       "    </tr>\n",
       "  </tbody>\n",
       "</table>\n",
       "</div>"
      ],
      "text/plain": [
       "                                           case_text  \\\n",
       "0  United States Court of Appeals,Tenth Circuit.\\...   \n",
       "1  United States Court of Appeals,Tenth Circuit.\\...   \n",
       "2  United States Court of Appeals,Tenth Circuit.\\...   \n",
       "3  United States Court of Appeals,Tenth Circuit.\\...   \n",
       "4  United States Court of Appeals,Tenth Circuit.\\...   \n",
       "\n",
       "                  case_title                        court        date  \\\n",
       "0            Porro v. Barnes  United States Tenth Circuit  11/09/2010   \n",
       "1  Garcia-Carbajal v. Holder  United States Tenth Circuit  11/05/2010   \n",
       "2         US v. Rendon-Alamo  United States Tenth Circuit  10/19/2010   \n",
       "3            Iliev v. Holder  United States Tenth Circuit  07/19/2010   \n",
       "4         US v. Adame-Orozco  United States Tenth Circuit  06/04/2010   \n",
       "\n",
       "    docket                                               tags type_of_law  \\\n",
       "0  10-6002  Civil Rights, Constitutional Law, Immigration ...        case   \n",
       "1  09-9558                Administrative Law, Immigration Law        case   \n",
       "2  10-2089  Sentencing, Immigration Law, Criminal Law & Pr...        case   \n",
       "3  09-9517                Administrative Law, Immigration Law        case   \n",
       "4  09-3296          Criminal Law & Procedure, Immigration Law        case   \n",
       "\n",
       "                                                 url   web_source  \\\n",
       "0  http://caselaw.findlaw.com/us-10th-circuit/154...  findlaw.com   \n",
       "1  http://caselaw.findlaw.com/us-10th-circuit/154...  findlaw.com   \n",
       "2  http://caselaw.findlaw.com/us-10th-circuit/154...  findlaw.com   \n",
       "3  http://caselaw.findlaw.com/us-10th-circuit/153...  findlaw.com   \n",
       "4  http://caselaw.findlaw.com/us-10th-circuit/152...  findlaw.com   \n",
       "\n",
       "                                         html_format  \\\n",
       "0  [<div class=\"caselawcontent searchable-content...   \n",
       "1  [<div class=\"caselawcontent searchable-content...   \n",
       "2  [<div class=\"caselawcontent searchable-content...   \n",
       "3  [<div class=\"caselawcontent searchable-content...   \n",
       "4  [<div class=\"caselawcontent searchable-content...   \n",
       "\n",
       "                             title_date  \n",
       "0            Porro v. Barnes 11/09/2010  \n",
       "1  Garcia-Carbajal v. Holder 11/05/2010  \n",
       "2         US v. Rendon-Alamo 10/19/2010  \n",
       "3            Iliev v. Holder 07/19/2010  \n",
       "4         US v. Adame-Orozco 06/04/2010  "
      ]
     },
     "execution_count": 11,
     "metadata": {},
     "output_type": "execute_result"
    }
   ],
   "source": [
    "# cleaned = df.drop(['Unnamed: 0', 'Unnamed: 0.1'], axis=1)\n",
    "data= cleaned.case_text\n",
    "cleaned.head()\n"
   ]
  },
  {
   "cell_type": "code",
   "execution_count": 49,
   "metadata": {},
   "outputs": [
    {
     "name": "stdout",
     "output_type": "stream",
     "text": [
      "officer []\n",
      "court [('reach', 14.229452104810218), ('appealstenth', 7.083382354359582), ('assess', 7.083382354359582), ('focus', 7.083382354359582), ('free', 7.083382354359582)]\n",
      "crime []\n"
     ]
    }
   ],
   "source": [
    "def clean_text(case_text):\n",
    "    \"\"\"\n",
    "    :param case_text: list of strings (case_text)\n",
    "    :return: list of lists of strings (stemmed words)\n",
    "    \"\"\"\n",
    "    table = str.maketrans({key: None for key in string.punctuation})\n",
    "    tokenized = [word_tokenize(case.translate(table).lower()) for case in case_text]\n",
    "    stop = set(stopwords.words('english'))\n",
    "    remove_stop_words = [[word for word in words if word not in stop] for words in tokenized]\n",
    "    snowball = SnowballStemmer('english')\n",
    "    ## Stemmed words\n",
    "    return [snowball.stem(word) for words in remove_stop_words for word in words]\n",
    "\n",
    "list_of_words = [word for word in clean_text(data[2].split(' '))]\n",
    "# print(list_of_words)\n",
    "\n",
    "bgm = nltk.collocations.BigramAssocMeasures()\n",
    "trigram_measures = nltk.collocations.TrigramAssocMeasures()\n",
    "\n",
    "finder_bgm = nltk.collocations.BigramCollocationFinder.from_words(list_of_words)\n",
    "scored_bgm= finder_bgm.score_ngrams( bgm.likelihood_ratio  )\n",
    "\n",
    "finder_trigram_measures = nltk.collocations.BigramCollocationFinder.from_words(list_of_words)\n",
    "scored_trigram_measures = nltk.collocations.TrigramCollocationFinder.from_words(list_of_words)\n",
    "\n",
    "# print(finder)\n",
    "# Group bigrams by first word in bigram.                                        \n",
    "prefix_keys = collections.defaultdict(list)\n",
    "## Bigrams\n",
    "for key, scores in scored_bgm:\n",
    "    prefix_keys[key[0]].append((key[1], scores))\n",
    "\n",
    "# for key, scores in scored_trigram_measures:\n",
    "#     prefix_keys[key[0]].append((key[1], scores))\n",
    "    \n",
    "    \n",
    "# Sort keyed bigrams by strongest association.                                  \n",
    "for key in prefix_keys:\n",
    "    prefix_keys[key].sort(key = lambda x: -x[1])\n",
    "\n",
    "print ('officer', prefix_keys['officer'][:5])\n",
    "print ('court', prefix_keys['court'][:5])\n",
    "print ('crime', prefix_keys['crime'][:5])"
   ]
  },
  {
   "cell_type": "code",
   "execution_count": 50,
   "metadata": {},
   "outputs": [
    {
     "name": "stdout",
     "output_type": "stream",
     "text": [
      "unit state; district court; sentenc impos; drug traffick; traffick\n",
      "offens; 16level enhanc; origin 9month; advisori guidelin; upon revoc;\n",
      "prison term; 13month threshold; guideli equat; intern quotat; previous\n",
      "deport; quotat mark; guidelin calcul; calcul advisori; 10th cir2009;\n",
      "come conclus; inconsist plain\n"
     ]
    }
   ],
   "source": [
    "nltk.Text(list_of_words).collocations()\n"
   ]
  },
  {
   "cell_type": "code",
   "execution_count": 53,
   "metadata": {},
   "outputs": [
    {
     "data": {
      "text/plain": [
       "['He lo',\n",
       " 'Hole',\n",
       " 'Hello',\n",
       " 'Helot',\n",
       " 'Halo',\n",
       " 'Hero',\n",
       " 'Hell',\n",
       " 'Held',\n",
       " 'Helm',\n",
       " 'Help',\n",
       " 'Helios',\n",
       " 'Helyn',\n",
       " 'Helsa',\n",
       " 'Helli']"
      ]
     },
     "execution_count": 53,
     "metadata": {},
     "output_type": "execute_result"
    }
   ],
   "source": [
    "import enchant\n",
    "\n",
    "d = enchant.Dict(\"en_US\")\n",
    "d.check(\"Helo\")\n",
    "d.suggest(\"Helo\")"
   ]
  },
  {
   "cell_type": "code",
   "execution_count": 55,
   "metadata": {},
   "outputs": [],
   "source": [
    "from autocorrect import spell"
   ]
  },
  {
   "cell_type": "code",
   "execution_count": 57,
   "metadata": {},
   "outputs": [
    {
     "name": "stdout",
     "output_type": "stream",
     "text": [
      "caesar\n",
      "message\n",
      "service\n",
      "the\n"
     ]
    }
   ],
   "source": [
    "print (spell('caaaar'))\n",
    "print (spell(u'mussage'))\n",
    "print (spell(u'survice'))\n",
    "print (spell(u'hte'))"
   ]
  },
  {
   "cell_type": "code",
   "execution_count": 67,
   "metadata": {},
   "outputs": [
    {
     "name": "stdout",
     "output_type": "stream",
     "text": [
      "What is the deportation process like in the state of Texas\n"
     ]
    }
   ],
   "source": [
    "query = \"What is the deportaion procss like in the stae of Texas?\"\n",
    "\n",
    "# for i in query.split(' '): \n",
    "#     print(spell(i) \n",
    "          \n",
    "query_split = []\n",
    "for word in query.split(' '):\n",
    "    query_split.append(spell(word))\n",
    "\n",
    "spell_checked_query = \" \".join(query_split)\n",
    "print(spell_checked_query)"
   ]
  },
  {
   "cell_type": "code",
   "execution_count": null,
   "metadata": {},
   "outputs": [],
   "source": []
  }
 ],
 "metadata": {
  "kernelspec": {
   "display_name": "Python 3",
   "language": "python",
   "name": "python3"
  },
  "language_info": {
   "codemirror_mode": {
    "name": "ipython",
    "version": 3
   },
   "file_extension": ".py",
   "mimetype": "text/x-python",
   "name": "python",
   "nbconvert_exporter": "python",
   "pygments_lexer": "ipython3",
   "version": "3.6.3"
  }
 },
 "nbformat": 4,
 "nbformat_minor": 2
}
