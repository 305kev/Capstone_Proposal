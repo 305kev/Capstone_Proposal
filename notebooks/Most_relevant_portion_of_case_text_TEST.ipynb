{
 "cells": [
  {
   "cell_type": "code",
   "execution_count": 89,
   "metadata": {},
   "outputs": [],
   "source": [
    "import numpy as np\n",
    "import pandas as pd\n",
    "import sys\n",
    "sys.path.append('/Users/kevingmagana/DSI/capstone/capstone-update/Capstone_Proposal/py_scripts/')\n",
    "import results\n",
    "from bs4 import BeautifulSoup\n",
    "%reload_ext autoreload\n",
    "%autoreload 2\n",
    "import requests\n",
    "from sklearn.feature_extraction.text import TfidfVectorizer,CountVectorizer\n",
    "from sklearn.metrics.pairwise import linear_kernel\n",
    "import string\n",
    "from nltk.tokenize import word_tokenize\n",
    "from nltk.corpus import stopwords\n",
    "from nltk.stem.snowball import SnowballStemmer\n",
    "\n",
    "\n"
   ]
  },
  {
   "cell_type": "code",
   "execution_count": 126,
   "metadata": {},
   "outputs": [
    {
     "name": "stdout",
     "output_type": "stream",
     "text": [
      "<class 'pandas.core.frame.DataFrame'>\n",
      "Int64Index: 4470 entries, 0 to 4469\n",
      "Data columns (total 13 columns):\n",
      "Unnamed: 0      4470 non-null int64\n",
      "Unnamed: 0.1    4470 non-null int64\n",
      "case_text       4470 non-null object\n",
      "case_title      4470 non-null object\n",
      "court           4470 non-null object\n",
      "date            4470 non-null object\n",
      "docket          4470 non-null object\n",
      "tags            4470 non-null object\n",
      "type_of_law     4470 non-null object\n",
      "url             4470 non-null object\n",
      "web_source      4470 non-null object\n",
      "html_format     4470 non-null object\n",
      "title_date      4470 non-null object\n",
      "dtypes: int64(2), object(11)\n",
      "memory usage: 648.9+ KB\n"
     ]
    }
   ],
   "source": [
    "model[3].info()"
   ]
  },
  {
   "cell_type": "code",
   "execution_count": 7,
   "metadata": {},
   "outputs": [],
   "source": [
    "df = pd.read_csv('/Users/kevingmagana/DSI/capstone/case_corpus.csv')\n",
    "df = df.dropna()\n",
    "df['title_date'] = df[['case_title', 'date']].apply(lambda x: ' '.join(x), axis=1)\n",
    "\n",
    "\n",
    "df2 = df.iloc[:, [2, 12]]\n",
    "df2 = df2.drop_duplicates(subset='title_date')\n",
    "df2 = df2.reset_index(drop=True)\n"
   ]
  },
  {
   "cell_type": "code",
   "execution_count": 15,
   "metadata": {},
   "outputs": [],
   "source": [
    "\n",
    "\n",
    "model = results.load_model()\n",
    "def process_query(query):\n",
    "    \"\"\"\n",
    "    :param query: string, the query\n",
    "    :return: list, of indices or DOC IDs\n",
    "      EX:\n",
    "      \t [2939, 4213, 3703, 695, 1810, 3397, 3311, 2663, 177, 1587]\n",
    "    \"\"\"\n",
    "    # Step 1: Intake and get Indexed Cases\n",
    "    query =  query\n",
    "    indices = results.indexed_results(model[0], query)\n",
    "    # Step 2: Get index_vectors and case_val dictionary\n",
    "    index_vectors, case_value_dictionary= results.get_index_vectors(model[2], indices)\n",
    "    # Step 3: Vectorize query\n",
    "    vectorized_query = results.query_vector(model[1], query)\n",
    "    # Step 4: Get Cosine similarities\n",
    "    cosine_similarities = results.cosine_similarity(vectorized_query, index_vectors)\n",
    "    # Step 5: Get top results and rank them (top 10 right now...)\n",
    "    top_results = (results.get_top_values(cosine_similarities[0], 10), query)\n",
    "    res = [case_value_dictionary[array_value] for array_value in top_results[0]]\n",
    "    return res\n"
   ]
  },
  {
   "cell_type": "code",
   "execution_count": 32,
   "metadata": {},
   "outputs": [
    {
     "data": {
      "text/plain": [
       "\"United States Court of Appeals,Tenth Circuit.\\nAlfredo Yero PORRO, Plaintiff-Appellant, v. Stanley BARNES; and Michael Bryant, in his official capacity as Sheriff of Jefferson County, Defendants-Appellees.\\nNo. 10-6002.\\nDecided: November 09, 2010\\n\\nBefore KELLY and GORSUCH, Circuit Judges, and MELGREN, District Judge.**Submitted on the briefs: *Mark E. Bialick and David B. Donchin, Durbin, Larimore & Bialick, Oklahoma City, OK; and David W. Little, Law Offices of David Little, Oklahoma City, OK, for Plaintiff-Appellant. Robert S. Lafferrandre and Randall J. Wood, Pierce Couch Hendrickson Baysinger & Green, L.L.P., Oklahoma City, OK; and Chris J. Collins, Timothy M. Melton, and Linda K. Soper, Collins, Zorn & Wagner, P.C., Oklahoma City, OK, for Defendants-Appellees.\\nThis case presents two central questions: What provision of the Constitution should this court use to analyze a federal immigration detainee's claim of excessive force? And does a county's failure to adopt a prophylactic policy with a standard of care higher than what the Constitution requires suffice, by itself, to suggest deliberate indifference to the Constitution's protections against excessive force? On the first question, we hold that the due process guarantee is the proper doctrinal prism through which to analyze the claims of federal immigration detainees who don't challenge the lawfulness of their detention but only the force used during that detention. On the second, we hold that the answer is simply no. To create a triable question of fact on the use of excessive force, a plaintiff must do more than show that the defendant county failed to adopt the most protective possible policy against the application of force. Because our conclusions mirror those reached by the district court on summary judgment, we affirm.IThis case began when members of a certified emergency response team (“CERT”) at the Jefferson County Jail in Oklahoma responded to a call that Alfredo Yero Porro, a federal immigration detainee, was acting in a disruptive manner in his cell, destroying parts of it. To address the situation, CERT members removed Mr. Porro from his cell, walked him to the jail's booking area, and placed him in a restraint chair. No one challenges the propriety of any of this. But then, after Mr. Porro was restrained, a member of the CERT proceeded to taser Mr. Porro at least three times. And it is this force that eventually gave rise to this lawsuit. Mr. Porro filed his claim under 42 U.S.C. § 1983, against three defendants: Kenny Lovett, the CERT member who tasered him; Stanley Barnes, the sheriff of Jefferson County at the time of the incident; and Michael Bryant, Mr. Barnes's successor. Against all three, Mr. Porro alleged that they violated the Constitution's prohibitions against the use of excessive force. Mr. Porro appeared to sue Messrs. Lovett and Barnes in their individual capacities, and Messrs. Barnes and Bryant in their official capacities.At summary judgment, the district court entered a pair of rulings. First, it entered judgment for Mr. Porro against Mr. Lovett and awarded damages of $100,000. The court found, among other things, that Mr. Lovett violated county rules prohibiting the use of a taser against a restrained detainee who presented no threat of harm, and that the force Mr. Lovett applied was constitutionally excessive. Second, the district court granted summary judgment to Messrs. Barnes and Bryant. The court held that Mr. Porro had come forward with no more than “supposition, conjecture and innuendo” to suggest Mr. Barnes's personal involvement or the county's culpability. Aplt.App. at 467. The court added that all the evidence adduced before it suggested that Mr. Lovett's tasering was no “more than a random act or isolated event which occurred outside of the policies and procedures implemented by Defendant Barnes.” Aplt.App. at 471.Only the district court's latter judgment-in favor of Messrs. Barnes and Bryant-is contested on appeal. While not entirely clear from the briefing before us, Mr. Porro appears to suggest that the court erred in two distinct ways. First, he seems to say, a triable question of fact exists on whether Mr. Barnes should be held liable in his individual capacity for his alleged personal role in the tasering incident. Second, Mr. Porro appears to suggest, a triable question exists on whether both Messrs. Barnes and Bryant should be held liable in their official capacities because the policy of the County's Sheriff's Office was the moving force behind his injury.We address these two arguments in turn. Because this case comes to us on summary judgment, we of course review it de novo and may affirm only if the facts, viewed in the light most favorable to Mr. Porro, warrant that result as a matter of law.IITo assess Mr. Porro's first argument-that Mr. Barnes is liable in his individual capacity for unconstitutional use of excessive force-we must begin by asking which constitutional standard controls before asking whether the evidence presented creates a triable question of fact under that standard.AOur first task in any § 1983 suit alleging a constitutional violation is “to isolate the precise constitutional violation with which [the defendant] is charged.” Baker v. McCollan, 443 U.S. 137, 140, 99 S.Ct. 2689, 61 L.Ed.2d 433 (1979). On this score, Mr. Porro doesn't offer much help: he alleges simply a violation of the “Fourth, Eighth, and Fourteenth” Amendments, without suggesting which one he thinks best applies to his case or offering any further explanation. See Amd. Compl. ¶ 3.The choice of amendment matters. Excessive force claims can be maintained under the Fourth, Fifth, Eighth, or Fourteenth Amendment-all depending on where the defendant finds himself in the criminal justice system-and each carries with it a very different legal test. So, because the Fourth Amendment protects against “unreasonable searches and seizures” and pertains to the events leading up to and including an arrest of a citizen previously at liberty, excessive force claims arising during this period are generally reviewed under a relatively exacting “objective reasonableness” standard. See Graham v. Connor, 490 U.S. 386, 394-95, 109 S.Ct. 1865, 104 L.Ed.2d 443 (1989); Austin v. Hamilton, 945 F.2d 1155, 1160 (10th Cir.1991) (holding that the Fourth Amendment applies until formal charges are brought or an arraignment is held because force used is part of the “seizure”), abrogated on other grounds, Johnson v. Jones, 515 U.S. 304, 115 S.Ct. 2151, 132 L.Ed.2d 238 (1995).Meanwhile, prisoners already convicted of a crime who claim that their punishments involve excessive force must proceed under the more restrictive terms of the Eighth Amendment's “cruel and unusual punishments” clause. Here, we ask only whether the “force was applied in a good-faith effort to maintain or restore discipline, or maliciously and sadistically to cause harm.” See Hudson v. McMillan, 503 U.S. 1, 6-7, 112 S.Ct. 995, 117 L.Ed.2d 156 (1992); Ingraham v. Wright, 430 U.S. 651, 671 n. 40, 97 S.Ct. 1401, 51 L.Ed.2d 711 (1977).And when neither the Fourth nor Eighth Amendment applies-when the plaintiff finds himself in the criminal justice system somewhere between the two stools of an initial seizure and post-conviction punishment-we turn to the due process clauses of the Fifth or Fourteenth Amendment and their protection against arbitrary governmental action by federal or state authorities. See County of Sacramento v. Lewis, 523 U.S. 833, 843, 118 S.Ct. 1708, 140 L.Ed.2d 1043 (1998). Take the example of an arraigned pretrial detainee who brings an excessive force claim. He doesn't dispute that he's been lawfully seized and committed to pretrial detention, and he isn't complaining about any punishment meted out as part of a post-conviction sentence. Instead, his complaint is about arbitrary governmental action, taken without due process, while he is detained awaiting trial. In these circumstances, our precedent instructs us to focus on three factors: “(1) the relationship between the amount of force used and the need presented; (2) the extent of the injury inflicted; and (3) the motives of the state actor.” Roska v. Peterson, 328 F.3d 1230, 1243 (10th Cir.2003). We've also said that “[f]orce inspired by malice or by unwise, excessive zeal amounting to an abuse of official power that shocks the conscience may be redressed under the Fourteenth Amendment.”\\nId (internal quotation and alterations omitted).We hold that it is this last, due process, standard that controls excessive force claims brought by federal immigration detainees like Mr. Porro. Why he was being detained at the Jefferson County Jail-whether, for example, he had violated his parole or was awaiting deportation-Mr. Porro does not tell us. But neither does he dispute that he had been lawfully seized and detained. In this way, he is unlike the citizen who complains about the force used to effect his seizure in his initial encounter with the police, which would trigger the Fourth Amendment's protections. Mr. Porro also appears to be unlike the convicted prisoner who may be lawfully subjected to punishment as part of his sentence, but who complains that his punishment involves excessive force and so must resort to the Eighth Amendment. No one alleges that Mr. Porro's detention came after any conviction. In these circumstances-circumstances in which many federal immigration detainees' claims of excessive force must surely arise-Mr. Porro appears to walk in much the same shoes as an arraigned pre-trial detainee. He is therefore protected by the due process clause (in this case, the Fourteenth Amendment's due process clause, given that Mr. Porro's complaint is against state officials). We note that other courts confronting the status of immigration detainees before us have reached this same conclusion, assessing their excessive force claims under the due process rubric. See, e.g., Edwards v. Johnson, 209 F.3d 772, 778 (5th Cir.2000); Sidorov v. Sabol, 2010 WL 500415, *2 n. 2 (M.D.Pa. Feb.4, 2010).BThat much straightened out, we agree with the district court that Mr. Porro cannot make out an excessive force claim against Mr. Barnes. And this is because there's no evidence of his direct personal responsibility for the force used against Mr. Porro. In our due process precedent we have said that we examine the force used, the injury inflicted, and relevant motives. But in each instance, the focus must always be on the defendant-on the force he used or caused to be used, on the injury he inflicted or caused to be inflicted, and on his motives. This is because § 1983 isn't a strict liability offense. It renders liable only those persons “who, under color of any [state law] ․ subject[ ], or cause[ ] to be subjected, any citizen” to a deprivation of his or her lawful rights. 42 U.S.C. § 1983. From this statutory language, it is evident that “[i]n order for liability to arise under § 1983, a defendant's direct personal responsibility for the claimed deprivation of a constitutional right must be established.” Trujillo v. Williams, 465 F.3d 1210, 1227 (10th Cir.2006) (emphasis added); see also Novitsky v. City of Aurora, 491 F.3d 1244, 1254 (10th Cir.2007) (requiring that the defendant have “personally participated” in the constitutional deprivation and holding that mere presence at the scene was insufficient).Viewed through this prism, Mr. Porro can satisfy none of the due process factors against Mr. Barnes individually.1 True enough, Mr. Porro was subjected to force, injured by it, and an improper motive was involved. But all this came at Mr. Lovett's hands and as a result of his motives. When it comes to Mr. Barnes, the undisputed facts show that Mr. Barnes did not employ any force on Mr. Porro and was not present when the force was applied. Neither does the record suggest Mr. Barnes gave any advance approval to the use of a taser on Mr. Porro. Though Mr. Porro says that Mr. Barnes knew CERT members “planned” to taser him and assented to it, this claim is, as the district court observed, based on innuendo and speculation rather than fact. The facts to which Mr. Porro himself stipulated indicate that Mr. Barnes did not hear any prior discussions among members of the CERT that a taser was going to be used, or might be used, on Mr. Porro. Aplt. Appx. at 15, 272. The record likewise lacks any evidence suggesting that Mr. Barnes caused any of Mr. Porro's injuries, or bore malice or exhibited excessive zeal toward him.To all this, Mr. Porro seems to reply that Mr. Barnes should be held liable by virtue of the fact that he was Mr. Lovett's supervisor. But even assuming Mr. Barnes enjoyed supervisory authority over Mr. Lovett and the rest of the CERT-a question suggested by the parties' briefs but which we need not explore-that isn't enough to generate a triable question of liability.Just as § 1983's plain language doesn't authorize strict liability, it doesn't authorize respondeat superior liability. The plain language of the statute, again, asks simply whether the defendant at issue “subject[ed], or cause[d] to be subjected ” a plaintiff to a deprivation of his legal rights. 42 U.S.C. § 1983 (emphasis added). To establish a violation of § 1983 by a supervisor, as with everyone else, then, “the plaintiff must establish a deliberate, intentional act” on the part of the defendant “to violate [the plaintiff's legal] rights.” Serna v. Colo. Dep't. of Corr., 455 F.3d 1146, 1151 (10th Cir.2006) (internal quotation marks omitted); see also Jenkins v. Wood, 81 F.3d 988, 994 (10th Cir.1996) (“[T]here is no concept of strict supervisor liability.”) (internal quotation omitted); Coleman v. Turpen, 697 F.2d 1341, 1346 n. 7 (10th Cir.1982).In the due process context, this means the focus is on the force the supervisor used or caused to be used, the resulting injury attributable to his conduct, and the mens rea required of him to be held liable, which can be no less than the mens rea required of anyone else. See Ashcroft v. Iqbal, ---U.S. ----, ----, 129 S.Ct. 1937, 1949, 173 L.Ed.2d 868 (2009); Dodds v. Richardson, 614 F.3d 1185, 1204 (10th Cir.2010) (a plaintiff can “no longer succeed on a § 1983 claim ․ by showing that as a supervisor [the defendant] behaved knowingly or with deliberate indifference that a constitutional violation would occur at the hands of his subordinates, unless that is the same state of mind required for the constitutional deprivation he alleges”) (internal quotation omitted). Simply put, there's no special rule of liability for supervisors. The test for them is the same as the test for everyone else. And as we've already explained, Mr. Porro's claim against Mr. Barnes fails that test.IIIEven if Mr. Barnes isn't liable in his individual capacity, Mr. Porro argues that Mr. Barnes-and Mr. Bryant-are liable in their official capacities for violating his constitutional due process rights by failing to train CERT members adequately. Suing individual defendants in their official capacities under § 1983, we've recognized, is essentially another way of pleading an action against the county or municipality they represent. See Monell v. Dep't of Soc. Serv. of New York, 436 U.S. 658, 690 n. 55, 98 S.Ct. 2018, 56 L.Ed.2d 611 (1978); Barney v. Pulsipher, 143 F.3d 1299, 1307 (10th Cir.1998). Because of this, we apply the standard of liability to municipalities and counties in assessing whether Mr. Porro's official capacity claim for failure to train survives summary judgment. See Kentucky v. Graham, 473 U.S. 159, 165-66, 105 S.Ct. 3099, 87 L.Ed.2d 114 (1985); see also Dodds, 614 F.3d at 1202 (noting that although Iqbal clarified the standards for assessing supervisory liability, “[n]othing in Iqbal contradicts” the standards for municipal liability under § 1983).To prevail under this standard, Mr. Porro must demonstrate, among other things, that “the need for more or different training [was] so obvious, and the inadequacy so likely to result in the violation of [his due process] rights, that the policymakers of the [county] can reasonably be said to have been deliberately indifferent to the need for additional training.” Jenkins, 81 F.3d at 994 (internal quotation omitted). It isn't enough to “show that there were general deficiencies in the county's training program for jailers.”\\nLopez v. LeMaster, 172 F.3d 756, 760 (10th Cir.1999). Rather, a plaintiff must “identify a specific deficiency” that was obvious and “closely related” to his injury, id., so that it might fairly be said that the official policy or custom was both deliberately indifferent to his constitutional rights and the moving force behind his injury, see City of Canton v. Harris, 489 U.S. 378, 385, 109 S.Ct. 1197, 103 L.Ed.2d 412 (1989).Mr. Porro cannot shoulder that burden in this case. The undisputed facts show that the county trained jailers to use tasers only if and when an inmate should become violent, combative, and pose a direct threat to the security of staff. The record also shows that Mr. Lovett knew he was acting in defiance of this policy when he tasered Mr. Porro. See Aplt.App. at 16, 110. From this undisputed evidence, any reasonable fact finder would have to conclude that-far from exhibiting deliberate indifference to Mr. Porro's due process rights against the use of excessive force or causing his injury-the county actively sought to protect those rights and it was (only) Mr. Lovett's improper actions, taken in defiance of county policy, that caused Mr. Porro's injuries. See id. at 16, 110, 273.2 To this, Mr. Porro replies that the county exhibited deliberate indifference by failing to enforce a putative federal policy that completely bans the use of tasers on immigration detainees. In pursuing this line, Mr. Porro seems to assume that the putative federal policy and the Constitution are congruent, so that a failure to train on the former is incontrovertible evidence that the latter was offended. The failure to abide by the federal policy apparently amounts, in his view, to automatic or per se proof of deliberate indifference. Cf. Restatement (Third) of Torts: Liability for Physical and Emotional Harm § 14 (2010) (discussing statutory violations as negligence per se ).3 The problem is that Mr. Porro never seeks to explain how or why the violation of the federal policy (assuming it existed and controlled in a county jail) necessarily demonstrates deliberate indifference to his constitutional due process rights. It is his burden to establish that the Constitution, not just a policy, is implicated. Yet he overlooks this necessity altogether. Cf. Jolivet v. Cook, 1995 WL 94496, *2 (10th Cir.1995) (unpublished) (“Plaintiff notes that defendants admitted they violated prison policy on use of taser weapons. However, violation of a prison regulation does not give rise to an Eighth Amendment violation absent evidence the prison official's conduct failed to conform to the constitutional standard.”).No doubt Mr. Porro hasn't sought to carry this burden because he can't. Policies are often prophylactic, setting standards of care higher than what the Constitution requires. And that's surely the case here. While the putative federal policy may totally forbid the use of tasers on immigration detainees, the Constitution doesn't go so far. The use of tasers in at least some circumstances-such as in a good faith effort to stop a detainee who is attempting to inflict harm on others-can comport with due process. Cf. Hinton v. City of Elwood, 997 F.2d 774, 777 (10th Cir.1993) (holding, in the Fourth Amendment context, that it is not excessive force for officers to use an “electrical stun gun” on a man resisting arrest); Hunter v. Young, 238 F. App'x 336, 339 (10th Cir.2007) (unpublished) (use of taser is not per se unconstitutional when used to compel obedience by inmates); Draper v. Reynolds, 369 F.3d 1270, 1278 (11th Cir.2004); Jasper v. Thalacker, 999 F.2d 353, 354 (8th Cir.1993); Caldwell v. Moore, 968 F.2d 595, 602 (6th Cir.1992); Michenfelder v. Sumner, 860 F.2d 328, 335-36 (9th Cir.1988).Simply put, the failure to enforce a prophylactic policy imposing a standard of care well in excess of what due process requires cannot be-and we hold is not-enough by itself to create a triable question over whether county officials were deliberately indifferent to the Constitution. This isn't to say, of course, a county's failure to train its employees in a prophylactic policy is always or categorically irrelevant to the question of deliberate indifference. We need and do reject only Mr. Porro's claim that such a failure alone suffices to make out a claim of deliberate indifference.* * *Mr. Porro won a significant judgment against Mr. Lovett, the individual who tasered him. With this result, no party to this appeal has any quarrel. We hold only, as did the district court, that Mr. Porro has failed to adduce evidence suggesting that Messrs. Barnes or Bryant also bear legal responsibility for the violation of his constitutional rights. The judgment of the district court isAffirmed.GORSUCH, Circuit Judge.\\n\\n\\n\\n\\n\\n\\n\\n\\n\\n\\n\\n\\n\\n\\n\\n\\n\\n\\n\""
      ]
     },
     "execution_count": 32,
     "metadata": {},
     "output_type": "execute_result"
    }
   ],
   "source": [
    "model[3].case_text[0]"
   ]
  },
  {
   "cell_type": "code",
   "execution_count": 226,
   "metadata": {},
   "outputs": [
    {
     "data": {
      "text/plain": [
       "76"
      ]
     },
     "execution_count": 226,
     "metadata": {},
     "output_type": "execute_result"
    }
   ],
   "source": [
    "html = model[3].html_format[4213]\n",
    "\n",
    "# content = requests.get(html).content\n",
    "soup = BeautifulSoup(html, 'lxml')\n",
    "\n",
    "\n",
    "list_of_paragraphs = []\n",
    "for paragaph in soup.findAll('p'): \n",
    "    list_of_paragraphs.append(str(paragaph.text.encode('ascii', 'ignore')).replace(\"'\", \"\"))\n",
    "# print(model[3].html_format[0])\n",
    "\n",
    "len(list_of_paragraphs)"
   ]
  },
  {
   "cell_type": "code",
   "execution_count": 231,
   "metadata": {},
   "outputs": [
    {
     "data": {
      "text/plain": [
       "((76, 1122), 76)"
      ]
     },
     "execution_count": 231,
     "metadata": {},
     "output_type": "execute_result"
    }
   ],
   "source": [
    "### Step 1: Vectorize and apply Tf-IDF weights on the case\n",
    "\n",
    "cleaned_text = clean_text(list_of_paragraphs)\n",
    "\n",
    "# tokenized= tokenize(list_of_paragraphs)\n",
    "# remove_stops = remove_stop_words(tokenized)\n",
    "# cleaned_text = stem_words(remove_stops)\n",
    "\n",
    "list_of_strings = [\" \".join(lst) for lst in cleaned_text]\n",
    "\n",
    "vectorizer = TfidfVectorizer(stop_words='english')\n",
    "vectors = vectorizer.fit_transform(list_of_strings)\n",
    "\n",
    "vectors.shape, len(list_of_paragraphs)"
   ]
  },
  {
   "cell_type": "code",
   "execution_count": 232,
   "metadata": {},
   "outputs": [
    {
     "name": "stdout",
     "output_type": "stream",
     "text": [
      "([69, 20, 44, 40, 39, 14, 37, 46, 51, 68], ['What is the penalty for drug trafficking?'])\n"
     ]
    }
   ],
   "source": [
    "query = ['What is the penalty for drug trafficking?']\n",
    "### Step 2: Vectorize the query\n",
    "\n",
    "cleaned_query = clean_text(query)\n",
    "query_list_of_strings = [\" \".join(lst) for lst in cleaned_query]\n",
    "tokenized_query = vectorizer.transform(query_list_of_strings)\n",
    "\n",
    "cosine_similarities = linear_kernel(tokenized_query, vectors) \n",
    "top_results = (get_top_values(cosine_similarities[0], 10), query)\n",
    "print(top_results)"
   ]
  },
  {
   "cell_type": "code",
   "execution_count": 233,
   "metadata": {},
   "outputs": [
    {
     "data": {
      "text/plain": [
       "[69, 20, 44, 40, 39, 14, 37, 46, 51, 68]"
      ]
     },
     "execution_count": 233,
     "metadata": {},
     "output_type": "execute_result"
    }
   ],
   "source": [
    "top_results[0]"
   ]
  },
  {
   "cell_type": "code",
   "execution_count": 234,
   "metadata": {},
   "outputs": [
    {
     "name": "stdout",
     "output_type": "stream",
     "text": [
      "['What is the penalty for drug trafficking?']\n",
      "b5.As noted above, aggravated felony includes the illicit trafficking in a controlled substance  including a drug trafficking crime (as defined in section 924(c) of Title 18).  Although it does not matter in application, we note that a drug offense with a trafficking element is illicit trafficking and a drug offense that is punishable as a felony under federal law is a drug trafficking crime.\n"
     ]
    }
   ],
   "source": [
    "# print(tokenized_query.todense())\n",
    "# vectorizer.vocabulary_\n",
    "# print(list_of_strings)\n",
    "# data= model[3].case_text[2939].split('\\n')\n",
    "print(query)\n",
    "# print(list_of_strings)\n",
    "print(list_of_paragraphs[69])\n"
   ]
  },
  {
   "cell_type": "code",
   "execution_count": 435,
   "metadata": {},
   "outputs": [],
   "source": [
    "def highlight_key_query_words(question, most_relevant_part):\n",
    "    \"\"\"\n",
    "    :param question:\n",
    "    :param most_relevant_part:\n",
    "    :return:\n",
    "    \"\"\"\n",
    "    # print(question)\n",
    "    # print(most_relevant_part)\n",
    "    final_results = []\n",
    "    stop = set(stopwords.words('english'))\n",
    "    parse_query = \"\".join(question).split(' ')\n",
    "    parse_query = clean_text(parse_query)\n",
    "    \n",
    "    most_relevant = most_relevant_part.split(' ')\n",
    "    check_result = clean_text(most_relevant)\n",
    "    # print(len(most_relevant))\n",
    "    # print(len(check_result))\n",
    "    #\n",
    "    # print(most_relevant)\n",
    "    # print(check_result)\n",
    "\n",
    "    for ind, word in enumerate(most_relevant):\n",
    "        if check_result[ind] in parse_query and check_result[ind] != []:\n",
    "#             final_results.append('<b>' + word + '</b>') ## If rendering on HTML\n",
    "            final_results.append('\\033[1m' + word + '\\033[0m') ## Python\n",
    "        else:\n",
    "            final_results.append(word)\n",
    "\n",
    "#     return \" \".join(('...', ' '.join(final_results), '<b>' + '... Continue reading case' + '</b>' )) HTML\n",
    "    return \" \".join(('...', ' '.join(final_results), '\\033[1m' + '... Continue reading case' + '\\033[0m')) ## Python\n",
    "\n",
    "def get_most_relevant_part(case_index, corpus_df, query, top_n=3, highlight_num=1):\n",
    "    \"\"\"\n",
    "    :param case_index: int, the index of the case\n",
    "    :param corpus_df: pandas dataframe, for the entire corpus of cases\n",
    "    :param query: string, of the web-input query\n",
    "    :param top_n: int, the top n matching paragraphs with query\n",
    "    :returns query: the original query,\n",
    "            top_result: list, of top indexed matching paragraphs,\n",
    "            list_of_paragraphs:\n",
    "\n",
    "    Two use cases: \n",
    "        (1) if highlight_num == 1 then it's to return for single highlighting. \n",
    "            See highlight_key_query_words() for example. \n",
    "        (2) if highlight_num > 1 then this function is for returning the list of 3 most\n",
    "        relevant parts of a text to be highlighted once a user clicks on the search result. \n",
    "    \n",
    "    \"\"\"\n",
    "    ## Step 1: Load up the data frame\n",
    "    html = corpus_df.html_format[case_index]\n",
    "    soup = BeautifulSoup(html, 'lxml')\n",
    "\n",
    "    ## Step 2: Parse the case into a list of strings\n",
    "    list_of_paragraphs = []\n",
    "    for paragaph in soup.findAll('p'):\n",
    "        list_of_paragraphs.append(paragaph.getText())\n",
    "\n",
    "    ## Step 3: Parse case and vectorize with Tf-IDF weights\n",
    "    cleaned_text = clean_text(list_of_paragraphs)\n",
    "    list_of_strings = [\" \".join(lst) for lst in cleaned_text]\n",
    "    vectorizer = TfidfVectorizer(stop_words='english')\n",
    "    vectors = vectorizer.fit_transform(list_of_strings)\n",
    "\n",
    "    ## Step 4: Vectorize Query\n",
    "#     query_list = [query]\n",
    "    cleaned_query = clean_text(query)\n",
    "    query_list_of_strings = [\" \".join(lst) for lst in cleaned_query]\n",
    "    tokenized_query = vectorizer.transform(query_list_of_strings)\n",
    "\n",
    "    ## Step 5: Run Cosine Similarity on Query and Case Text\n",
    "    cosine_similarities = linear_kernel(tokenized_query, vectors)\n",
    "    top_results = [i for i in np.argsort(cosine_similarities[0])[-1:-top_n - 1:-1]]\n",
    "\n",
    "    if highlight_num == 1: \n",
    "        highlight_output = list_of_paragraphs[top_results[0]]\n",
    "    \n",
    "    elif highlight_num == 2: \n",
    "        highlight_output = [list_of_paragraphs[ind] for ind in top_results[0:2]]  \n",
    "    else: \n",
    "        highlight_output = [list_of_paragraphs[ind] for ind in top_results[0:3]]   \n",
    "        \n",
    "    return highlight_output  ## Returns top 3 indexed cases\n"
   ]
  },
  {
   "cell_type": "markdown",
   "metadata": {},
   "source": [
    "## QUERY: What is the penalty for drug trafficking?\n",
    "## Index of RESULTS [2939, 4213, 3703, 695, 1810, 3397, 3311, 2663, 177, 1587]\n"
   ]
  },
  {
   "cell_type": "code",
   "execution_count": 286,
   "metadata": {},
   "outputs": [],
   "source": [
    "# What is the penalty for drug trafficking?\n",
    "## FLASK RESULT: [2269, 1219, 1416, 2458, 4468, 1769, 1948, 2035, 4466, 1927]\n",
    "## result.py RESULT: [1537, 1659, 2446, 1761, 1868, 1927, 82, 1272, 864, 3177]\n",
    "\n",
    "\n"
   ]
  },
  {
   "cell_type": "code",
   "execution_count": 421,
   "metadata": {},
   "outputs": [
    {
     "name": "stdout",
     "output_type": "stream",
     "text": [
      "... \u001b[1mTrafficking\u001b[0m in eight (8) or more ounces but less than five (5) pounds of marijuana is: \u001b[1m... Continue reading case\u001b[0m\n"
     ]
    }
   ],
   "source": [
    "\n",
    "## Make sure query is in a LIST, otherwise WON'T WORK!\n",
    "legal_query = ['What is the penalty for drug trafficking?']\n",
    "data = model[3]\n",
    "index = 2269\n",
    "html = data.html_format[index]\n",
    "\n",
    "results = get_most_relevant_part(index, data, legal_query, top_n=3, highlight_num = 1)\n",
    "# print(results)\n",
    "highlights = highlight_key_query_words(legal_query, results)\n",
    "print(highlights)\n",
    "\n",
    "# print(list_of_paragraphs[23])\n"
   ]
  },
  {
   "cell_type": "markdown",
   "metadata": {},
   "source": [
    "## Finding top 3 most relevant parts of the text"
   ]
  },
  {
   "cell_type": "code",
   "execution_count": 439,
   "metadata": {},
   "outputs": [
    {
     "name": "stdout",
     "output_type": "stream",
     "text": [
      "3\n",
      "['Trafficking in eight (8) or more ounces but less than five (5) pounds of marijuana is:', \"The BIA correctly determined that Garcia-Echaverria's Kentucky drug conviction constitutes an “aggravated felony” within the meaning of the INA. The term “aggravated felony” is defined through a list of qualifying offenses, which includes: \\u2009“illicit trafficking in a controlled substance (as defined in section 802 of Title 21), including a drug trafficking crime (as defined in section 924(c) of Title 18).” \\u20028 U.S.C. §\\u20021101(a)(43)(B). \\u2002In §\\u2002924(c), “the term ‘drug trafficking crime’ means any felony punishable under the Controlled Substances Act (21 U.S.C. 801 et seq.),” or one of two other federal acts not relevant here. \\u200218 U.S.C. §\\u2002924(c)(2).\", \"Under the BIA's approach, a state drug conviction constitutes an “aggravated felony” under either of two routes. \\u2002 Under the first route, a felony state drug conviction is an “aggravated felony” under §\\u2002924(c)(2) if it contains a trafficking element. \\u2002 Under the second route, a state drug conviction, either a felony or a misdemeanor, is an “aggravated felony” if it would be punishable as a felony under the Controlled Substances Act.\"]\n",
      "Trafficking in eight (8) or more ounces but less than five (5) pounds of marijuana is:\n",
      "The BIA correctly determined that Garcia-Echaverria's Kentucky drug conviction constitutes an “aggravated felony” within the meaning of the INA. The term “aggravated felony” is defined through a list of qualifying offenses, which includes:  “illicit trafficking in a controlled substance (as defined in section 802 of Title 21), including a drug trafficking crime (as defined in section 924(c) of Title 18).”  8 U.S.C. § 1101(a)(43)(B).  In § 924(c), “the term ‘drug trafficking crime’ means any felony punishable under the Controlled Substances Act (21 U.S.C. 801 et seq.),” or one of two other federal acts not relevant here.  18 U.S.C. § 924(c)(2).\n",
      "Under the BIA's approach, a state drug conviction constitutes an “aggravated felony” under either of two routes.   Under the first route, a felony state drug conviction is an “aggravated felony” under § 924(c)(2) if it contains a trafficking element.   Under the second route, a state drug conviction, either a felony or a misdemeanor, is an “aggravated felony” if it would be punishable as a felony under the Controlled Substances Act.\n"
     ]
    }
   ],
   "source": [
    "\n",
    "results = get_most_relevant_part(index, data, legal_query, top_n=3, highlight_num = 3)\n",
    "\n",
    "print(len(results))\n",
    "\n",
    "print(results)\n",
    "for i in results: \n",
    "    print(i)\n"
   ]
  },
  {
   "cell_type": "code",
   "execution_count": 406,
   "metadata": {},
   "outputs": [
    {
     "name": "stdout",
     "output_type": "stream",
     "text": [
      "54\n",
      "Trafficking in eight (8) or more ounces but less than five (5) pounds of marijuana is:\n"
     ]
    }
   ],
   "source": [
    "html = data.html_format[index]\n",
    "\n",
    "# content = requests.get(html).content\n",
    "soup = BeautifulSoup(html, 'lxml')\n",
    "\n",
    "list_of_paragraphs = []\n",
    "for paragaph in soup.findAll('p'): \n",
    "    list_of_paragraphs.append(paragaph.getText())\n",
    "# print(model[3].html_format[0])\n",
    "\n",
    "print(len(list_of_paragraphs))\n",
    "print(list_of_paragraphs[23])\n",
    "\n"
   ]
  },
  {
   "cell_type": "code",
   "execution_count": 381,
   "metadata": {},
   "outputs": [
    {
     "name": "stdout",
     "output_type": "stream",
     "text": [
      "[<div class=\"caselawcontent searchable-content\">\n",
      "<center>\n",
      "<h2>United States Court of Appeals,Sixth Circuit.</h2>\n",
      "<h3><p>Marco GARCIA-ECHAVERRIA, Petitioner-Appellant, v. UNITED STATES of America, Respondent-Appellee.</p></h3>\n",
      "<h3>No. 03-3285.</h3>\n",
      "<h3>    Decided: July 01, 2004</h3>\n",
      "</center>\n",
      "\t\tBefore:  MERRITT and MOORE, Circuit Judges;  DUGGAN, District Judge.  *Lawrence J. Kiroff (briefed), Assistant United States Attorney, Toledo, Ohio, for Appellee. Marco A. Garcia-Echaverria, El Paso, Texas, pro se.<!-- main body -->\n",
      "<p>OPINION</p><p>Marco Garcia-Echaverria (“Garcia-Echaverria”), pro se Petitioner-Appellant, appeals the district court's denial of his petition for habeas corpus relief.   Garcia-Echaverria was sentenced for a conviction of unlawful reentry, in violation of 8 U.S.C. § 1326(b), and the Immigration and Naturalization Service (“INS,” now the Department of Homeland Security “DHS,”) has reinstated the prior Final Order of Removal.   On appeal, Garcia-Echaverria argues that his initial removal was unlawful, and therefore that his current detention is unconstitutional.   Garcia-Echaverria contends that his initial removal was unlawful because the Immigration Judge (“IJ”) and the Board of Immigration Appeals (“BIA”) erred by concluding that Garcia-Echaverria's Kentucky drug conviction constitutes an “aggravated felony,” making him ineligible for relief from deportation/removal.<a href=\"#footnote_1\" name=\"footnote_ref_1\"><sup>1</sup></a>  Garcia-Echaverria also argues that his initial removal was unlawful because (1) the line that 8 U.S.C. § 1182(h) draws between illegal aliens (“non-LPRs”) and lawful permanent residents (“LPRs”) violates the Equal Protection Clause of the Fifth Amendment;  and (2) application of the provisions of the Antiterrorism and Effective Death Penalty Act of 1996 (“AEDPA”) and the Illegal Immigration Reform and Immigrant Responsibility Act of 1996 (“IIRIRA”), which make Garcia-Echaverria ineligible for relief from deportation/removal, raises retroactivity concerns.<a href=\"#footnote_2\" name=\"footnote_ref_2\"><sup>2</sup></a> </p><p>For the following reasons, we AFFIRM the district court's decision denying Garcia-Echaverria's petition for habeas corpus relief.</p><p>I. BACKGROUND</p><p>Garcia-Echaverria, a native and citizen of Mexico, entered the United States on or about January 1, 1980, and became a lawful permanent resident on or about January 26, 1990.<a href=\"#footnote_3\" name=\"footnote_ref_3\"><sup>3</sup></a>  On January 6, 1997, Garcia-Echaverria was convicted by the State of Kentucky pursuant to a guilty plea, entered on December 16, 1996, to the charge of “Trafficking Marijuana over 8 ounces, less than 5 pounds,” in violation of K.R.S. 218A.1421(3).   Joint Appendix (“J.A.”) at 141-42.   On January 10, 1997, the Kentucky Circuit Court sentenced Garcia-Echaverria to five years of imprisonment for his Kentucky drug conviction.</p><p>On May 13, 1997, the INS issued Garcia-Echaverria a Notice to Appear, charging that he was removable due to his Kentucky drug conviction under two sections of the Immigration and Nationality Act (“INA”)- § 237(a)(2)(A)(iii) (codified as 8 U.S.C. § 1227(a)(2)(A)(iii)) for being convicted of an “aggravated felony” and § 237(a)(2)(B)(i) (codified as 8 U.S.C. § 1227(a)(2)(B)(i)) for being convicted of a controlled substance offense.   On September 7, 1999, an IJ ordered Garcia-Echaverria removed from the United States. On July 20, 2000, the BIA dismissed Garcia-Echaverria's appeal, finding that a waiver of inadmissibility pursuant to § 212(c) of the INA (originally codified as 8 U.S.C. § 1182(c), but repealed by the IIRIRA, 104 Pub.L. No. 104-208, § 304(b), 110 Stat. 3009 (1996)), was not available to him, and that he was statutorily ineligible for cancellation of removal pursuant to § 240A(a) of the INA (codified at 8 U.S.C. § 1229b).</p><p>Garcia-Echaverria was found in the United States on August 31, 2001, when he was stopped for speeding by officers of the Ohio Highway Patrol at Fremont, Ohio. On October 3, 2001, a grand jury returned a one-count indictment, charging Garcia-Echaverria with being an alien found in the United States on or about August 31, 2001, after having been deported for committing an “aggravated felony” and without obtaining permission to reenter from the Attorney General, in violation of 8 U.S.C. § 1326(b).  After his motions to dismiss the indictment were denied, Garcia-Echaverria pleaded guilty on September 10, 2002, to the charge of unlawful reentry, and the district court sentenced him to thirty-seven months of imprisonment.   Prior to pleading guilty, Garcia-Echaverria filed on May 3, 2002, in the Northern District of Ohio, a petition for a writ of habeas corpus challenging his current detention.   On December 30, 2002, the district court denied Garcia-Echaverria's petition for habeas corpus.   Garcia-Echaverria filed a timely notice of appeal.</p><p>II. JURISDICTION</p><p> The district court had jurisdiction over Garcia-Echaverria's habeas petition pursuant to 28 U.S.C. § 2241.   Garcia-Echaverria filed both a direct appeal of his conviction for unlawful reentry and a habeas petition challenging his current detention.   Typically, a federal prisoner may file a § 2241 petition contesting the legality of his detention only if his claim is such that he cannot obtain effective relief on direct appeal or through a § 2255 motion.  Paulino v. United States, 352 F.3d 1056, 1060-61 (6th Cir.2003);  Bannerman v. Snyder, 325 F.3d 722, 723 (6th Cir.2003).   While an alien may file a § 2241 petition challenging his removal proceedings, an alien is not “in custody” for removal purposes if he is detained pursuant to a sentence for a criminal conviction, even if the INS has filed a detainer order with the prison where the petitioner is incarcerated.   Zolicoffer v. U.S. Dep't of Justice, 315 F.3d 538, 540-41 (5th Cir.2003) (collecting cases);  Prieto v. Gluch, 913 F.2d 1159, 1163-64 (6th Cir.1990), cert. denied, 498 U.S. 1092, 111 S.Ct. 976, 112 L.Ed.2d 1061 (1991).   In this case, however, at the time Garcia-Echaverria filed his § 2241 petition, the INS had already reinstated Garcia-Echaverria's prior Final Order of Removal.   The IIRIRA requires the INS to take custody of and commence procedures to execute the removal of an alien who is subject to a final order of removal based upon a conviction for an “aggravated felony.”  Simmonds v. INS, 326 F.3d 351, 356 (2d Cir.2003);  see also Mustata v. U.S. Dep't of Justice, 179 F.3d 1017, 1022 n. 4 (6th Cir.1999).   This requirement was strong evidence of the DHS's intention to take custody of Garcia-Echaverria immediately following the conclusion of his sentence, and thus satisfies the custody requirement for a § 2241 petition.   Because Garcia-Echaverria was in INS custody at the time he filed his habeas petition challenging the constitutionality of his confinement, the district court had jurisdiction pursuant to 28 U.S.C. § 2241.<a href=\"#footnote_4\" name=\"footnote_ref_4\"><sup>4</sup></a> </p><p> This court has jurisdiction over the appeal pursuant to 28 U.S.C. §§ 1291 and 2253.   Subsequent to this case being submitted on the briefs, Garcia-Echaverria completed his sentence for his § 1326(b) conviction, and Garcia-Echaverria is currently being detained by the DHS pending his removal.   Garcia-Echaverria's completion of his criminal sentence neither deprives us of jurisdiction over this appeal nor moots the claims asserted in the habeas petition that we are reviewing in this appeal.   Rosales-Garcia v. Holland, 322 F.3d 386, 394-96, 395 n. 6 (6th Cir.) (en banc), cert. denied, 539 U.S. 941, 123 S.Ct. 2607, 156 L.Ed.2d 627 (2003).   We review de novo questions of statutory interpretation raised in a § 2241 petition.  Mustata, 179 F.3d at 1019.</p><p>III. ANALYSIS</p><p> Garcia-Echaverria argues that the BIA erred by concluding that his Kentucky drug conviction was an “aggravated felony,” making him both deportable and ineligible for relief from deportation/removal.   Although Garcia-Echaverria concedes that his drug conviction is a felony under Kentucky law, he argues that it does not constitute an “aggravated felony” within the meaning of 8 U.S.C. § 1101(a)(43)(B) because the offense to which he pleaded guilty did not contain a trading or dealing element nor would it have been punishable as a felony under federal law.</p><p>The BIA correctly determined that Garcia-Echaverria's Kentucky drug conviction constitutes an “aggravated felony” within the meaning of the INA. The term “aggravated felony” is defined through a list of qualifying offenses, which includes:  “illicit trafficking in a controlled substance (as defined in section 802 of Title 21), including a drug trafficking crime (as defined in section 924(c) of Title 18).”  8 U.S.C. § 1101(a)(43)(B).  In § 924(c), “the term ‘drug trafficking crime’ means any felony punishable under the Controlled Substances Act (21 U.S.C. 801 et seq.),” or one of two other federal acts not relevant here.  18 U.S.C. § 924(c)(2).</p><p>There is some conflict regarding what elements must be present in order for a state offense to constitute a drug-trafficking crime within the meaning of 8 U.S.C. § 1101(a)(43)(B).  United States Sentencing Guideline (“U.S.S.G.”) § 2L1.2 requires a sentencing enhancement to be imposed for the crime of unlawful reentry, if the alien was deported after having committed a drug-trafficking crime.   Several circuits have held that in the sentencing context, the phrase “drug trafficking crime” includes offenses that would be punishable under the Controlled Substances Act (or two other federal acts not relevant here), so long as the offense is punishable as a felony under either state or federal law.  Gerbier v. Holmes, 280 F.3d 297, 299 (3d Cir.2002).   Under this interpretation, a drug offense that is punishable as a felony under state law could be considered an “aggravated felony,” for purposes of applying the enhancement contained in U.S.S.G. § 2L1.2, even if the conduct would have only been punishable as a misdemeanor under federal law.  Id.</p><p>The Third Circuit has defined 8 U.S.C. § 1101(a)(43)(B) differently for deportation purposes.  Id. According to the Third Circuit,</p><p>The BIA has interpreted § 924(c)(2) to require that, for deportation purposes, a state drug conviction, whether it be a felony or a misdemeanor, must either contain a “trafficking” component or be punishable as a felony under federal law in order for it to constitute an ‘aggravated felony.’   In contrast, several Courts of Appeals have interpreted the same language in § 924(c)(2), albeit in the Sentencing Guidelines context, to require that the state drug conviction need only be a felony under state law and that the state crime be punishable under the federal Controlled Substances Act, either as a felony or a misdemeanor.</p><p>Gerbier, 280 F.3d at 299 (emphases in original).   The Third Circuit has held that for deportation purposes, the BIA's interpretation of § 924(c)(2) is correct.  Id.</p><p>Under the BIA's approach, a state drug conviction constitutes an “aggravated felony” under either of two routes.   Under the first route, a felony state drug conviction is an “aggravated felony” under § 924(c)(2) if it contains a trafficking element.   Under the second route, a state drug conviction, either a felony or a misdemeanor, is an “aggravated felony” if it would be punishable as a felony under the Controlled Substances Act.</p><p>Id.</p><p>We have not taken a position, in either the Sentencing Guidelines context or the removal context, regarding what elements must be present in order for a state crime to constitute a drug-trafficking crime within the meaning of 8 U.S.C. § 1101(a)(43)(B), although we have held that at a minimum, a state conviction resulting from the sale of drugs for money qualifies.  Nakhleh v. INS, 38 F.3d 829, 831 (6th Cir.1994).   It is clear, however, that the BIA's approach is more favorable towards aliens.   Because we do not think that Garcia-Echaverria can succeed under even the BIA's more favorable approach, we will assume for the limited purpose of this appeal that the BIA's approach applies.</p><p>Garcia-Echaverria's conviction may not constitute an “aggravated felony” under the “trafficking” route.   Garcia-Echaverria pleaded guilty to K.R.S. 218A.1421(3), which provides:</p><p>Trafficking in eight (8) or more ounces but less than five (5) pounds of marijuana is:</p><p>(a) For a first offense a Class D felony.</p><p>(b) For a second or subsequent a Class C felony.</p><p>For purposes of K.R.S. 218A.1421, the term “traffic” “means to manufacture, distribute, dispense, sell, transfer, or possess with intent to manufacture, distribute, dispense, or sell a controlled substance.”  K.R.S. 218A.010(28).   It is undisputed that Garcia-Echaverria's conviction was a felony under Kentucky law, but the parties disagree over whether the offense contained a trafficking element.   According to the Third Circuit, trafficking requires “unlawful trading or dealing of a controlled substance.”  Gerbier, 280 F.3d at 305.   Garcia-Echaverria could have been convicted of violating K.R.S. 218A.1421(3) for possession with intent to sell.   Indeed, Garcia-Echaverria's indictment charges him with “knowingly and unlawfully traffick [ing] in marijuana by one pound of marijuana in his possession for purpose of resale.”   J.A. at 48.   It is not clear whether possession with intent to resell constitutes “unlawful trading or dealing,” and thus trafficking under this route.   See Gerbier, 280 F.3d at 313 (suggesting that “possession with intent to distribute” may constitute trading or dealing).   But see Wilson v. Ashcroft, 350 F.3d 377, 382 (3d Cir.2003) (remanding to the district court for consideration in the first instance of the question whether a conviction for possession with intent to distribute marijuana contains a trading and dealing element).</p><p>Garcia-Echaverria's conviction, however, constitutes an “aggravated felony” under the “hypothetical federal felony” route, making him both removable and ineligible for relief from removal.   Although Garcia-Echaverria asserts that the proper federal analogue for his Kentucky drug conviction is 21 U.S.C. § 844, an examination of the applicable statutes indicates that the proper analogue is actually 21 U.S.C. § 841(b).  Section 844(a) provides:</p><p>It shall be unlawful for any person knowingly or intentionally to possess a controlled substance unless such substance was obtained directly, or pursuant to a valid prescription or order, from a practitioner, while acting in the course of his professional practice․ Any person who violates this subsection may be sentenced to a term of imprisonment of not more than 1 year, and shall be fined a minimum of $1,000, or both ․</p><p>Section 841(a)(1) makes it unlawful to knowingly or intentionally, “manufacture, distribute, or dispense, or possess with intent to manufacture, distribute, or dispense, a controlled substance.” (emphasis added).  Section 841(b)(1)(D), the applicable penalty provision, further provides:</p><p>In the case of less than 50 kilograms of marihuana ․ such person shall, except as provided in paragraphs (4) and (5) of this subsection, be sentenced to a term of imprisonment of not more than 5 years, a fine not to exceed the greater of that authorized in accordance with the provisions of Title 18, or $250,000 if the defendant is an individual ․</p><p>To be convicted pursuant to KRS 218A.1421(3), Garcia-Echaverria must have, at a minimum, possessed with an intent to distribute, etc. between eight ounces and five pounds of marijuana.   Therefore, Garcia-Echaverria was punishable pursuant to 21 U.S.C. § 841(b)(1)(D), which carries a maximum punishment of five years, and thus constitutes a felony pursuant to 18 U.S.C. § 3559, which provides that a federal offense is a felony if its maximum penalty is greater than one year.</p><p>It is true that § 841(b)(4) provides:</p><p>Notwithstanding paragraph (1)(D) of this subsection, any person who violates subsection (a) of this section by distributing a small amount of marihuana for no remuneration shall be treated as provided in section 844 of this title and section 3607 of Title 18.</p><p>(emphasis added).   Garcia-Echaverria did not assert in his appellate brief that he falls within this escape-hatch provision.   Moreover, we conclude that his Kentucky drug conviction, which involved at least eight ounces of marijuana, does not fall within this provision,<a href=\"#footnote_5\" name=\"footnote_ref_5\"><sup>5</sup></a> and thus the proper federal analogue for Garcia-Echaverria's Kentucky drug conviction is § 841(b)(1)(D).  Therefore, Garcia-Echaverria's Kentucky drug conviction constitutes an “aggravated felony” under this route.<a href=\"#footnote_6\" name=\"footnote_ref_6\"><sup>6</sup></a> </p><p> Next, Garcia-Echaverria argues that denying him relief from deportation/removal pursuant to 8 U.S.C. § 1182(h) violated his rights under the Equal Protection Clause of the Fifth Amendment.   Although Garcia-Echaverria concedes that statutes that draw distinctions between different classes of aliens are subjected only to rational review, he argues that the distinction that 8 U.S.C. § 1182(h) draws between LPRs and non-LPRs is not rationally related to any legitimate government interest.</p><p>It is true that 8 U.S.C. § 1182(h) treats differently LPRs and non-LPRs, in that it allows the Attorney General to grant an adjustment of status to some non-LPRs who have been convicted of an “aggravated felony,” but prohibits the Attorney General from granting relief to LPRs who have been convicted of an “aggravated felony.”   While a district court in our circuit has held that this distinction violates equal protection, Roman v. Ashcroft, 181 F.Supp.2d 808, 812-14 (N.D.Ohio 2002), vacated on other grounds, 340 F.3d 314 (6th Cir.2003), several other circuits have held that this distinction survives the applicable rational-review standard.  Dipeppe v. Quarantillo, 337 F.3d 326, 331-32 (3d Cir.2003);  Lukowski v. INS, 279 F.3d 644, 647 (8th Cir.2002);  Lara-Ruiz v. INS, 241 F.3d 934, 946-48 (7th Cir.2001);  Moore v. Ashcroft, 251 F.3d 919, 924-26 (11th Cir.2001).</p><p>We have not yet ruled on this issue, and we may not do so in this case because Garcia-Echaverria does not have standing raise this challenge.  Section 1182(h) allows the Attorney General to grant an adjustment of status to some non-LPRs who have been convicted of certain crimes, including a violation of a law relating to a controlled substance, but only “insofar as it relates to a single offense of simple possession of 30 grams or less of marijuana.”   See 8 U.S.C. § 1182(a)(2)(A)(i)(II) and (h).  In 1996, § 348 of the IIRIRA amended 8 U.S.C. § 1182(a) to prohibit the Attorney General from granting a similar waiver to LPRs.<a href=\"#footnote_7\" name=\"footnote_ref_7\"><sup>7</sup></a> Garcia-Echaverria was convicted of possession with intent to distribute at least eight ounces of marijuana;  therefore, he would not have been eligible for an adjustment of status, even if he were a non-LPR, and regardless of the limitation imposed by § 348 of the IIRIRA.   Because Garcia-Echaverria would not have been eligible for an adjustment of status even if he were a non-LPR, he lacks standing to raise this challenge.</p><p> Garcia-Echaverria also argues that denying him the opportunity to apply for a waiver of deportation pursuant to § 212(c) of the INA had an impermissible retroactive effect because he committed his Kentucky drug offense prior to the repeal of that provision by the IIRIRA.</p><p>It is true that INS v. St. Cyr, 533 U.S. 289, 321-22, 121 S.Ct. 2271, 150 L.Ed.2d 347 (2001), held that denying some aliens the opportunity to apply for a waiver of deportation pursuant to § 212(c) of the INA has an impermissible retroactive effect.  St. Cyr held that denying the opportunity to apply for § 212(c) relief to aliens who had pleaded guilty in reliance upon the opportunity to apply for such relief would disrupt the quid pro quo of plea bargaining.  Id. at 321-24, 121 S.Ct. 2271.   By the time Garcia-Echaverria committed his Kentucky drug offense on May 31, 1996,<a href=\"#footnote_8\" name=\"footnote_ref_8\"><sup>8</sup></a> and certainly by the time he pleaded guilty on December 16, 1996, § 440(d) of the AEDPA <a href=\"#footnote_9\" name=\"footnote_ref_9\"><sup>9</sup></a> made him ineligible for a discretionary waiver of deportation.   AEDPA, Pub.L. No. 104-132, § 440(d), 110 Stat. 1214 (1996);  8 U.S.C. § 1227(a)(2)(A)(iii) and (B). St. Cyr aids only those aliens whose “convictions were obtained through plea agreements and who, notwithstanding those convictions, would have been eligible for [discretionary cancellation of removal] at the time of their plea under the law then in effect.”  533 U.S. at 326, 121 S.Ct. 2271 (emphasis added).   Because he pleaded guilty and became ineligible for a waiver of deportation after the AEDPA was enacted on April 24, 1996, denying Garcia-Echaverria relief from deportation/removal does not raise any retroactivity concerns.   Although Garcia-Echaverria was convicted pursuant to a guilty plea prior to the effective date of the IIRIRA, he could not have pleaded guilty in reliance on his ability to obtain a discretionary cancellation of removal because under the AEDPA he was not eligible for relief at the time he pleaded guilty.</p><p>IV. CONCLUSION</p><p>For the forgoing reasons, we AFFIRM the district court's denial of Garcia-Echaverria's petition for a writ of habeas corpus.</p><p>FOOTNOTES</p><p><a href=\"#footnote_ref_1\" name=\"footnote_1\">1</a>.   The Illegal Immigration Reform and Immigrant Responsibility Act of 1996 (“IIRIRA”) adopted “the term ‘removal,’ which essentially eliminated a distinction that formerly existed between ‘deportation’ proceedings and ‘exclusion proceedings.’   Thus, a determination whether an alien is ‘inadmissible’ (i.e., cannot, or did not, enter the country lawfully), or ‘deportable’ (i.e., entered the country lawfully but is no longer entitled to stay), would be determined through ‘removal’ proceedings.”  Balogun v. U.S. Att'y Gen., 304 F.3d 1303, 1306-07 (11th Cir.2002) (citations omitted).</p><p><a href=\"#footnote_ref_2\" name=\"footnote_2\">2</a>.   In his appeal of the district court's denial of his habeas petition, Garcia-Echaverria also argues that his initial removal was unlawful because the INS removed him while his Kentucky drug conviction was on direct appeal, while his appeal of the BIA's order of removal and his motion for a stay of removal were pending before the United States Court of Appeals for the Fifth Circuit, after the United States District Court for the Southern District of New York (“S.D.N.Y.”) had transferred his habeas petition to the United States District Court for the Western District of Louisiana, and after the S.D.N.Y. had issued a stay of removal.   These issues are discussed fully in United States v. Garcia-Echaverria, 03-3655, Garcia-Echaverria's direct appeal of his conviction for unlawful reentry.</p><p><a href=\"#footnote_ref_3\" name=\"footnote_3\">3</a>.   In this opinion, we recount only the facts relevant to the issues we are addressing solely in Garcia-Echaverria's appeal of the district court's denial of his habeas petition.   Our opinion in United States v. Garcia-Echaverria, 03-3655, includes a more complete statement of facts, including those bearing on issues that Garcia-Echaverria raised in both his direct appeal of his conviction for unlawful reentry and his appeal of the denial of his habeas petition.</p><p><a href=\"#footnote_ref_4\" name=\"footnote_4\">4</a>.   Because Garcia-Echaverria was convicted of unlawful reentry, he had the opportunity in his direct appeal to attack collaterally the legality of his prior deportation.   We conclude, however, that the district court's jurisdiction over a § 2241 petition should not turn upon the particular crime of which the petitioner has been convicted.</p><p><a href=\"#footnote_ref_5\" name=\"footnote_5\">5</a>.   We have no binding precedent defining “small amount” within the meaning of § 841(b)(4).   Garcia-Echaverria, however, possessed at least eight ounces, which is not a “small amount.”   The escape-hatch provision is designed to address the casual sharing of marijuana;  behavior that is akin to mere possession rather than distribution.   Although distribution of eight ounces of marijuana may be a small-scale drug transaction, distribution of eight ounces is more than casual sharing.</p><p><a href=\"#footnote_ref_6\" name=\"footnote_6\">6</a>.   But see Wilson v. Ashcroft, 350 F.3d 377, 382 (3d Cir.2003) (holding that pursuant to § 841(b)(4), the proper federal analogue for a state conviction for possession with intent to distribute more than one ounce but less than five pounds of marijuana was 21 U.S.C. § 844 because the state offense failed to include remuneration as an element).</p><p><a href=\"#footnote_ref_7\" name=\"footnote_7\">7</a>.   Section 348(a) of the IIRIRA provides:  “No waiver shall be granted under this subsection in the case of an alien who has previously been admitted to the United States as an alien lawfully admitted for permanent residence if either since the date of such admission the alien has been convicted of an aggravated felony or the alien has not lawfully resided continuously in the United States for a period of not less than 7 years immediately preceding the date of initiation of proceedings to remove the alien from the United States.   No court shall have jurisdiction to review a decision of the Attorney General to grant or deny a waiver under this subsection.”   IIRIRA, Pub.L. No. 104-208, § 348(a), 110 Stat. 3009 (1996).   This limitation became effective immediately upon the enactment of the IIRIRA in September 1996.   See id. at § 348(b).At the time Garcia-Echaverria committed his offense conduct on May 31, 1996, and when he pleaded guilty of December 16, 1996, the Attorney General was prohibited from granting a waiver to aliens who had been convicted of a controlled substance offense, except for simple possession of less than thirty grams of marijuana.  8 U.S.C. § 1182(h)(1995).Although it does not appear that Garcia-Echaverria has raised a retroactivity argument regarding § 348 of the IIRIRA, any such argument would be without merit due to the fact that he was ineligible for such relief prior to the enactment of the IIRIRA.</p><p><a href=\"#footnote_ref_8\" name=\"footnote_8\">8</a>.   We note that the Supreme Court's retroactivity analysis in St. Cyr, 533 U.S. 289, 320-23, 121 S.Ct. 2271, 150 L.Ed.2d 347 (2001), turned upon the timing of the defendant's plea in relation to the repeal of § 212(c) relief, not upon the timing of the defendant's criminal conduct in relation to the repeal of § 212(c).</p><p><a href=\"#footnote_ref_9\" name=\"footnote_9\">9</a>.   Prior to the enactment of the AEDPA, § 212(c) of the INA (codified at 8 U.S.C. § 1182(c)(1995)) allowed the Attorney General to exercise his discretion and waive the deportation of a lawful permanent resident alien, meeting certain requirements, who was excludable by reason of having committed an “aggravated felony,” except the Attorney General had no discretion to admit:an alien who has been convicted of one or more aggravated felonies and has served for such felony or felonies a term of imprisonment of at least 5 years.8 U.S.C. § 1182(c)(1995);  St. Cyr, 533 U.S. at 294-95, 121 S.Ct. 2271 (explaining that although § 212(c) on its face only applies to exclusion proceedings, it had been interpreted as allowing lawful permanent residents to seek a waiver of deportation).   At that time, the term “aggravated felony” included, “illicit trafficking in a controlled substance (as defined in section 102 of the Controlled Substances Act [21 USCS § 802] ), including a drug trafficking crime (as defined in section 924(c) of title 18, United States Code).”  8 U.S.C. § 1101(a)(43)(B)(1995).   An alien convicted of illicit trafficking of a controlled substance, however, would have remained eligible for discretionary waiver of deportation if he had served less than five years of imprisonment.  8 U.S.C. § 1182(c)(1995).Section 440(d) of the AEDPA narrowed the Attorney General's discretion, prohibiting the Attorney General from waiving the deportation of a lawful permanent resident, who was excludable by reasons of having committed “any criminal offense covered in section 241(a)(2)(A)(iii) [“aggravated felony”], (B) [controlled substance conviction],” etc., regardless of whether he had served five years of imprisonment.   AEDPA, Pub.L. No. 104-132, § 440(d), 110 Stat. 1214 (1996);  8 U.S.C. § 1227(a)(2)(A)(iii) and (B).Section 304 of the IIRIRA repealed § 212(c) of the INA and replaced it with 8 U.S.C. § 1229b, which prohibits the Attorney General from cancelling the removal of an alien who has ever “been convicted of any aggravated felony.”  8 U.S.C. § 1229b(a)(3);  IIRIRA, Pub.L. No. 104-208, § 304(a)-(b), 110 Stat. 3009 (1996).   With some exceptions not relevant here, this provision did not become effective until April 1, 1997, and by its terms applied to removal proceedings that commenced on or after that date.   Id. at § 309(a).   As discussed in St. Cyr, 533 U.S. at 321-26, 121 S.Ct. 2271, this provision raised retroactivity concerns when applied to some aliens, but it does not raise retroactivity concerns when applied to Garcia-Echaverria.</p><p>MOORE, Circuit Judge.</p>\n",
      "<p></p>\n",
      "</div>]\n"
     ]
    }
   ],
   "source": [
    "print(data.html_format[index])"
   ]
  },
  {
   "cell_type": "code",
   "execution_count": 228,
   "metadata": {},
   "outputs": [],
   "source": [
    "## QUERY: What is the penalty for drug trafficking?\n",
    "## RESULTS [2939, 4213, 3703, 695, 1810, 3397, 3311, 2663, 177, 1587]\n",
    "\n",
    "def get_top_values(lst, n):\n",
    "    '''\n",
    "    INPUT: LIST, INTEGER, LIST\n",
    "    OUTPUT: LIST\n",
    "\n",
    "    Given a list of values, find the indices with the highest n values.\n",
    "    Return the labels for each of these indices.\n",
    "\n",
    "    e.g.\n",
    "    lst = [7, 3, 2, 4, 1]\n",
    "    n = 2\n",
    "    labels = [\"cat\", \"dog\", \"mouse\", \"pig\", \"rabbit\"]\n",
    "    output: [\"cat\", \"pig\"]\n",
    "    \n",
    "    [-1:-n-1:-1]\n",
    "    '''\n",
    "    return [i for i in np.argsort(lst)[-1:-n-1:-1]]\n",
    "\n",
    "def most_relevant_part_of_one_text(case, query): \n",
    "    \n",
    "    \n",
    "    vectorizer = TfidfVectorizer(stop_words='english')\n",
    "    vectors = vectorizer.fit_transform(case).toarray()\n",
    "        \n",
    "    tokenized_query = vectorizer.transform(query)\n",
    "    cosine_similarities = results.cosine_similarity(vectorized_query, index_vectors)\n",
    "    \n",
    "    top_results = (results.get_top_values(cosine_similarities[0], 10), query)\n",
    "\n",
    "    return top_results\n",
    "\n",
    "\n",
    "def tokenize(tokenize_texts):\n",
    "    \"\"\"\n",
    "    :param case_text: list of strings (case_texts)\n",
    "    :returns: list of strings, tokenized word.\n",
    "    \"\"\"\n",
    "    table = str.maketrans({key: None for key in string.punctuation})\n",
    "    return [word_tokenize(case.translate(table).lower()) for case in tokenize_texts]\n",
    "\n",
    "def remove_stop_words(remove_stop_text):\n",
    "    \"\"\"\n",
    "    :param case_text: list of lists of strings (tokens)\n",
    "    :returns: list of lists of strings(tokens) without stopwords\n",
    "    \"\"\"\n",
    "    stop = set(stopwords.words('english'))\n",
    "    return [[word for word in words if word not in stop] for words in remove_stop_text]\n",
    "\n",
    "def stem_words(stem_word_text):\n",
    "    \"\"\"\n",
    "    :param without_stop: list of lists without stop words\n",
    "    :return: list of lists of strings (stemmed words)\n",
    "    \"\"\"\n",
    "    snowball = SnowballStemmer('english')\n",
    "    return [[snowball.stem(word) for word in words] for words in stem_word_text]\n",
    "\n",
    "\n",
    "def clean_text(case_text):\n",
    "    \"\"\"\n",
    "    :param case_text: list of strings (case_text)\n",
    "    :return: list of lists of strings (stemmed words)\n",
    "    \"\"\"\n",
    "    \n",
    "    table = str.maketrans({key: None for key in string.punctuation})\n",
    "    tokenized = [word_tokenize(case.translate(table).lower()) for case in case_text]\n",
    "    stop = set(stopwords.words('english'))\n",
    "    remove_stop_words = [[word for word in words if word not in stop] for words in tokenized]\n",
    "    snowball = SnowballStemmer('english')\n",
    "    ## Stemmed words \n",
    "    return [[snowball.stem(word) for word in words] for words in remove_stop_words]\n",
    "\n",
    "# most_relevant_part_of_one_text(model[3].case_text[0], query)\n",
    "\n",
    "# ## Step \n",
    "\n",
    "# vectorizer = TfidfVectorizer(stop_words='english')\n",
    "# vectors = vectorizer.fit_transform(data).toarray()\n"
   ]
  }
 ],
 "metadata": {
  "kernelspec": {
   "display_name": "Python 3",
   "language": "python",
   "name": "python3"
  },
  "language_info": {
   "codemirror_mode": {
    "name": "ipython",
    "version": 3
   },
   "file_extension": ".py",
   "mimetype": "text/x-python",
   "name": "python",
   "nbconvert_exporter": "python",
   "pygments_lexer": "ipython3",
   "version": "3.6.3"
  }
 },
 "nbformat": 4,
 "nbformat_minor": 2
}
