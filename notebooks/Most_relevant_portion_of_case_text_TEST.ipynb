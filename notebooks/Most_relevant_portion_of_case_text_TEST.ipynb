{
 "cells": [
  {
   "cell_type": "code",
   "execution_count": 48,
   "metadata": {},
   "outputs": [],
   "source": [
    "import numpy as np\n",
    "import pandas as pd\n",
    "import sys\n",
    "sys.path.append('/Users/kevingmagana/DSI/capstone/capstone-update/Capstone_Proposal/py_scripts/')\n",
    "import results\n",
    "from bs4 import BeautifulSoup\n",
    "%reload_ext autoreload\n",
    "%autoreload 2\n",
    "import requests\n",
    "from sklearn.feature_extraction.text import TfidfVectorizer,CountVectorizer\n",
    "from sklearn.metrics.pairwise import linear_kernel\n",
    "import string\n",
    "from nltk.tokenize import word_tokenize\n",
    "from nltk.corpus import stopwords\n",
    "from nltk.stem.snowball import SnowballStemmer\n",
    "\n",
    "\n"
   ]
  },
  {
   "cell_type": "code",
   "execution_count": null,
   "metadata": {},
   "outputs": [],
   "source": []
  },
  {
   "cell_type": "code",
   "execution_count": 3,
   "metadata": {},
   "outputs": [],
   "source": [
    "df = pd.read_csv('/Users/kevingmagana/DSI/capstone/case_corpus.csv')\n",
    "df = df.dropna()\n",
    "df['title_date'] = df[['case_title', 'date']].apply(lambda x: ' '.join(x), axis=1)\n",
    "\n",
    "\n",
    "df2 = df.iloc[:, [2, 12]]\n",
    "df2 = df2.drop_duplicates(subset='title_date')\n",
    "df2 = df2.reset_index(drop=True)\n"
   ]
  },
  {
   "cell_type": "code",
   "execution_count": 4,
   "metadata": {},
   "outputs": [],
   "source": [
    "\n",
    "\n",
    "model = results.load_model()\n",
    "def process_query(query):\n",
    "    \"\"\"\n",
    "    :param query: string, the query\n",
    "    :return: list, of indices or DOC IDs\n",
    "      EX:\n",
    "      \t [2939, 4213, 3703, 695, 1810, 3397, 3311, 2663, 177, 1587]\n",
    "    \"\"\"\n",
    "    # Step 1: Intake and get Indexed Cases\n",
    "    query =  query\n",
    "    indices = results.indexed_results(model[0], query)\n",
    "    # Step 2: Get index_vectors and case_val dictionary\n",
    "    index_vectors, case_value_dictionary= results.get_index_vectors(model[2], indices)\n",
    "    # Step 3: Vectorize query\n",
    "    vectorized_query = results.query_vector(model[1], query)\n",
    "    # Step 4: Get Cosine similarities\n",
    "    cosine_similarities = results.cosine_similarity(vectorized_query, index_vectors)\n",
    "    # Step 5: Get top results and rank them (top 10 right now...)\n",
    "    top_results = (results.get_top_values(cosine_similarities[0], 10), query)\n",
    "    res = [case_value_dictionary[array_value] for array_value in top_results[0]]\n",
    "    return res\n"
   ]
  },
  {
   "cell_type": "code",
   "execution_count": 27,
   "metadata": {},
   "outputs": [
    {
     "name": "stdout",
     "output_type": "stream",
     "text": [
      "United States Court of Appeals,Ninth Circuit.\n",
      "Jesus Aaron CAZAREZ-GUTIERREZ, Petitioner, v. John ASHCROFT, Attorney General, Respondent.\n",
      "No. 02-72978.\n",
      "Decided: August 24, 2004\n",
      "\n",
      "Before:  HUG, B. FLETCHER, and TASHIMA, Circuit Judges.Jose A. Bracamonte, Law Office of Jose A. Bracamonte, Phoenix, AZ, for the petitioner-appellant. Anthony Payne, U.S. Department of Justice, Civil Division, Washington, DC, for the respondent-appellee.\n",
      "Jesus Aaron Cazarez-Gutierrez (“Cazarez-Gutierrez” or Petitioner) petitions for review of a decision of the Board of Immigration Appeals (BIA or “Board”) finding him statutorily ineligible for cancellation of removal because he was convicted of the “aggravated felony” of a “drug trafficking crime.”   Cazarez-Gutierrez argues that his state felony conviction for possession of methamphetamine, which would be a misdemeanor if prosecuted under federal law, should not be classified as an aggravated felony for immigration purposes.I. BACKGROUNDCazarez-Gutierrez is a native and citizen of Mexico.   He entered the United States without inspection in 1985, but became a lawful permanent resident of the United States in 1990.   His wife and oldest child are lawful permanent residents of the United States, and his youngest three children are citizens of the United States.   In January 1997, Cazarez-Gutierrez was convicted by the State of Arizona of possession of methamphetamine, a felony under Arizona law for which he served two-and-a-half years in prison.   See Ariz.Rev.Stat. § 13-3407.   Possession of methamphetamine is punishable under the federal Controlled Substances Act (CSA) with imprisonment of not more than one year, see 21 U.S.C. § 844(a), and thus is not a felony under federal law.   See United States v. Arellano-Torres, 303 F.3d 1173, 1177-78 (9th Cir.2002).In January 1999, an Immigration Judge (IJ) found Cazarez-Gutierrez removable because of his drug possession conviction, but exercised his discretion to grant Petitioner cancellation of removal under 8 U.S.C. § 1229b(a).   The government appealed the IJ's decision, arguing that the IJ had abused his discretion in granting Cazarez-Gutierrez cancellation of removal.   The BIA reversed, holding that Cazarez-Gutierrez is statutorily ineligible for cancellation of removal because his conviction for possession of methamphetamine is an “aggravated felony” within the meaning of the Immigration and Nationality Act (INA), 8 U.S.C. § 1101(a)(43)(B), rendering him ineligible for cancellation of removal.1  Petitioner timely filed a petition for review of the BIA's decision.Originally, we granted the petition for review and remanded to the BIA to consider the government's argument that the IJ had abused his discretion by granting cancellation of removal.   See Cazarez-Gutierrez v. Ashcroft, 356 F.3d 1015 (9th Cir.2004), withdrawn 366 F.3d 736 (9th Cir.2004).   However, our opinion did not fully “untie the various jurisdictional Gordian knots created by the Illegal Immigration Reform and Immigrant Responsibility Act of 1996” (IIRIRA).  Baeta v. Sonchik, 273 F.3d 1261, 1263 (9th Cir.2001).   It subsequently came to our attention that the IIRIRA divests us of power to review a removal order of an alien found removable for committing a controlled substance offense.   We withdrew the opinion while we reexamined our jurisdiction over Cazarez-Gutierrez's petition for review.We now consider the provisions governing our jurisdiction over this petition and conclude that Cazarez-Gutierrez's offense was not an aggravated felony.   However, we are without power to review non-jurisdictional questions in this case or to grant relief because Cazarez-Gutierrez is removable for his controlled substances offense. In the interests of justice, we construe this petition for review as a petition for habeas corpus, and we transfer the petition to the district court.2 II. STANDARD OF REVIEW The BIA's determination of purely legal questions is reviewed de novo.  Molina-Estrada v. INS, 293 F.3d 1089, 1093 (9th Cir.2002);  Castillo-Perez v. INS, 212 F.3d 518, 523 (9th Cir.2000).   Whether an offense is an aggravated felony under the INA is a legal question subject to de novo review.  Ye v. INS, 214 F.3d 1128, 1131 (9th Cir.2000).   Likewise, we review de novo whether a conviction is a controlled substances offense that renders Cazarez-Gutierrez removable.  Lara-Chacon v. Ashcroft, 345 F.3d 1148, 1151 (9th Cir.2003).III. DISCUSSION We have jurisdiction under 8 U.S.C. § 1252 to review final removal orders issued by the BIA. However, IIRIRA divests us of jurisdiction to review an order of removal against an alien removable for having committed an aggravated felony or a violation of any law relating to a controlled substance.   See 8 U.S.C. §§ 1227(a)(2)(A)(iii), (B), 1252(a)(2)(C).  Nonetheless, this Court retains jurisdiction to determine its jurisdiction, which includes determining whether a particular offense constitutes an offense governed by the jurisdiction-stripping provisions.   See, e.g., Cedano-Viera v. Ashcroft, 324 F.3d 1062, 1064-65 (9th Cir.2003).   Although the BIA's decision addressed only the “aggravated felony” provisions of the INA, we must independently examine whether any other jurisdiction-stripping provision of IIRIRA divests us of jurisdiction over a petition for review.A. Aggravated Felony ProvisionThe BIA held that Cazarez-Gutierrez is statutorily ineligible for cancellation of removal because his state-court felony conviction for possession of methamphetamine is an aggravated felony for immigration purposes.   It is uncontested that Cazarez-Gutierrez is eligible for discretionary cancellation of removal if his offense was not an aggravated felony for immigration purposes because he has met the other requirements under 8 U.S.C. § 1229b(a).   However, if Cazarez-Gutierrez's offense is an aggravated felony, he is not eligible for cancellation of removal and we have no jurisdiction over his petition for review.3 Under the INA, the term “aggravated felony” includes, inter alia, “illicit trafficking in a controlled substance (as defined in section 802 of Title 21), including a drug trafficking crime (as defined in section 924(c) of Title 18).”  8 U.S.C. § 1101(a)(43)(B). The BIA concluded that Cazarez-Gutierrez's drug possession conviction was a drug trafficking crime under 18 U.S.C. § 924(c).  “Drug trafficking crime” is defined as “any felony punishable under the Controlled Substances Act, the Controlled Substances Import and Export Act, or the Maritime Drug Law Enforcement Act.” 18 U.S.C. § 924(c)(2).  “The term [aggravated felony] applies to an offense ․ whether in violation of Federal or State law and applies to such an offense in violation of the law of a foreign country for which the term of imprisonment was completed within the previous 15 years.”  8 U.S.C. § 1101(a)(43).1. PrecedentThe Ninth Circuit has not decided whether a state felony drug offense is an aggravated felony for immigration purposes if the offense is not punishable as a felony under federal drug laws4 and contains no trafficking element.   The Second and Third Circuits hold that state felony drug offenses are not aggravated felonies for immigration purposes unless the offense contains a trafficking element or is punishable as a felony under the federal laws enumerated in 18 U.S.C. § 924(c)(2).5  Gerbier v. Holmes, 280 F.3d 297 (3d Cir.2002);  Aguirre v. INS, 79 F.3d 315 (2d Cir.1996).   To the contrary, in the Fifth Circuit, a state offense that is a felony under state law but is punishable under the enumerated federal laws only as a misdemeanor is an aggravated felony for immigration purposes.  United States v. Hernandez-Avalos, 251 F.3d 505 (5th Cir.2001).   Our analysis is informed by the interpretations of the other courts of appeals, and we ultimately come down on the side of the Second and Third Circuits.a. The Second and Third Circuits' approachAlthough the Second Circuit originally interpreted drug trafficking crime for immigration purposes to include offenses punished as felonies by the convicting state even if not punishable as felonies under federal law, the Aguirre Court held that “the interests of nationwide uniformity outweigh our adherence to Circuit precedent.”  79 F.3d at 317, overruling Jenkins v. INS, 32 F.3d 11 (2d Cir.1994).   Therefore, Aguirre adopted the rule that a state drug offense is an aggravated felony for immigration purposes only if it would be punishable as a felony under federal law or the crime contained a trafficking element.  Id. The Aguirre decision relies primarily on the need for uniformity in immigration law, as well as deference to the BIA's then-current uniform interpretation.  Id. Subsequently, the Third Circuit's Gerbier opinion fleshed out this reasoning, focusing on the need for national uniformity in immigration law and the legislative history of the provisions at issue.  280 F.3d at 304-05, 308-12.   The Third Circuit concluded that an interpretation that incorporates the vagaries of state drug laws into federal immigration law “can not be what Congress intended in establishing a ‘uniform’ immigration law.”  Id. at 312.b. The Fifth Circuit's approachThe Hernandez-Avalos Court reached its conclusion by following cases interpreting the statutory definition of “drug trafficking crime” in the context of sentencing enhancement.  251 F.3d at 508 (citing United States v. Hinojosa-Lopez, 130 F.3d 691 (5th Cir.1997)).   Under the Sentencing Guidelines, anyone convicted of unlawful reentry after removal is subject to an enhanced penalty if she previously was convicted of an aggravated felony in the United States.  U.S.S.G. § 2L1.2. The Sentencing Guidelines previously defined aggravated felony with reference to the INA, 8 U.S.C. § 1101(a)(43), which in turn incorporated the definition of drug trafficking crime under 18 U.S.C. § 924(c).  See United States v. Ballesteros-Ruiz, 319 F.3d 1101, 1103 (9th Cir.2003).   As noted above, a drug trafficking crime includes any felony punishable under the CSA and two other federal drug laws.  18 U.S.C. § 924(c)(2).  Hinojosa-Lopez concluded that “drug trafficking crime” includes any state offense that is (1) punishable under the CSA and (2) a felony, relying on the text of the definition of drug trafficking crime, the decisions of other federal courts of appeals, and commentary in the Sentencing Guidelines.  130 F.3d at 693-94.In the sentencing context, this Court and all other federal courts of appeals that interpreted “drug trafficking crime” have used similar reasoning and have adopted similar definitions of drug trafficking crime, encompassing any offense that is both punishable under the CSA and prosecuted as a felony.   See, e.g., United States v. Ibarra-Galindo, 206 F.3d 1337, 1339 (9th Cir.2000);  United States v. Simon, 168 F.3d 1271, 1272 (11th Cir.1999);  United States v. Briones-Mata, 116 F.3d 308, 309 (8th Cir.1997);  United States v. Cabrera-Sosa, 81 F.3d 998, 1000 (10th Cir.1996);  United States v. Restrepo-Aguilar, 74 F.3d 361, 364 (1st Cir.1996);  United States v. Polanco, 29 F.3d 35, 38 (2d Cir.1994).The Hernandez-Avalos Court questioned “the validity of interpreting this statute differently based on th[e] distinction between sentencing and immigration cases” or “the perceived need for a uniform, substantive standard ․ in the deportation context.”  251 F.3d at 509.   It did not apply the presumption that immigration law should be nationally uniform, concluding that the “argument for uniformity is not altogether persuasive inasmuch as it creates a dichotomy-not uniformity-between the BIA's application of section 924(c) in removal proceedings and the federal courts' application of section 924(c) in sentencing proceedings.”  251 F.3d at 509.   Furthermore, Hernandez-Avalos did not address any other differences between the two statutory schemes that might make the reasoning of the sentencing cases inapplicable in the immigration context.c. The BIA's interpretationEmphasizing the need for nationally uniform immigration law, the BIA initially and for a long period interpreted “aggravated felony” for immigration purposes to include state drug offenses only if they would be punishable as felonies under federal drug laws or the offenses include a trafficking element.   Matter of K-V-D-, 22 I & N Dec. 1163, 1999 WL 1186808 (BIA 1999);  Matter of L-G-, 21 I & N Dec. 89, 1995 WL 582051 (BIA 1995);  Matter of Davis, 20 I & N Dec. 536, 1992 WL 443920 (BIA 1992).   However, after Hernandez-Avalos, the BIA reversed its longstanding interpretation and now defines aggravated felony as the term is defined in the applicable circuit, adopting the rule used for sentencing enhancement where there is no circuit precedent interpreting drug trafficking crime for immigration purposes.   See In re Yanez-Garcia, 23 I & N Dec. 390, 2002 WL 993589 (BIA 2002);  but cf. In re Elgendi, 23 I & N Dec. 515, 518-19, 2002 WL 31441996 (BIA 2002) (applying the sentencing enhancement rule in the Second Circuit notwithstanding Aguirre because the Board concluded that this “interpretation [i]s consistent with the Second Circuit's intuitive reading of the statute, divorced from the uniformity considerations” that the Board had rejected).   Because the Ninth Circuit has not ruled on this question in the immigration context, the BIA followed our sentencing enhancement cases, holding that Cazarez-Gutierrez's drug possession conviction was an aggravated felony for immigration purposes in the Ninth Circuit.2. Analysis Although the Fifth Circuit's interpretation perhaps is an intuitive reading of the text of the definition of drug trafficking crime, “statutory language cannot be construed in a vacuum.   It is a fundamental canon of statutory construction that the words of a statute must be read in their context and with a view to their place in the overall statutory scheme.”  Davis v. Mich. Dep't of Treasury, 489 U.S. 803, 809, 109 S.Ct. 1500, 103 L.Ed.2d 891 (1989).   The presumption that immigration laws should be interpreted to be nationally uniform, evidence that Congress intended uniformity, and prudential concerns convince us that the Fifth Circuit erred in adopting the interpretation of “aggravated felony” used in the sentencing context for immigration purposes.   For these reasons, we approve of the approach taken by the Second and Third Circuits in holding that a state drug offense is an aggravated felony for immigration purposes only if it would be punishable as a felony under federal drug laws or the crime contains a trafficking element.a. National uniformity and federal preemption The primary reason for interpreting “aggravated felony” differently for immigration and sentencing enhancement purposes is the strong interest in national uniformity in the administration of immigration laws.  “Power to regulate immigration is unquestionably exclusively a federal power.”   DeCanas v. Bica, 424 U.S. 351, 354, 96 S.Ct. 933, 47 L.Ed.2d 43 (1976).   The Gerbier court, which discussed uniformity at length, made a critical point:  “the policy favoring uniformity in the immigration context is rooted in the Constitution.”  280 F.3d at 311.   The United States Constitution provides that “Congress shall have Power To ․ establish an uniform Rule of Naturalization.”  U.S. Const. art. I, § 8 (emphasis added);  Gerbier, 280 F.3d at 311.   In Federalist 32, Alexander Hamilton wrote that immigration was one of the few powers “EXCLUSIVELY delegated to the United States.”   The constitutional power “to establish a UNIFORM RULE of naturalization ․ must necessarily be exclusive;  because if each State had power to prescribe a DISTINCT RULE, there could not be a UNIFORM RULE.” The Federalist No. 32 (internal quotation marks omitted, emphasis in the original).The Supreme Court has recognized repeatedly that Congress has exclusive power over immigration.  “The Federal Government has broad constitutional powers in determining what aliens shall be admitted to the United States, the period they may remain, regulation of their conduct before naturalization, and the terms and conditions of their naturalization.   Under the Constitution the states are granted no such powers․” Takahashi v. Fish & Game Comm'n, 334 U.S. 410, 419, 68 S.Ct. 1138, 92 L.Ed. 1478 (1948) (internal citation omitted);  see also DeCanas, 424 U.S. at 354, 96 S.Ct. 933;  United States v. Wong Kim Ark, 169 U.S. 649, 701, 18 S.Ct. 456, 42 L.Ed. 890 (1898) (“The power, granted to Congress by the Constitution, to establish an uniform rule of naturalization, was long ago adjudged by this court to be vested exclusively in Congress.”) (internal quotation marks omitted);  Chirac v. Chirac, 15 U.S. (2 Wheat.) 259, 268, 4 L.Ed. 234 (1817) (“That the power of naturalization is exclusively in congress does not seem to be, and certainly ought not to be, controverted.”).Likewise, the Ninth Circuit has “repeatedly recognized that the immigration laws should be applied uniformly across the country, without regard to the nuances of state law.”  Ye, 214 F.3d at 1132.   Importantly, in Ye, we interpreted “aggravated felony” for immigration purposes to achieve national uniformity, rejecting a BIA decision interpreting the aggravated felony of burglary with reference to state law definitions of burglary.   Instead we adopted a general definition that would allow for national uniformity.  Id. at 1132-33.   Similarly, in Murillo-Espinoza v. INS, we upheld the BIA's conclusion that state expungement of aggravated felony convictions for theft had no effect for immigration purposes, because Congress did not intend different immigration consequences for “criminals fortunate enough to violate the law in a state where rehabilitation is achieved through the expungement of records․” 261 F.3d 771, 774 (9th Cir.2001) (quoting In re Roldan-Santoyo, 22 I & N Dec. 512, 1999 WL 126433 (BIA 1999), vacated on other grounds sub nom.  Lujan-Armendariz v. INS, 222 F.3d 728, 745-49 (9th Cir.2000)). “The INA was designed to implement a uniform federal policy, and the meaning of concepts important to its application are not to be determined according to the law of the forum, but rather require a uniform federal definition.”  Kahn v. INS, 36 F.3d 1412, 1414 (9th Cir.1994) (internal quotation marks and brackets omitted) (quoting Rosario v. INS, 962 F.2d 220, 223-24 (2d Cir.1992)).   Interpretations of the INA that vary according to state law are not permissible without plain indication that Congress intended to incorporate state variations.  Kahn, 36 F.3d at 1414-15 (holding that family ties, for the purpose of hardship relief from deportation, could not be considered with reference to whether states recognize common law marriage);  see also Paredes-Urrestarazu v. INS, 36 F.3d 801, 810 (9th Cir.1994) (holding that the BIA properly considered petitioner's arrest in denying discretionary relief notwithstanding his successful completion of state pretrial diversion program because “[d]eportation is a function of federal and not state law”);  de la Cruz-Martinez v. INS, 404 F.2d 1198, 1200 (9th Cir.1968) (“In the context of a narcotics conviction, deportation is a punishment independent from any that may or may not be imposed by the states.   While it is true that the same event, the state conviction, triggers both sets of consequences, it would be anomalous for a federal action based on a state conviction to be controlled by how the state chooses to subsequently treat the event.”);  Wadman v. INS, 329 F.2d 812, 817 (9th Cir.1964) (adopting a uniform definition of adultery). In contrast, with respect to sentencing, the approach is just the opposite.  “Under our federal system, the States possess primary authority for defining and enforcing the criminal law.”  United States v. Lopez, 514 U.S. 549, 561 n. 3, 115 S.Ct. 1624, 131 L.Ed.2d 626 (1995) (internal quotation marks omitted) (quoting Brecht v. Abrahamson, 507 U.S. 619, 635, 113 S.Ct. 1710, 123 L.Ed.2d 353 (1993));  see also United States v. Morrison, 529 U.S. 598, 618, 120 S.Ct. 1740, 146 L.Ed.2d 658 (2000);  United States v. McCoy, 323 F.3d 1114, 1124 (9th Cir.2003) (noting that “in the field of criminal law enforcement [ ] state power is preeminent”).   Certain areas of criminal regulation are beyond Congress's reach.   See, e.g., Lopez, 514 U.S. at 552, 115 S.Ct. 1624 (holding that Congress has no power to prohibit firearm possession in school zones);  United States v. Stewart, 348 F.3d 1132, 1140 (9th Cir.2003) (holding that Congress has no power to criminalize possession of machine guns that have not traveled in interstate commerce);  McCoy, 323 F.3d at 1122-23 (holding that Congress has no power to prohibit mere possession of child pornography, as applied to a mother and daughter who posed nude in a family photograph).   Because states are primarily responsible for criminal law enforcement, there is no pressing need for national uniformity in the sentencing enhancement context, and it is not surprising that the courts of appeals interpreting the Sentencing Guidelines have incorporated variations in state punishments for drug offenses.   But see United States v. Corona-Sanchez, 291 F.3d 1201, 1205 (9th Cir.2002) (en banc) (providing a uniform definition for “theft offense” for sentencing enhancement in an illegal reentry case, relying on the desirability of uniformity).The Second Circuit in Aguirre and the Third Circuit in Gerbier hold the need for national uniformity in immigration law paramount in defining drug trafficking crimes under the INA. In contrast, the Fifth Circuit's and BIA's approach necessarily incorporates vagaries in state law that create widely divergent immigration consequences for aliens convicted of minor drug offenses in different states.   The Fifth Circuit did not apply the presumption that immigration law is nationally uniform or recognize the special treatment of immigration in the Constitution, but simply followed the sentencing enhancement cases without consideration of the important distinctions between sentencing and immigration law.   We agree with the Third Circuit that “[f]undamental fairness dictates that ․ aliens who are in like circumstances, but for irrelevant and fortuitous factors, be treated in like manner.”   Gerbier, 280 F.3d at 311-12 (quoting Francis v. INS, 532 F.2d 268, 273 (2d Cir.1976)).   Given the strong desirability of uniformity in the application of immigration law, we interpret the definition of aggravated felony for immigration purposes to be nationally uniform absent clear indication that Congress intended otherwise.   See, e.g., Kahn, 36 F.3d at 1414-15.b. Congressional intentWe have identified nothing in the legislative history to rebut the presumption that Congress intended uniform application of the immigration laws, and there is evidence that Congress intended the interpretation that we adopt.   The Third Circuit provides a detailed account of Congress's intent that state drug offenses be aggravated felonies for immigration purposes only if they are punishable as felonies under federal law or involve a trafficking element.   See Gerbier, 280 F.3d at 304-09.The development of the definitions of “aggravated felony” and “drug trafficking crime” in the INA shows that Congress intended a federal definition for those terms.   State drug offenses that are punished as felonies under state law but as misdemeanors under federal law were not intended to be aggravated felonies for immigration purposes.The Anti-Drug Abuse Act of 1988 (ADAA), also called the Drug Kingpin Act, amended the definition of “drug trafficking crime” under 18 U.S.C. § 924(c), which makes it a federal crime to use or carry a firearm in furtherance of a drug trafficking crime and certain other offenses.  Pub. L. No. 100-690, § 6212, 102 Stat. 4180 (1988).   The amendment changed the definition of drug trafficking crime from “any felony in violation of Federal law involving the distribution, manufacture, or importation of any controlled substance” to the current definition, “any felony punishable under the Controlled Substances Act” and two other drug control statutes not relevant here.   Compare 18 U.S.C. § 924(c)(2) (1982 & Supp. V 1987), with 18 U.S.C. § 924(c)(2).The amendment was labeled a “clarification of definition of drug trafficking crimes in which use or carrying of firearms and armor piercing ammunition is prohibited.”  Pub. L. No. 100-690, § 6212.   Senator Biden, who was Chairman of the Senate Judiciary Committee and a principal drafter and supporter of the Act, explained that the amendment “clarifies the scope of 18 U.S.C. §§ 924(c) and 929(a).   Those statutes create offenses of using or carrying a firearm and armor piercing ammunition, respectively, in certain federal crimes including drug trafficking crimes.”  134 Cong. Rec. S17360, S17363 (Section Analysis of Judiciary Comm. Issues in H.R. 5210 by Sen. Biden).   The amendment was intended to make clear that “drug trafficking crime” includes “possession with intent to distribute, or attempt and conspiracy violations.”  Id.;  see also United States v. Contreras, 895 F.2d 1241, 1244 (9th Cir.1990) (noting that Congress “labeled the change a ‘clarification,’ indicating that it had always considered possession with intent to distribute-a felony punishable under the Controlled Substances Act-a drug trafficking crime within the meaning of section 924(c)”).The amended, broadly-worded definition of “drug trafficking crime” is relatively narrow in the context of defining a federal firearm offense, because it applies only to federal prosecutions and only where offenders carry or use firearms in furtherance of drug crimes.   Moreover, the choice of the wording “any felony punishable under,” instead of “any conviction obtained under” or similar wording that would be more straightforward in the immigration context, apparently was intended to allow for a firearm conviction related to a drug trafficking crime whether or not the drug trafficking conviction actually was obtained.   There is nothing in the legislative history to suggest that Congress intended this “clarification” to dramatically widen the scope of “drug trafficking crime” to include, for example, simple drug possession punished as a felony by a state.   See Chisom v. Roemer, 501 U.S. 380, 396, 111 S.Ct. 2354, 115 L.Ed.2d 348 (1991) (noting that the absence of any indication that Congress intended to make a major change in the statute can be considered as evidence that Congress did not intend the change).The same law, the ADAA, also introduced the first “aggravated felony” provisions in the INA. There is no evidence that anyone was aware how broadly the new definition of drug trafficking crime under 18 U.S.C. § 924(c)(2) could be read in defining aggravated felonies in the INA. The ADAA defined an “aggravated felony” for immigration purposes as “murder, any drug trafficking crime as defined in section 924(c)(2) of title 18, United States Code, or any illicit trafficking in any firearms or destructive devices as defined in section 921 of such title, or any attempt or conspiracy to commit any such act, committed within the United States.”  Pub.L. No. 100-690, § 7342.   Although the discussion of the application of this amendment was sparse, before the Senate began voting on the ADAA, Senator D'Amato, a proponent of the immigration provisions of the ADAA, described the provisions as “focusing on a particularly dangerous class of ‘aggravated alien felons,’ that is, aliens convicted of murder, and drug and firearms trafficking.”  134 Cong. Rec. S17301, S17318.   The narrow list of serious crimes targeted, in the context of an Act with a general focus on fighting international drug cartels, suggests that the broadly-worded definition of drug trafficking was not intended to encompass minor state drug offenses with no trafficking element where they are punished as felonies under state law but as misdemeanors under federal law.The BIA soon faced the issue of whether a state drug trafficking conviction was an aggravated felony for immigration purposes.   The Board held that Congress did not seek “to differentiate between aliens convicted of similar drug-related offenses on the basis of whether the conviction was accomplished under state or federal law.”  Matter of Barrett, 20 I & N Dec. 171, 175, 1990 WL 385754 (BIA 1990).   Therefore, the Board “conclude[d] that the definition of ‘drug trafficking crime’ for purposes of determining drug-related ‘aggravated felonies' within the meaning of the Immigration and Nationality Act encompasses state convictions for crimes analogous to offenses under the Controlled Substances Act” and two other federal drug laws.  Id. at 177-78.   Thus, Barrett adopted what the Third Circuit refers to as the “hypothetical federal felony” rule that state convictions are drug trafficking crimes for immigration purposes if they would be punishable as a felony under federal drug laws.   See id.;   see also Gerbier, 280 F.3d at 304 (discussing Barrett).In the same year, Congress broadened the definition of aggravated felony to include “any illicit trafficking in any controlled substance” in addition to drug trafficking crimes.6  Pub. L. No. 101-649, 104 Stat. 4978 (1990).   At the same time, Congress deleted the requirement that the crime at issue be committed within the United States and added the provision that “aggravated felony includes offenses ․ whether in violation of Federal or State law and also applies to offenses described in the previous sentence in violation of foreign law for which the term of imprisonment was completed within the previous 15 years.”  Id.It is clear from the House Judiciary Committee Report on the bill that Congress intended to codify Barrett with this amendment.   The Committee's report states:Current law clearly renders an alien convicted of a Federal drug trafficking offense an aggravated felon.   It has been less clear whether a state drug trafficking conviction brings that same result, although the Board of Immigration Appeals in Matter of Barrett (March 6, 1990) has recently ruled that it does.   Because the Committee concurs with the recent decision of the Board of Immigration Appeals and wishes to end further litigation on this issue, section 1501 of H.R. 5269 specifies that drug trafficking (and firearms/destructive device trafficking) is an aggravated felony whether or not the conviction occurred in state or Federal court.H.R. Rep. No. 101-681 (1990), reprinted in 1990 U.S.C.C.A.N. 6472, 6553.   As before, there is absolutely no evidence that Congress intended to incorporate state variations, much less worldwide variations, into the INA, but simply sought to codify the Barrett rule that an aggravated felony for immigration purposes includes any state drug offense that would be punishable as a felony under federal drug laws. Although Congress has expanded the crimes defined as aggravated felonies for immigration purposes substantially since 1990, it has not altered the definition of a drug trafficking crime.   More specifically, Congress dramatically overhauled the INA by enacting the Anti-terrorism and Effective Death Penalty Act of 1996 and IIRIRA.   With these laws, Congress altered many aspects of immigration and removal, singling out BIA precedents with which it disagreed.   See Yanez-Garcia, 23 I & N Dec. at 405 (Rosenberg dissenting).   In particular, IIRIRA substantially broadened the list of crimes defined as aggravated felonies.  St. Cyr, 533 U.S. at 294-95 n. 4, 121 S.Ct. 2271 (2001).   Nonetheless, Congress did not amend the definition of drug trafficking crime or the BIA's longstanding, nationally uniform interpretation of that provision.   Congress is presumed to be aware of an administrative interpretation of a statute and to adopt that interpretation when it reenacts a statute without changing the interpretation.   See, e.g., Lorillard v. Pons, 434 U.S. 575, 580, 98 S.Ct. 866, 55 L.Ed.2d 40 (1978).In summary, the legislative history of the definitions of “aggravated felony” and “drug trafficking crime” in the INA demonstrates that Congress did not intend to incorporate state variations in the punishment of drug offenses into immigration law.   The parties do not cite to us, nor has our research uncovered, anything that would rebut the presumption that Congress intends immigration law to be applied uniformly throughout the nation.c. Inequitable consequencesUnder Hernandez-Avalos and Yanez-Garcia, aliens convicted of simple drug possession in a state that punishes drug possession severely are ineligible for relief from removal, no matter what the hardship to the alien or her family.   Similarly, aliens are ineligible for asylum if they have been convicted of a “particularly serious crime,” and all aggravated felony convictions are deemed to be particularly serious crimes.   See 8 U.S.C. § 1158(b)(2)(A)(ii), B(i);  Corona-Sanchez, 291 F.3d at 1210 n. 8. Therefore, under the rule the BIA currently uses in most removal proceedings, a conviction for a state felony drug offense, even if it would have been a misdemeanor if punished under federal law, renders an alien ineligible for asylum, no matter how compelling her claim.   Aliens lucky enough to have been convicted in a state that punishes drug offenses leniently will have much less serious consequences for their offenses.Such an interpretation can lead to particularly inequitable results for aliens convicted of possession of a small amount of marijuana.   The INA provides an exception for “a single offense involving possession for one's own use of 30 grams or less of marijuana” from the general rule that a conviction of any controlled substance offense renders an alien removable.  8 U.S.C. § 1227(a)(2)(B)(i).   An alien convicted of possession of 30 grams of marijuana for personal use in most states would not be removable because of the conviction, much less an aggravated felon, while an alien convicted in certain states would be an aggravated felon, ineligible for relief from removal.   See, e.g., N.D. Cent.Code § 19.03.1-23(6) (providing that possession of more than one ounce7 of marijuana is a felony).   Notwithstanding the broadly-worded definition of drug trafficking crime, “common sense rebels at the thought of classifying bare possession of a tiny amount of narcotics as a drug trafficking crime.”  Ibarra-Galindo, 206 F.3d at 1341 (Canby, J., dissenting).Furthermore, a rule that classifies state drug offenses punished as felonies under state but not federal law as aggravated felonies for immigration purposes is inequitable to aliens who committed minor drug offenses prior to 2002.   When the BIA changed its interpretation of “drug trafficking crime” in reaction to the Fifth Circuit's ruling in Hernandez-Avalos, the dissent argued forcefully that the decision upset the longstanding understanding of the immigration consequences of minor state drug offenses, which had “been applied to literally thousands of cases.”  Yanez-Garcia, 23 I & N Dec. at 403 (Rosenberg, dissenting).   Our analysis is guided by considerations of fair notice, reasonable reliance, and settled expectations.   See St. Cyr, 533 U.S. at 321, 121 S.Ct. 2271.   Aliens reasonably would have relied on the settled understanding that drug offenses are not aggravated felonies for immigration purposes unless they are punishable as felonies under federal drug laws or the crime involved a trafficking element. Although harsh or inequitable consequences are not determinative, ambiguities in statutes are construed in favor of aliens in removal.  INS v. Cardoza-Fonseca, 480 U.S. 421, 449, 107 S.Ct. 1207, 94 L.Ed.2d 434 (1987);  INS v. Errico, 385 U.S. 214, 225, 87 S.Ct. 473, 17 L.Ed.2d 318 (1966) (“We resolve the doubts in favor of [the alien] because deportation is a drastic measure ․”) (internal quotation marks and citation omitted).   Accordingly, like the Second and Third Circuits, we conclude that widely disparate immigration consequences due to differences in how states punish drug offenses “cannot be what Congress intended in establishing a ‘uniform’ immigration law.”  Gerbier, 280 F.3d at 312.Because Cazarez-Gutierrez's offense, possession of methamphetamine, is not punishable as a felony under federal law and involves no trafficking element, the BIA erred in concluding that Cazarez-Gutierrez is statutorily ineligible for cancellation of removal because of an aggravated felony conviction.B. Controlled Substance Offense Although the BIA decided Cazarez-Gutierrez's case solely on the basis of the INA's aggravated felony provisions, we are under an obligation to examine whether other jurisdiction-stripping provisions prevent us from reaching non-jurisdictional questions and granting relief.The INA divests this court of “jurisdiction to review any final order of removal against an alien who is removable by reason of having committed a criminal offense covered in section ․ 1227(a)(2)(A)(iii), (B), (C), or (D) of this title.”  8 U.S.C. § 1252(a)(2)(C).  One of these sections provides that “[a]ny alien who at any time after admission has been convicted of a violation of ․ any law ․ relating to a controlled substance (as defined in section 802 of Title 21), other than a single offense involving possession for one's own use of 30 grams or less of marijuana, is deportable.”  8 U.S.C. § 1227(a)(2)(B).  Methamphetamine is a controlled substance under 21 U.S.C. § 802.   See 21 U.S.C. § 802(6);  21 U.S.C. § 812 Scheds.   II(c) & III(a)(3) (2000).Cazarez-Gutierrez was charged with and found removable by the IJ because of his conviction for possession of methamphetamine, which is a “violation of ․ any law ․ relating to a controlled substance.”   Even though the BIA addressed only the INA's aggravated felony provisions, the basis of his removal was his drug offense and the BIA did not overturn the IJ's correct conclusion that Cazarez-Gutierrez is removable because of his offense.   See Alvarez-Santos v. INS, 332 F.3d 1245, 1250-51 (9th Cir.2003) (holding that jurisdiction-stripping provisions apply only if the petitioner is ordered removed because of a listed offense, but it does not matter how the agency characterizes the offense).   Therefore, under 8 U.S.C. § 1252(a)(2)(C), we have no power to consider non-jurisdictional questions in this petition for review or to grant relief.C. Habeas Review Although we cannot grant relief, all parties agree that habeas review is available to Cazarez-Gutierrez, see St. Cyr, 533 U.S. at 314, 121 S.Ct. 2271, and that we may construe his petition for review as a petition for habeas corpus.   See Cruz-Aguilera v. INS, 245 F.3d 1070, 1073 (9th Cir.2001) (construing a petition for review as a habeas petition where court had no jurisdiction because of Cruz-Aguilera's conviction of possession of methamphetamine).   This court does not have original jurisdiction over a petition for habeas corpus, but we may transfer a habeas petition to district court under 28 U.S.C. § 1631.8  See id. at 1074.   Transfer is appropriate here because we lack jurisdiction to directly review Cazarez-Gutierrez's removal order, the district court could have exercised jurisdiction over Cazarez-Gutierrez's petition at the time it was filed, and transfer is in the interest of justice.  Id.;  Kolek v. Engen, 869 F.2d 1281,1284 (9th Cir.1989).“Normally transfer will be in the interest of justice because normally dismissal of an action that could be brought elsewhere is ‘time consuming and justice-defeating.’ ”  Cruz-Aguilera, 245 F.3d at 1074 (quoting Miller v. Hambrick, 905 F.2d 259, 262 (9th Cir.1990)).   Here, there is no dispute that Cazarez-Gutierrez acted in good faith when he filed a petition for review instead of a petition for habeas corpus.  “Due to the uncertain nature of jurisdiction in this area, the filing of the [ ] petition [in the wrong court] is understandable and transfer to the proper forum is particularly appropriate.”  Baeta, 273 F.3d at 1265.   Therefore, we construe Cazarez-Gutierrez's petition for review as a petition for habeas corpus and we order it transferred to the district court.IV. CONCLUSIONAnalyzing the provisions relevant to our jurisdiction, we conclude that a state drug offense is not an aggravated felony for immigration purposes unless it is punishable as a felony under the CSA or other federal drug laws named in the definition of “drug trafficking crime,” or is a crime involving a trafficking element.   Therefore, Cazarez-Gutierrez's offense is not an aggravated felony for immigration purposes.   However, his conviction was a controlled substances offense for which he is removable, and we lack jurisdiction to directly review his removal order.   Accordingly, we construe Cazarez-Gutierrez's petition for review as a petition for habeas corpus and transfer it pursuant to 28 U.S.C. § 1631 to the United States District Court for the District of Arizona for consideration as a petition for habeas corpus.9 TRANSFERRED.FOOTNOTES1.   The dissenting Board members pointed out that Petitioner was not given notice of or opportunity to contest this new ground for his removal.   In light of its decision, the BIA did not consider whether the IJ's discretionary grant of cancellation of removal was an abuse of discretion.2.   Cazarez-Gutierrez also argues that the BIA's decision violates his right to due process because it is impermissibly retroactive under INS v. St. Cyr, 533 U.S. 289, 121 S.Ct. 2271, 150 L.Ed.2d 347 (2001).   We do not address this question because we conclude that we have no power to review non-jurisdictional questions in this petition, but Cazarez-Gutierrez may raise it in his habeas proceedings.   See Noriega-Lopez v. Ashcroft, 335 F.3d 874, 878-79 (9th Cir.2003) (holding that the immigration law's jurisdiction-stripping provisions apply to constitutional claims, but these claims can be raised in habeas proceedings).3.   The government argues that we need not address whether Cazarez-Gutierrez's offense is an aggravated felony because we can dismiss the petition because the offense was a controlled substances conviction.   See 8 U.S.C. §§ 1227(a)(2)(B), 1252(a)(2)(C).  Our consideration of the aggravated felony provision is appropriate because that is the ground on which the BIA relied;  it is also a jurisdictional question;  the discussion will guide the district court's disposition and conserve judicial resources already invested in this case;  and the discussion supports our determination that it is in the interests of justice to construe the petition as a habeas petition and transfer it to the district court.   See generally Olivera-Garcia v. INS, 328 F.3d 1083 (9th Cir.2003) (addressing both the jurisdiction-stripping provisions based on an aggravated felony conviction and a controlled substance conviction).4.   We use the phrases “punishable as a felony under federal drug laws” or simply “punishable as a felony under federal law” as shorthand for punishable as a felony under the three statutes named in the definition of drug trafficking crime.5.   As noted above, “aggravated felony” includes the “illicit trafficking in a controlled substance ․ including a drug trafficking crime (as defined in section 924(c) of Title 18).”   Although it does not matter in application, we note that a drug offense with a trafficking element is “illicit trafficking” and a drug offense that is punishable as a felony under federal law is a “drug trafficking crime.”6.   In addition, Congress added money laundering and crimes of violence for which a prison term of at least five years was imposed to the list of aggravated felonies.7.   One ounce is 28.35 grams.8.   This section provides:Whenever a civil action is filed in a court ․ including a petition for review of administrative action ․ and that court finds that there is a want of jurisdiction, the court shall, if it is in the interest of justice, transfer such action or appeal to any other such court in which the action or appeal could have been brought at the time it was filed or noticed, and the action or appeal shall proceed as if it had been filed in or noticed for the court to which it is transferred․28 U.S.C. § 1631.9.   Cazarez-Gutierrez may make any necessary amendments to perfect the form of the habeas petition in the district court upon transfer.BETTY B. FLETCHER, Circuit Judge:\n",
      "\n",
      "\n",
      "\n",
      "\n",
      "\n",
      "\n",
      "\n",
      "\n",
      "\n",
      "\n",
      "\n",
      "\n",
      "\n",
      "\n",
      "\n",
      "\n",
      "\n",
      "\n",
      "\n"
     ]
    }
   ],
   "source": [
    "print(model[3].case_text[4213])"
   ]
  },
  {
   "cell_type": "code",
   "execution_count": 8,
   "metadata": {},
   "outputs": [
    {
     "data": {
      "text/plain": [
       "76"
      ]
     },
     "execution_count": 8,
     "metadata": {},
     "output_type": "execute_result"
    }
   ],
   "source": [
    "html = model[3].html_format[4213]\n",
    "\n",
    "# content = requests.get(html).content\n",
    "soup = BeautifulSoup(html, 'lxml')\n",
    "\n",
    "\n",
    "list_of_paragraphs = []\n",
    "for paragaph in soup.findAll('p'): \n",
    "    list_of_paragraphs.append(str(paragaph.text.encode('ascii', 'ignore')).replace(\"'\", \"\"))\n",
    "# print(model[3].html_format[0])\n",
    "\n",
    "len(list_of_paragraphs)"
   ]
  },
  {
   "cell_type": "code",
   "execution_count": 11,
   "metadata": {},
   "outputs": [
    {
     "data": {
      "text/plain": [
       "((76, 1122), 76)"
      ]
     },
     "execution_count": 11,
     "metadata": {},
     "output_type": "execute_result"
    }
   ],
   "source": [
    "### Step 1: Vectorize and apply Tf-IDF weights on the case\n",
    "\n",
    "cleaned_text = clean_text(list_of_paragraphs)\n",
    "\n",
    "# tokenized= tokenize(list_of_paragraphs)\n",
    "# remove_stops = remove_stop_words(tokenized)\n",
    "# cleaned_text = stem_words(remove_stops)\n",
    "\n",
    "list_of_strings = [\" \".join(lst) for lst in cleaned_text]\n",
    "\n",
    "vectorizer = TfidfVectorizer(stop_words='english')\n",
    "vectors = vectorizer.fit_transform(list_of_strings)\n",
    "\n",
    "vectors.shape, len(list_of_paragraphs)"
   ]
  },
  {
   "cell_type": "code",
   "execution_count": 12,
   "metadata": {},
   "outputs": [
    {
     "name": "stdout",
     "output_type": "stream",
     "text": [
      "([69, 20, 44, 40, 39, 14, 37, 46, 51, 68], ['What is the penalty for drug trafficking?'])\n"
     ]
    }
   ],
   "source": [
    "query = ['What is the penalty for drug trafficking?']\n",
    "### Step 2: Vectorize the query\n",
    "\n",
    "cleaned_query = clean_text(query)\n",
    "query_list_of_strings = [\" \".join(lst) for lst in cleaned_query]\n",
    "tokenized_query = vectorizer.transform(query_list_of_strings)\n",
    "\n",
    "cosine_similarities = linear_kernel(tokenized_query, vectors) \n",
    "top_results = (get_top_values(cosine_similarities[0], 10), query)\n",
    "print(top_results)"
   ]
  },
  {
   "cell_type": "code",
   "execution_count": 13,
   "metadata": {},
   "outputs": [
    {
     "data": {
      "text/plain": [
       "[69, 20, 44, 40, 39, 14, 37, 46, 51, 68]"
      ]
     },
     "execution_count": 13,
     "metadata": {},
     "output_type": "execute_result"
    }
   ],
   "source": [
    "top_results[0]"
   ]
  },
  {
   "cell_type": "code",
   "execution_count": 14,
   "metadata": {},
   "outputs": [
    {
     "name": "stdout",
     "output_type": "stream",
     "text": [
      "['What is the penalty for drug trafficking?']\n",
      "b5.As noted above, aggravated felony includes the illicit trafficking in a controlled substance  including a drug trafficking crime (as defined in section 924(c) of Title 18).  Although it does not matter in application, we note that a drug offense with a trafficking element is illicit trafficking and a drug offense that is punishable as a felony under federal law is a drug trafficking crime.\n"
     ]
    }
   ],
   "source": [
    "# print(tokenized_query.todense())\n",
    "# vectorizer.vocabulary_\n",
    "# print(list_of_strings)\n",
    "# data= model[3].case_text[2939].split('\\n')\n",
    "print(query)\n",
    "# print(list_of_strings)\n",
    "print(list_of_paragraphs[69])\n"
   ]
  },
  {
   "cell_type": "code",
   "execution_count": 15,
   "metadata": {},
   "outputs": [],
   "source": [
    "def highlight_key_query_words(question, most_relevant_part):\n",
    "    \"\"\"\n",
    "    :param question:\n",
    "    :param most_relevant_part:\n",
    "    :return:\n",
    "    \"\"\"\n",
    "    # print(question)\n",
    "    # print(most_relevant_part)\n",
    "    final_results = []\n",
    "    stop = set(stopwords.words('english'))\n",
    "    parse_query = \"\".join(question).split(' ')\n",
    "    parse_query = clean_text(parse_query)\n",
    "    \n",
    "    most_relevant = most_relevant_part.split(' ')\n",
    "    check_result = clean_text(most_relevant)\n",
    "    # print(len(most_relevant))\n",
    "    # print(len(check_result))\n",
    "    #\n",
    "    # print(most_relevant)\n",
    "    # print(check_result)\n",
    "\n",
    "    for ind, word in enumerate(most_relevant):\n",
    "        if check_result[ind] in parse_query and check_result[ind] != []:\n",
    "#             final_results.append('<b>' + word + '</b>') ## If rendering on HTML\n",
    "            final_results.append('\\033[1m' + word + '\\033[0m') ## Python\n",
    "        else:\n",
    "            final_results.append(word)\n",
    "\n",
    "#     return \" \".join(('...', ' '.join(final_results), '<b>' + '... Continue reading case' + '</b>' )) HTML\n",
    "    return \" \".join(('...', ' '.join(final_results), '\\033[1m' + '... Continue reading case' + '\\033[0m')) ## Python\n",
    "\n",
    "def get_most_relevant_part(case_index, corpus_df, query, top_n=3, highlight_num=1):\n",
    "    \"\"\"\n",
    "    :param case_index: int, the index of the case\n",
    "    :param corpus_df: pandas dataframe, for the entire corpus of cases\n",
    "    :param query: string, of the web-input query\n",
    "    :param top_n: int, the top n matching paragraphs with query\n",
    "    :returns query: the original query,\n",
    "            top_result: list, of top indexed matching paragraphs,\n",
    "            list_of_paragraphs:\n",
    "\n",
    "    Two use cases: \n",
    "        (1) if highlight_num == 1 then it's to return for single highlighting. \n",
    "            See highlight_key_query_words() for example. \n",
    "        (2) if highlight_num > 1 then this function is for returning the list of 3 most\n",
    "        relevant parts of a text to be highlighted once a user clicks on the search result. \n",
    "    \n",
    "    \"\"\"\n",
    "    ## Step 1: Load up the data frame\n",
    "    html = corpus_df.html_format[case_index]\n",
    "    soup = BeautifulSoup(html, 'lxml')\n",
    "\n",
    "    ## Step 2: Parse the case into a list of strings\n",
    "    list_of_paragraphs = []\n",
    "    for paragaph in soup.findAll('p'):\n",
    "        list_of_paragraphs.append(paragaph.getText())\n",
    "\n",
    "    ## Step 3: Parse case and vectorize with Tf-IDF weights\n",
    "    cleaned_text = clean_text(list_of_paragraphs)\n",
    "    list_of_strings = [\" \".join(lst) for lst in cleaned_text]\n",
    "    vectorizer = TfidfVectorizer(stop_words='english')\n",
    "    vectors = vectorizer.fit_transform(list_of_strings)\n",
    "\n",
    "    ## Step 4: Vectorize Query\n",
    "#     query_list = [query]\n",
    "    cleaned_query = clean_text(query)\n",
    "    query_list_of_strings = [\" \".join(lst) for lst in cleaned_query]\n",
    "    tokenized_query = vectorizer.transform(query_list_of_strings)\n",
    "\n",
    "    ## Step 5: Run Cosine Similarity on Query and Case Text\n",
    "    cosine_similarities = linear_kernel(tokenized_query, vectors)\n",
    "    top_results = [i for i in np.argsort(cosine_similarities[0])[-1:-top_n - 1:-1]]\n",
    "\n",
    "    if highlight_num == 1: \n",
    "        highlight_output = list_of_paragraphs[top_results[0]]\n",
    "    \n",
    "    elif highlight_num == 2: \n",
    "        highlight_output = [list_of_paragraphs[ind] for ind in top_results[0:2]]  \n",
    "    else: \n",
    "        highlight_output = [list_of_paragraphs[ind] for ind in top_results[0:3]]   \n",
    "        \n",
    "    return highlight_output  ## Returns top 3 indexed cases\n"
   ]
  },
  {
   "cell_type": "markdown",
   "metadata": {},
   "source": [
    "## QUERY: What is the penalty for drug trafficking?\n",
    "## Index of RESULTS [2939, 4213, 3703, 695, 1810, 3397, 3311, 2663, 177, 1587]\n"
   ]
  },
  {
   "cell_type": "code",
   "execution_count": 50,
   "metadata": {},
   "outputs": [],
   "source": [
    "# What is the penalty for drug trafficking?\n",
    "## FLASK RESULT: [2269, 1219, 1416, 2458, 4468, 1769, 1948, 2035, 4466, 1927]\n",
    "## result.py RESULT: [1537, 1659, 2446, 1761, 1868, 1927, 82, 1272, 864, 3177]\n",
    "\n",
    "\n"
   ]
  },
  {
   "cell_type": "code",
   "execution_count": 51,
   "metadata": {},
   "outputs": [
    {
     "name": "stdout",
     "output_type": "stream",
     "text": [
      "... 5.   As noted above, “aggravated felony” includes the “illicit \u001b[1mtrafficking\u001b[0m in a controlled substance ․ including a \u001b[1mdrug\u001b[0m \u001b[1mtrafficking\u001b[0m crime (as defined in section 924(c) of Title 18).”   Although it does not matter in application, we note that a \u001b[1mdrug\u001b[0m offense with a \u001b[1mtrafficking\u001b[0m element is “illicit trafficking” and a \u001b[1mdrug\u001b[0m offense that is punishable as a felony under federal law is a “drug \u001b[1mtrafficking\u001b[0m crime.” \u001b[1m... Continue reading case\u001b[0m\n"
     ]
    }
   ],
   "source": [
    "\n",
    "## Make sure query is in a LIST, otherwise WON'T WORK!\n",
    "legal_query = ['What is the penalty for drug trafficking?']\n",
    "data = model[3]\n",
    "index = 4213\n",
    "html = data.html_format[index]\n",
    "\n",
    "results = get_most_relevant_part(index, data, legal_query, top_n=3, highlight_num = 1)\n",
    "# print(results)\n",
    "highlights = highlight_key_query_words(legal_query, results)\n",
    "print(highlights)\n",
    "\n",
    "# print(list_of_paragraphs[23])\n"
   ]
  },
  {
   "cell_type": "markdown",
   "metadata": {},
   "source": [
    "## Finding top 3 most relevant parts of the text"
   ]
  },
  {
   "cell_type": "code",
   "execution_count": 57,
   "metadata": {},
   "outputs": [
    {
     "name": "stdout",
     "output_type": "stream",
     "text": [
      "b'5.As noted above, aggravated felony includes the illicit trafficking in a controlled substance  including a drug trafficking crime (as defined in section 924(c) of Title 18).  Although it does not matter in application, we note that a drug offense with a trafficking element is illicit trafficking and a drug offense that is punishable as a felony under federal law is a drug trafficking crime. The Hernandez-Avalos Court reached its conclusion by following cases interpreting the statutory definition of drug trafficking crime in the context of sentencing enhancement. 251 F.3d at 508 (citing United States v. Hinojosa-Lopez, 130 F.3d 691 (5th Cir.1997)).  Under the Sentencing Guidelines, anyone convicted of unlawful reentry after removal is subject to an enhanced penalty if she previously was convicted of an aggravated felony in the United States. U.S.S.G. 2L1.2. The Sentencing Guidelines previously defined aggravated felony with reference to the INA, 8 U.S.C. 1101(a)(43), which in turn incorporated the definition of drug trafficking crime under 18 U.S.C. 924(c). See United States v. Ballesteros-Ruiz, 319 F.3d 1101, 1103 (9th Cir.2003).  As noted above, a drug trafficking crime includes any felony punishable under the CSA and two other federal drug laws. 18 U.S.C. 924(c)(2). Hinojosa-Lopez concluded that drug trafficking crime includes any state offense that is (1) punishable under the CSA and (2) a felony, relying on the text of the definition of drug trafficking crime, the decisions of other federal courts of appeals, and commentary in the Sentencing Guidelines. 130 F.3d at 693-94. Current law clearly renders an alien convicted of a Federal drug trafficking offense an aggravated felon.  It has been less clear whether a state drug trafficking conviction brings that same result, although the Board of Immigration Appeals in Matter of Barrett (March 6, 1990) has recently ruled that it does.  Because the Committee concurs with the recent decision of the Board of Immigration Appeals and wishes to end further litigation on this issue, section 1501 of H.R. 5269 specifies that drug trafficking (and firearms/destructive device trafficking) is an aggravated felony whether or not the conviction occurred in state or Federal court.'\n"
     ]
    }
   ],
   "source": [
    "\n",
    "results = get_most_relevant_part(index, data, legal_query, top_n=3, highlight_num = 3)\n",
    "\n",
    "# print(len(results))\n",
    "\n",
    "list_of_top_3 = [res for res in results]\n",
    "string_of_top_3 = str(\" \".join(list_of_top_3).encode(\"ascii\", \"ignore\"))\n",
    "print(string_of_top_3)"
   ]
  },
  {
   "cell_type": "code",
   "execution_count": 24,
   "metadata": {},
   "outputs": [
    {
     "name": "stdout",
     "output_type": "stream",
     "text": [
      "76\n",
      "5.   As noted above, “aggravated felony” includes the “illicit trafficking in a controlled substance ․ including a drug trafficking crime (as defined in section 924(c) of Title 18).”   Although it does not matter in application, we note that a drug offense with a trafficking element is “illicit trafficking” and a drug offense that is punishable as a felony under federal law is a “drug trafficking crime.”\n"
     ]
    }
   ],
   "source": [
    "html = data.html_format[index]\n",
    "\n",
    "# content = requests.get(html).content\n",
    "soup = BeautifulSoup(html, 'lxml')\n",
    "\n",
    "list_of_paragraphs = []\n",
    "for paragaph in soup.findAll('p'): \n",
    "    list_of_paragraphs.append(paragaph.getText())\n",
    "# print(model[3].html_format[0])\n",
    "\n",
    "print(len(list_of_paragraphs))\n",
    "print(list_of_paragraphs[69])\n",
    "\n"
   ]
  },
  {
   "cell_type": "code",
   "execution_count": 64,
   "metadata": {},
   "outputs": [
    {
     "data": {
      "text/html": [
       "<div>\n",
       "<style>\n",
       "    .dataframe thead tr:only-child th {\n",
       "        text-align: right;\n",
       "    }\n",
       "\n",
       "    .dataframe thead th {\n",
       "        text-align: left;\n",
       "    }\n",
       "\n",
       "    .dataframe tbody tr th {\n",
       "        vertical-align: top;\n",
       "    }\n",
       "</style>\n",
       "<table border=\"1\" class=\"dataframe\">\n",
       "  <thead>\n",
       "    <tr style=\"text-align: right;\">\n",
       "      <th></th>\n",
       "      <th>Unnamed: 0</th>\n",
       "      <th>Unnamed: 0.1</th>\n",
       "      <th>case_text</th>\n",
       "      <th>case_title</th>\n",
       "      <th>court</th>\n",
       "      <th>date</th>\n",
       "      <th>docket</th>\n",
       "      <th>tags</th>\n",
       "      <th>type_of_law</th>\n",
       "      <th>url</th>\n",
       "      <th>web_source</th>\n",
       "      <th>html_format</th>\n",
       "      <th>title_date</th>\n",
       "    </tr>\n",
       "  </thead>\n",
       "  <tbody>\n",
       "    <tr>\n",
       "      <th>0</th>\n",
       "      <td>0</td>\n",
       "      <td>1</td>\n",
       "      <td>United States Court of Appeals,Tenth Circuit.\\...</td>\n",
       "      <td>Porro v. Barnes</td>\n",
       "      <td>United States Tenth Circuit</td>\n",
       "      <td>11/09/2010</td>\n",
       "      <td>10-6002</td>\n",
       "      <td>Civil Rights, Constitutional Law, Immigration ...</td>\n",
       "      <td>case</td>\n",
       "      <td>http://caselaw.findlaw.com/us-10th-circuit/154...</td>\n",
       "      <td>findlaw.com</td>\n",
       "      <td>[&lt;div class=\"caselawcontent searchable-content...</td>\n",
       "      <td>Porro v. Barnes 11/09/2010</td>\n",
       "    </tr>\n",
       "    <tr>\n",
       "      <th>1</th>\n",
       "      <td>1</td>\n",
       "      <td>2</td>\n",
       "      <td>United States Court of Appeals,Tenth Circuit.\\...</td>\n",
       "      <td>Garcia-Carbajal v. Holder</td>\n",
       "      <td>United States Tenth Circuit</td>\n",
       "      <td>11/05/2010</td>\n",
       "      <td>09-9558</td>\n",
       "      <td>Administrative Law, Immigration Law</td>\n",
       "      <td>case</td>\n",
       "      <td>http://caselaw.findlaw.com/us-10th-circuit/154...</td>\n",
       "      <td>findlaw.com</td>\n",
       "      <td>[&lt;div class=\"caselawcontent searchable-content...</td>\n",
       "      <td>Garcia-Carbajal v. Holder 11/05/2010</td>\n",
       "    </tr>\n",
       "    <tr>\n",
       "      <th>2</th>\n",
       "      <td>2</td>\n",
       "      <td>3</td>\n",
       "      <td>United States Court of Appeals,Tenth Circuit.\\...</td>\n",
       "      <td>US v. Rendon-Alamo</td>\n",
       "      <td>United States Tenth Circuit</td>\n",
       "      <td>10/19/2010</td>\n",
       "      <td>10-2089</td>\n",
       "      <td>Sentencing, Immigration Law, Criminal Law &amp; Pr...</td>\n",
       "      <td>case</td>\n",
       "      <td>http://caselaw.findlaw.com/us-10th-circuit/154...</td>\n",
       "      <td>findlaw.com</td>\n",
       "      <td>[&lt;div class=\"caselawcontent searchable-content...</td>\n",
       "      <td>US v. Rendon-Alamo 10/19/2010</td>\n",
       "    </tr>\n",
       "    <tr>\n",
       "      <th>3</th>\n",
       "      <td>3</td>\n",
       "      <td>5</td>\n",
       "      <td>United States Court of Appeals,Tenth Circuit.\\...</td>\n",
       "      <td>Iliev v. Holder</td>\n",
       "      <td>United States Tenth Circuit</td>\n",
       "      <td>07/19/2010</td>\n",
       "      <td>09-9517</td>\n",
       "      <td>Administrative Law, Immigration Law</td>\n",
       "      <td>case</td>\n",
       "      <td>http://caselaw.findlaw.com/us-10th-circuit/153...</td>\n",
       "      <td>findlaw.com</td>\n",
       "      <td>[&lt;div class=\"caselawcontent searchable-content...</td>\n",
       "      <td>Iliev v. Holder 07/19/2010</td>\n",
       "    </tr>\n",
       "    <tr>\n",
       "      <th>4</th>\n",
       "      <td>4</td>\n",
       "      <td>6</td>\n",
       "      <td>United States Court of Appeals,Tenth Circuit.\\...</td>\n",
       "      <td>US v. Adame-Orozco</td>\n",
       "      <td>United States Tenth Circuit</td>\n",
       "      <td>06/04/2010</td>\n",
       "      <td>09-3296</td>\n",
       "      <td>Criminal Law &amp; Procedure, Immigration Law</td>\n",
       "      <td>case</td>\n",
       "      <td>http://caselaw.findlaw.com/us-10th-circuit/152...</td>\n",
       "      <td>findlaw.com</td>\n",
       "      <td>[&lt;div class=\"caselawcontent searchable-content...</td>\n",
       "      <td>US v. Adame-Orozco 06/04/2010</td>\n",
       "    </tr>\n",
       "  </tbody>\n",
       "</table>\n",
       "</div>"
      ],
      "text/plain": [
       "   Unnamed: 0  Unnamed: 0.1  \\\n",
       "0           0             1   \n",
       "1           1             2   \n",
       "2           2             3   \n",
       "3           3             5   \n",
       "4           4             6   \n",
       "\n",
       "                                           case_text  \\\n",
       "0  United States Court of Appeals,Tenth Circuit.\\...   \n",
       "1  United States Court of Appeals,Tenth Circuit.\\...   \n",
       "2  United States Court of Appeals,Tenth Circuit.\\...   \n",
       "3  United States Court of Appeals,Tenth Circuit.\\...   \n",
       "4  United States Court of Appeals,Tenth Circuit.\\...   \n",
       "\n",
       "                  case_title                        court        date  \\\n",
       "0            Porro v. Barnes  United States Tenth Circuit  11/09/2010   \n",
       "1  Garcia-Carbajal v. Holder  United States Tenth Circuit  11/05/2010   \n",
       "2         US v. Rendon-Alamo  United States Tenth Circuit  10/19/2010   \n",
       "3            Iliev v. Holder  United States Tenth Circuit  07/19/2010   \n",
       "4         US v. Adame-Orozco  United States Tenth Circuit  06/04/2010   \n",
       "\n",
       "    docket                                               tags type_of_law  \\\n",
       "0  10-6002  Civil Rights, Constitutional Law, Immigration ...        case   \n",
       "1  09-9558                Administrative Law, Immigration Law        case   \n",
       "2  10-2089  Sentencing, Immigration Law, Criminal Law & Pr...        case   \n",
       "3  09-9517                Administrative Law, Immigration Law        case   \n",
       "4  09-3296          Criminal Law & Procedure, Immigration Law        case   \n",
       "\n",
       "                                                 url   web_source  \\\n",
       "0  http://caselaw.findlaw.com/us-10th-circuit/154...  findlaw.com   \n",
       "1  http://caselaw.findlaw.com/us-10th-circuit/154...  findlaw.com   \n",
       "2  http://caselaw.findlaw.com/us-10th-circuit/154...  findlaw.com   \n",
       "3  http://caselaw.findlaw.com/us-10th-circuit/153...  findlaw.com   \n",
       "4  http://caselaw.findlaw.com/us-10th-circuit/152...  findlaw.com   \n",
       "\n",
       "                                         html_format  \\\n",
       "0  [<div class=\"caselawcontent searchable-content...   \n",
       "1  [<div class=\"caselawcontent searchable-content...   \n",
       "2  [<div class=\"caselawcontent searchable-content...   \n",
       "3  [<div class=\"caselawcontent searchable-content...   \n",
       "4  [<div class=\"caselawcontent searchable-content...   \n",
       "\n",
       "                             title_date  \n",
       "0            Porro v. Barnes 11/09/2010  \n",
       "1  Garcia-Carbajal v. Holder 11/05/2010  \n",
       "2         US v. Rendon-Alamo 10/19/2010  \n",
       "3            Iliev v. Holder 07/19/2010  \n",
       "4         US v. Adame-Orozco 06/04/2010  "
      ]
     },
     "execution_count": 64,
     "metadata": {},
     "output_type": "execute_result"
    }
   ],
   "source": [
    "# print(data.html_format[index])\n",
    "\n",
    "# raw_text = [word.getText() for word in soup.prettify()]  \n",
    "\n",
    "# list_of_paragraphs\n",
    "# str_= str(html.encode(\"ascii\", \"ignore\").replace(\"\\n\", ''))\n",
    "# print(str_)\n",
    "\n",
    "data.head()"
   ]
  },
  {
   "cell_type": "markdown",
   "metadata": {},
   "source": [
    "## Sentimentality Scoring"
   ]
  },
  {
   "cell_type": "code",
   "execution_count": 43,
   "metadata": {},
   "outputs": [
    {
     "name": "stdout",
     "output_type": "stream",
     "text": [
      "Sentiment(polarity=0.02262087090606946, subjectivity=0.4221132157052735)\n",
      "Sentiment(classification='pos', p_pos=1.0, p_neg=8.860405334569313e-85)\n"
     ]
    }
   ],
   "source": [
    "from textblob import TextBlob\n",
    "# document = model[3].case_text[4213]\n",
    "# string = string()\n",
    "stringy = str(\" \".join(list_of_paragraphs).encode(\"ascii\", \"ignore\"))\n",
    "\n",
    "opinion = TextBlob(string)\n",
    "print (opinion.sentiment)\n",
    "\n",
    "from textblob.sentiments import NaiveBayesAnalyzer\n",
    "opinion = TextBlob(string, analyzer=NaiveBayesAnalyzer())\n",
    "print (opinion.sentiment)\n"
   ]
  },
  {
   "cell_type": "markdown",
   "metadata": {},
   "source": [
    "###  Looks like the WHOLE document is classified as low polarity, and lesss subject (more objective)"
   ]
  },
  {
   "cell_type": "markdown",
   "metadata": {},
   "source": [
    "### Now let's look at just the TOP 3 highlighted texts"
   ]
  },
  {
   "cell_type": "code",
   "execution_count": 60,
   "metadata": {},
   "outputs": [
    {
     "name": "stdout",
     "output_type": "stream",
     "text": [
      "-0.056862745098039215\n",
      "Sentiment(classification='pos', p_pos=0.9999999729376016, p_neg=2.7062417380635343e-08)\n"
     ]
    }
   ],
   "source": [
    "####QUERY: What is the penalty for drug trafficking?\n",
    "legal_query = ['What is the penalty for drug trafficking?']\n",
    "data = model[3]\n",
    "index = 4213\n",
    "html = data.html_format[index]\n",
    "results = get_most_relevant_part(index, data, legal_query, top_n=3, highlight_num = 3)\n",
    "\n",
    "list_of_top_3 = [res for res in results]\n",
    "string_of_top_3 = str(\" \".join(list_of_top_3).encode(\"ascii\", \"ignore\"))\n",
    "\n",
    "opinion = TextBlob(string_of_top_3)\n",
    "print (opinion.sentiment[0])\n",
    "\n",
    "opinion = TextBlob(string_of_top_3, analyzer=NaiveBayesAnalyzer())\n",
    "print (opinion.sentiment)"
   ]
  },
  {
   "cell_type": "markdown",
   "metadata": {},
   "source": [
    "## Looks like in the most relevant portions of the case -- there's a negative polarity, meaning a negative sentiment overall. Whereas the classifier is a positive classification... \n",
    "\n",
    "## There's also the differenc between "
   ]
  },
  {
   "cell_type": "code",
   "execution_count": 62,
   "metadata": {},
   "outputs": [
    {
     "name": "stdout",
     "output_type": "stream",
     "text": [
      "4.715686274509804\n"
     ]
    }
   ],
   "source": [
    "OldMax, OldMin = 1, -1\n",
    "NewMax, NewMin = 10, 0\n",
    "OldValue = -0.056862745098039215\n",
    "\n",
    "OldRange = (OldMax - OldMin)  \n",
    "NewRange = (NewMax - NewMin)  \n",
    "NewValue = (((OldValue - OldMin) * NewRange) / OldRange) + NewMin\n",
    "\n",
    "print(NewValue)"
   ]
  },
  {
   "cell_type": "code",
   "execution_count": null,
   "metadata": {},
   "outputs": [],
   "source": []
  },
  {
   "cell_type": "code",
   "execution_count": 10,
   "metadata": {},
   "outputs": [],
   "source": [
    "## QUERY: What is the penalty for drug trafficking?\n",
    "## RESULTS [2939, 4213, 3703, 695, 1810, 3397, 3311, 2663, 177, 1587]\n",
    "\n",
    "def get_top_values(lst, n):\n",
    "    '''\n",
    "    INPUT: LIST, INTEGER, LIST\n",
    "    OUTPUT: LIST\n",
    "\n",
    "    Given a list of values, find the indices with the highest n values.\n",
    "    Return the labels for each of these indices.\n",
    "\n",
    "    e.g.\n",
    "    lst = [7, 3, 2, 4, 1]\n",
    "    n = 2\n",
    "    labels = [\"cat\", \"dog\", \"mouse\", \"pig\", \"rabbit\"]\n",
    "    output: [\"cat\", \"pig\"]\n",
    "    \n",
    "    [-1:-n-1:-1]\n",
    "    '''\n",
    "    return [i for i in np.argsort(lst)[-1:-n-1:-1]]\n",
    "\n",
    "def most_relevant_part_of_one_text(case, query): \n",
    "    \n",
    "    \n",
    "    vectorizer = TfidfVectorizer(stop_words='english')\n",
    "    vectors = vectorizer.fit_transform(case).toarray()\n",
    "        \n",
    "    tokenized_query = vectorizer.transform(query)\n",
    "    cosine_similarities = results.cosine_similarity(vectorized_query, index_vectors)\n",
    "    \n",
    "    top_results = (results.get_top_values(cosine_similarities[0], 10), query)\n",
    "\n",
    "    return top_results\n",
    "\n",
    "\n",
    "def tokenize(tokenize_texts):\n",
    "    \"\"\"\n",
    "    :param case_text: list of strings (case_texts)\n",
    "    :returns: list of strings, tokenized word.\n",
    "    \"\"\"\n",
    "    table = str.maketrans({key: None for key in string.punctuation})\n",
    "    return [word_tokenize(case.translate(table).lower()) for case in tokenize_texts]\n",
    "\n",
    "def remove_stop_words(remove_stop_text):\n",
    "    \"\"\"\n",
    "    :param case_text: list of lists of strings (tokens)\n",
    "    :returns: list of lists of strings(tokens) without stopwords\n",
    "    \"\"\"\n",
    "    stop = set(stopwords.words('english'))\n",
    "    return [[word for word in words if word not in stop] for words in remove_stop_text]\n",
    "\n",
    "def stem_words(stem_word_text):\n",
    "    \"\"\"\n",
    "    :param without_stop: list of lists without stop words\n",
    "    :return: list of lists of strings (stemmed words)\n",
    "    \"\"\"\n",
    "    snowball = SnowballStemmer('english')\n",
    "    return [[snowball.stem(word) for word in words] for words in stem_word_text]\n",
    "\n",
    "\n",
    "def clean_text(case_text):\n",
    "    \"\"\"\n",
    "    :param case_text: list of strings (case_text)\n",
    "    :return: list of lists of strings (stemmed words)\n",
    "    \"\"\"\n",
    "    \n",
    "    table = str.maketrans({key: None for key in string.punctuation})\n",
    "    tokenized = [word_tokenize(case.translate(table).lower()) for case in case_text]\n",
    "    stop = set(stopwords.words('english'))\n",
    "    remove_stop_words = [[word for word in words if word not in stop] for words in tokenized]\n",
    "    snowball = SnowballStemmer('english')\n",
    "    ## Stemmed words \n",
    "    return [[snowball.stem(word) for word in words] for words in remove_stop_words]\n",
    "\n",
    "# most_relevant_part_of_one_text(model[3].case_text[0], query)\n",
    "\n",
    "# ## Step \n",
    "\n",
    "# vectorizer = TfidfVectorizer(stop_words='english')\n",
    "# vectors = vectorizer.fit_transform(data).toarray()\n"
   ]
  },
  {
   "cell_type": "code",
   "execution_count": null,
   "metadata": {},
   "outputs": [],
   "source": []
  }
 ],
 "metadata": {
  "kernelspec": {
   "display_name": "Python 3",
   "language": "python",
   "name": "python3"
  },
  "language_info": {
   "codemirror_mode": {
    "name": "ipython",
    "version": 3
   },
   "file_extension": ".py",
   "mimetype": "text/x-python",
   "name": "python",
   "nbconvert_exporter": "python",
   "pygments_lexer": "ipython3",
   "version": "3.6.3"
  }
 },
 "nbformat": 4,
 "nbformat_minor": 2
}
