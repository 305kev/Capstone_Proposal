{
 "cells": [
  {
   "cell_type": "code",
   "execution_count": 2,
   "metadata": {},
   "outputs": [],
   "source": [
    "# -*- coding: utf-8 -*-\n",
    "import scrapy\n",
    "from scrapy.spiders import CrawlSpider, Rule\n",
    "from scrapy.linkextractors import LinkExtractor\n"
   ]
  },
  {
   "cell_type": "code",
   "execution_count": 3,
   "metadata": {
    "collapsed": true
   },
   "outputs": [],
   "source": [
    "\n",
    "\n",
    "class legalSpider(CrawlSpider):\n",
    "    name = \"legal\"\n",
    "    allowed_domains = [\"http://caselaw.findlaw.com/\"]\n",
    "    start_urls = [\n",
    "        'http://caselaw.findlaw.com/summary/search/?query=filters&court=us-1st-circuit&dateFormat=yyyyMMdd&topic=cs_42&pgnum=1'\n",
    "    ]\n",
    "    \n",
    "\n",
    "\n",
    "    rules = (\n",
    "        Rule(LinkExtractor(allow=(), restrict_css=('.pgnum',)),\n",
    "             callback=\"parse_item\",\n",
    "             follow=False),)\n",
    "\n",
    "    def parse_item(self, response):\n",
    "        item_links = response.css('.large > .detailsLink::attr(href)').extract()\n",
    "        for a in item_links:\n",
    "            yield scrapy.Request(a, callback=self.parse_detail_page)\n",
    "\n",
    "    def parse_detail_page(self, response):\n",
    "        title = response.css('h1::text').extract()[0].strip()\n",
    "        price = response.css('.pricelabel > strong::text').extract()[0]\n",
    "\n",
    "#         item = OlxItem()\n",
    "#         item['title'] = title\n",
    "#         item['price'] = price\n",
    "#         item['url'] = response.url\n",
    "        yield item"
   ]
  },
  {
   "cell_type": "code",
   "execution_count": null,
   "metadata": {
    "collapsed": true
   },
   "outputs": [],
   "source": []
  }
 ],
 "metadata": {
  "kernelspec": {
   "display_name": "Python 2",
   "language": "python",
   "name": "python2"
  },
  "language_info": {
   "codemirror_mode": {
    "name": "ipython",
    "version": 2
   },
   "file_extension": ".py",
   "mimetype": "text/x-python",
   "name": "python",
   "nbconvert_exporter": "python",
   "pygments_lexer": "ipython2",
   "version": "2.7.13"
  }
 },
 "nbformat": 4,
 "nbformat_minor": 2
}
