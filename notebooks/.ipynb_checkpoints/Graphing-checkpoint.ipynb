{
 "cells": [
  {
   "cell_type": "code",
   "execution_count": 1,
   "metadata": {},
   "outputs": [],
   "source": [
    "import pandas as pd\n",
    "import numpy as np\n",
    "import find_citation\n",
    "import networkx as nx\n",
    "import pandas as pd\n",
    "from collections import Counter\n",
    "\n",
    "%matplotlib inline"
   ]
  },
  {
   "cell_type": "code",
   "execution_count": 2,
   "metadata": {},
   "outputs": [],
   "source": [
    "df = pd.read_csv('/Users/kevingmagana/DSI/capstone/external_data/first_merged_case_law.csv', sep='\\t', encoding='utf-8')"
   ]
  },
  {
   "cell_type": "code",
   "execution_count": 3,
   "metadata": {},
   "outputs": [],
   "source": [
    "data = df.case_text[df.case_text.notnull()]\n",
    "\n",
    "document = data[1]"
   ]
  },
  {
   "cell_type": "code",
   "execution_count": 4,
   "metadata": {},
   "outputs": [
    {
     "name": "stdout",
     "output_type": "stream",
     "text": [
      "4527\n"
     ]
    },
    {
     "data": {
      "text/plain": [
       "'2006'"
      ]
     },
     "execution_count": 4,
     "metadata": {},
     "output_type": "execute_result"
    }
   ],
   "source": [
    "print (len(data)), (type(data))\n",
    "\n",
    "ay= '(1979)'\n",
    "ay.replace('(', '').replace(')', '')\n",
    "\n",
    "\n",
    "import re\n",
    "I = \"Cir.2006)\"\n",
    "s = re.search(r\"\\d+(\\.\\d+)?\", I)\n",
    "s.group(0)\n"
   ]
  },
  {
   "cell_type": "code",
   "execution_count": 5,
   "metadata": {
    "scrolled": true
   },
   "outputs": [
    {
     "data": {
      "text/plain": [
       "['States v. Rivera–Ventura (1995)',\n",
       " 'States v. Acevedo (2000)',\n",
       " 'States v. Williams (2013)',\n",
       " 'States v. Ambriz–Ambriz',\n",
       " 'States v. Angeles–Mascote (2000)',\n",
       " 'Shaughnessy v. United (1953)',\n",
       " 'Zavydas v. Davis (2001)',\n",
       " 'United States v.1903 (1990)',\n",
       " 'States v. Williams (2013)',\n",
       " 'States v. Angeles–Mascote (2000)',\n",
       " 'States v. Canals–Jimenez (1991)',\n",
       " 'States v. Zavala–Mendez (2005)',\n",
       " 'Correa v. Thornburgh (1990)',\n",
       " 'States v. Champegnie (1991)',\n",
       " 'Morissette v. United (1952)',\n",
       " 'Liparota v. United (1985)',\n",
       " \"Ass'n v. United (2010)\",\n",
       " 'States v. Newton (1982)',\n",
       " 'States v. Rodriguez (2005)',\n",
       " 'States v. Martus (1998)',\n",
       " 'States v. Salazar–Robles (2000)',\n",
       " 'States v. Salazar–Robles',\n",
       " 'States v. Hernandez–Noriega (2008)',\n",
       " 'States v. Dixon (2003)',\n",
       " 'States v. Quintana–Torres (2000)',\n",
       " 'States v. Ambriz–Ambriz (2009)',\n",
       " 'Arriaga v. Mukasey (2008)',\n",
       " 'Lanzetta v. New (1939)',\n",
       " 'States v. Munoz (2005)',\n",
       " 'States v. Charleus (1989)',\n",
       " 'States v. Gonzalez–Diaz (2011)',\n",
       " 'States v. Ruiz–Lopez (2000)']"
      ]
     },
     "execution_count": 5,
     "metadata": {},
     "output_type": "execute_result"
    }
   ],
   "source": [
    "# citations = find_citation()\n",
    "\n",
    "\n",
    "# print(new_list[0])\n",
    "\n",
    "def get_citation(citation): \n",
    "    \"\"\"\n",
    "    :param citation: string, a full citation\n",
    "    :returns: string, a partial citation to serve as the nodes\n",
    "\n",
    "    EX: \n",
    "        Baker v. McCollan (1979)\n",
    "        Graham v. Connor (1989)\n",
    "        Austin v. Hamilton (1991)\n",
    "    \n",
    "    \"\"\"\n",
    "    cite = []\n",
    "    for ind, word in enumerate(citation.split(' ')): \n",
    "        if ind == 0 or ind == 1 or ind == 2:\n",
    "            cite.append(word.strip(','))\n",
    "        try: \n",
    "            s = re.search(r\"\\d+(\\.\\d+)?\", word)\n",
    "            year= int(s.group(0))            \n",
    "            if year > 1750 and year <= 2018 and ind > (len(citation.split(' ')))* .80: \n",
    "                year= \"(\", str(year), \")\"\n",
    "                year= \"\".join(year)\n",
    "                cite.append(year)\n",
    "        except: \n",
    "            continue\n",
    "    return \" \".join(cite)\n",
    "    \n",
    "\n",
    "def get_all_citations(document): \n",
    "    \"\"\"\n",
    "    :param document: string, legal document with citations\n",
    "    :returns: list, a list of all citations\n",
    "    \n",
    "    \"\"\"\n",
    "    citations_objects = find_citation.get_citations(document, html=False)\n",
    "    citations_strings=[]\n",
    "    \n",
    "    for obj in citations_objects:\n",
    "        citations_strings.append(str(obj))\n",
    "    \n",
    "    results=[]\n",
    "    for citation in citations_strings: \n",
    "        results.append(get_citation(citation))\n",
    "    \n",
    "    return results\n",
    "\n",
    "get_all_citations(data[1000])"
   ]
  },
  {
   "cell_type": "markdown",
   "metadata": {},
   "source": [
    "## Fix United alone and States alone problem -- \n"
   ]
  },
  {
   "cell_type": "code",
   "execution_count": 6,
   "metadata": {},
   "outputs": [
    {
     "name": "stdout",
     "output_type": "stream",
     "text": [
      "4527\n"
     ]
    }
   ],
   "source": [
    "\"\"\" \n",
    "WARNING -- Takes about a minute to run\n",
    "\n",
    "\"\"\"\n",
    "\n",
    "all_citations=[]\n",
    "\n",
    "for document in data:\n",
    "    all_citations.append(get_all_citations(document))\n",
    "    \n",
    "print(len(all_citations))\n",
    "    \n"
   ]
  },
  {
   "cell_type": "code",
   "execution_count": 7,
   "metadata": {},
   "outputs": [
    {
     "name": "stdout",
     "output_type": "stream",
     "text": [
      "Alaska v. Aragon (1946)\n",
      "United Alaska v. Aragon (1946)\n"
     ]
    }
   ],
   "source": [
    "testing = all_citations[1][1] ## the citation \n",
    "\n",
    "old = all_citations[1][1].split(' ')[0]\n",
    "print(testing)\n",
    "\n",
    "print(testing.replace(old, \"United Alaska\"))\n",
    "\n",
    "\n"
   ]
  },
  {
   "cell_type": "code",
   "execution_count": 8,
   "metadata": {},
   "outputs": [
    {
     "name": "stdout",
     "output_type": "stream",
     "text": [
      "United States v. Hochschild (2006)\n",
      "Citizens v. Bredesen (2007)\n",
      "500 F.3d 523\n"
     ]
    }
   ],
   "source": [
    "\n",
    "### REPLACE states with United States \n",
    "\n",
    "replace_words= {\"states\"}\n",
    "\n",
    "\n",
    "def replace_states_with_United_States(list_of_all_citations):\n",
    "    \"\"\"\n",
    "    :param all_citations: list of lists, each list has all the citations per document  \n",
    "    :returns: list of lists, updated lists: replaced \"States\" as plaintiff with \"United States\" \n",
    "    \n",
    "    EX: \n",
    "        all_citations= \"States v. Brown (2008)\" \n",
    "        returns = \"United States v. Brown (2008)\"\n",
    "    \"\"\"\n",
    "    for first, lst in enumerate(list_of_all_citations):\n",
    "        for second, citation in enumerate(lst): \n",
    "            cite = citation.split(' ')[0] \n",
    "            if cite.lower() in replace_words: \n",
    "                list_of_all_citations[first][second] = citation.replace(cite, \"United States\")\n",
    "   \n",
    "    # Updated Citations\n",
    "    return list_of_all_citations\n",
    "\n",
    "\n",
    "## Testing \n",
    "for citation in replace_states_with_United_States(all_citations)[2200]: \n",
    "    print(citation)\n",
    "\n",
    "\n",
    "    "
   ]
  },
  {
   "cell_type": "code",
   "execution_count": 9,
   "metadata": {},
   "outputs": [
    {
     "data": {
      "text/plain": [
       "'ALVAREZ-REYNAGA v. H. HOLDER (2010)'"
      ]
     },
     "execution_count": 9,
     "metadata": {},
     "output_type": "execute_result"
    }
   ],
   "source": [
    "def get_case_titles(court_case): \n",
    "    \"\"\"\n",
    "    :param court case: STRING, court case document\n",
    "    :returns: STRING, case title\n",
    "        EX: \n",
    "        'UNITED STATES v. RENDON-ALAMO (2010)' \n",
    "    \"\"\"\n",
    "    case_title=[]\n",
    "    for ind, line in enumerate(court_case.splitlines()[0:5]): \n",
    "        if ind==1: \n",
    "            for word in line.split(' '): \n",
    "                if word.isupper() or word=='v.':\n",
    "                    case_title.append(word.strip(','))\n",
    "        if ind ==3: \n",
    "            year= \"(\", line[-4:], \")\"\n",
    "            year= \"\".join(year)\n",
    "            case_title.append(year)\n",
    "            \n",
    "    return \" \".join(case_title)\n",
    "    \n",
    "    \n",
    "get_case_titles(data[4000])  "
   ]
  },
  {
   "cell_type": "code",
   "execution_count": 10,
   "metadata": {},
   "outputs": [],
   "source": [
    "graph_dict = {}\n",
    "\n",
    "fixed_citations = replace_states_with_United_States(all_citations)\n",
    "\n",
    "for ind, document in enumerate(data):\n",
    "    graph_dict[get_case_titles(document)] = fixed_citations[ind] \n",
    "    \n",
    "\n",
    "    \n",
    "    "
   ]
  },
  {
   "cell_type": "code",
   "execution_count": 11,
   "metadata": {},
   "outputs": [
    {
     "name": "stdout",
     "output_type": "stream",
     "text": [
      "PORRO v. BARNES (2010)\n",
      "['Baker v. McCollan (1979)', 'Graham v. Connor (1989)', 'Austin v. Hamilton (1991)', 'Johnson v. Jones (1995)', 'Hudson v. McMillan (1992)', 'Ingraham v. Wright (1977)', 'Sacramento v. Lewis (1998)', 'Roska v. Peterson (2003)', 'Edwards v. Johnson (2000)', 'Trujillo v. Williams (2006)', 'Novitsky v. City (2007)', 'Serna v. Colo. (2006)', 'Jenkins v. Wood (1996)', 'Coleman v. Turpen (1982)', 'Dodds v. Richardson (2010)', \"Monell v. Dep't (1978)\", 'Barney v. Pulsipher (1998)', 'Kentucky v. Graham (1985)', 'Lopez v. LeMaster (1999)', 'Canton v. Harris (1989)', 'Hinton v. City (1993)', 'Draper v. Reynolds (2004)', 'Jasper v. Thalacker (1993)', 'Caldwell v. Moore (1992)', 'Michenfelder v. Sumner (1988)']\n",
      "GARCIA-CARBAJAL v. H. HOLDER (2010)\n",
      "['Sidabutar v. Gonzales (2007)', 'Alaska v. Aragon (1946)', 'Weinberger v. Salfi (1975)', 'Micheli v. Dir. (1988)', 'Cruz v. Maurer (2007)', 'FCC v. Pottsville (1940)', 'Solis-Muela v. I.N.S. (1993)']\n",
      "UNITED STATES v. RENDON-ALAMO (2010)\n",
      "['United States v. Todd (2008)', 'United States v. Morris (2009)', 'Stinson v. United (1993)', 'Braxton v. United (1991)', 'United States v. Ruiz-Gea (2003)', 'United States v. Compian-Torres (2003)', 'United States v. Moreno-Cisneros (2003)', 'United States v. Gomez-Leon (2008)', 'United States v. Leiva-Deras (2004)', 'United States v. Dozier (2009)']\n",
      "ILIEV v. H. HOLDER (2010)\n",
      "['Reno v. Am.-Arab (1999)', 'Atsilov v. Gonzales (2006)', 'e.g. Contreras-Salinas v.. (2009)', 'Rodriguez v. Holder (2009)', 'Nguyen v. Mukasey (2008)', 'Cho v. Gonzales (2005)', 'Urena-Tavarez v. Ashcroft (2004)', 'Assaad v. Ashcroft (2004)', 'Oropeza-Wong v. Gonzales (2005)', 'Singh v. Holder (2010)', 'Ratzlaf v. United (1994)', 'Perales-Cumpean v. Gonzales (2005)', 'Russello v. United (1983)', 'Russo v. Ballard (2008)', 'Bark v. INS (1975)', 'Conference v. Abortion (1988)', 'C & M (2009)', 'Wang v. Bd. (2006)', 'Adler v. Wal-Mart (1998)', 'Uanreroro v. Gonzales (2006)', 'Sarr v. Gonzales (2007)']\n",
      "UNITED STATES v. F. ADAME-OROZCO (2010)\n",
      "['United States v. Rivera-Nevarez (2005)', 'United States v. Arevalo-Tavares (2000)', 'United States v. Sandoval (2004)', 'United States v. Ron (1989)', 'United States v. Saenz-Gomez (2007)', 'Moosa v. INS (1999)', 'Custis v. United (1994)', 'Whitman v. Am. (2001)', 'United States v. Mendoza-Lopez (1987)', 'United States v. Wittgenstein (1998)', 'United States v. Garcia (1994)', 'Zhong v. U.S. (2007)', 'United States v. Pena-Renovato (1999)', 'Almendarez-Torres v. United (1998)', 'Blakely v. Washington (2004)', 'United States v. Booker (2005)', 'Shepard v. United (2005)', 'Lujan-Armendariz v. INS (2000)', 'Cruz-Garza v. Ashcroft (2005)', 'United States v. Copeland (2004)', 'United States v. Lopez (2006)', 'Ali v. Ashcroft (2005)', 'Rodriguez v. Reno (1999)', 'Trench v. INS (1986)', 'Rosillo-Puga v. Holder (2009)']\n"
     ]
    }
   ],
   "source": [
    "count = 0\n",
    "for key, value in graph_dict.items(): \n",
    "    count +=1\n",
    "    if count > 5: \n",
    "        break\n",
    "    print(key.replace(';','')), print(value)\n",
    "    \n",
    "    "
   ]
  },
  {
   "cell_type": "markdown",
   "metadata": {},
   "source": [
    "## Instantiate a networkx Graph"
   ]
  },
  {
   "cell_type": "code",
   "execution_count": 12,
   "metadata": {},
   "outputs": [
    {
     "name": "stdout",
     "output_type": "stream",
     "text": [
      "# nodes: 27703\n",
      "# edges: 69855\n"
     ]
    }
   ],
   "source": [
    "G = nx.Graph(graph_dict)\n",
    "\n",
    "print ('# nodes:', G.number_of_nodes())\n",
    "print ('# edges:', G.number_of_edges())"
   ]
  },
  {
   "cell_type": "code",
   "execution_count": 13,
   "metadata": {},
   "outputs": [
    {
     "name": "stdout",
     "output_type": "stream",
     "text": [
      "['UNITED STATES v. F. ADAME-OROZCO (2010)', 'United States v. Ron (1989)', 'KWAI FUN WONG; v. V. BEEBE (2013)', 'Russello v. United (1983)', 'ILIEV v. H. HOLDER (2010)']\n"
     ]
    }
   ],
   "source": [
    "print (nx.shortest_path(G, 'UNITED STATES v. F. ADAME-OROZCO (2010)', 'ILIEV v. H. HOLDER (2010)'))\n"
   ]
  },
  {
   "cell_type": "code",
   "execution_count": 14,
   "metadata": {},
   "outputs": [
    {
     "name": "stdout",
     "output_type": "stream",
     "text": [
      "16\n",
      "['UNITED STATES v. F. ADAME-OROZCO (2010)', 'Rodriguez v. Reno (1999)', 'AGUILERA; v. KIRKPATRICK OIC; INS; U.S. (2001)', 'Reno v. Am.-Arab (1999)', 'ILIEV v. H. HOLDER (2010)']\n"
     ]
    }
   ],
   "source": [
    "all_paths = list(nx.all_shortest_paths(G, 'UNITED STATES v. F. ADAME-OROZCO (2010)', 'ILIEV v. H. HOLDER (2010)'))\n",
    "print (len(all_paths))\n",
    "print (all_paths[-1])"
   ]
  },
  {
   "cell_type": "markdown",
   "metadata": {},
   "source": [
    "### Measures of Centrality and Connected Components"
   ]
  },
  {
   "cell_type": "code",
   "execution_count": 15,
   "metadata": {},
   "outputs": [
    {
     "name": "stdout",
     "output_type": "stream",
     "text": [
      "count                                27703\n",
      "unique                               27703\n",
      "top       (Fornalik v. Perryman (2000), 6)\n",
      "freq                                     1\n",
      "dtype: object\n"
     ]
    }
   ],
   "source": [
    "\n",
    "degree_dict = G.degree()\n",
    "# print(degree_dict)\n",
    "degree_series = pd.Series(degree_dict)\n",
    "print(degree_series.describe())\n"
   ]
  },
  {
   "cell_type": "code",
   "execution_count": 16,
   "metadata": {},
   "outputs": [
    {
     "data": {
      "text/plain": [
       "[('INS v. Elias-Zacarias (1992)', 0.017652155079055664),\n",
       " ('Inc. v. Natural (1984)', 0.017327268789257094),\n",
       " ('INS v. St. (2001)', 0.012526171395567108),\n",
       " ('Taylor v. United (1990)', 0.010468558226842827),\n",
       " ('INS v. Cardoza-Fonseca (1987)', 0.008266551151541405),\n",
       " ('INS v. Aguirre-Aguirre (1999)', 0.00797776333838712),\n",
       " ('INS v. Ventura (2002)', 0.007616778571944264),\n",
       " ('INTERNATIONAL REFUGEE ASSISTANCE PROJECT HIAS v. J. TRUMP F. W. R. U.S. U.S. T.A.; J. A. L. N. O. A L. T. CASA; (2017)',\n",
       "  0.007183596852212836),\n",
       " ('ARAR v. ASHCROFT D. J. J. W. (2009)', 0.006569922749259981),\n",
       " ('Shepard v. United (2005)', 0.005811854739729983)]"
      ]
     },
     "execution_count": 16,
     "metadata": {},
     "output_type": "execute_result"
    }
   ],
   "source": [
    "Counter(nx.degree_centrality(G)).most_common(10)\n"
   ]
  },
  {
   "cell_type": "code",
   "execution_count": 17,
   "metadata": {},
   "outputs": [
    {
     "data": {
      "text/plain": [
       "60"
      ]
     },
     "execution_count": 17,
     "metadata": {},
     "output_type": "execute_result"
    }
   ],
   "source": [
    "nx.number_connected_components(G)\n"
   ]
  },
  {
   "cell_type": "code",
   "execution_count": 18,
   "metadata": {},
   "outputs": [
    {
     "data": {
      "text/plain": [
       "<matplotlib.axes._subplots.AxesSubplot at 0x151825c668>"
      ]
     },
     "execution_count": 18,
     "metadata": {},
     "output_type": "execute_result"
    },
    {
     "data": {
      "image/png": "[encoded data removed]",
      "text/plain": [
       "<matplotlib.figure.Figure at 0x15187f6f28>"
      ]
     },
     "metadata": {},
     "output_type": "display_data"
    }
   ],
   "source": [
    "connected_components = list(nx.connected_components(G))\n",
    "connected_components_sizes = pd.Series([len(cc) for cc in connected_components])\n",
    "connected_components_sizes.describe()\n",
    "connected_components_sizes[connected_components_sizes < 1000].hist(bins=50)\n"
   ]
  },
  {
   "cell_type": "code",
   "execution_count": null,
   "metadata": {},
   "outputs": [],
   "source": []
  },
  {
   "cell_type": "code",
   "execution_count": null,
   "metadata": {},
   "outputs": [],
   "source": []
  },
  {
   "cell_type": "code",
   "execution_count": null,
   "metadata": {},
   "outputs": [
    {
     "data": {
      "text/plain": [
       "[('INS v. Elias-Zacarias (1992)', 0.36433756924853716),\n",
       " ('Inc. v. Natural (1984)', 0.28905081975879565),\n",
       " ('INS v. Cardoza-Fonseca (1987)', 0.188188353026599),\n",
       " ('INS v. Aguirre-Aguirre (1999)', 0.15673107961996027),\n",
       " ('INS v. St. (2001)', 0.1306897367266931),\n",
       " ('INS v. Ventura (2002)', 0.1281449526456495),\n",
       " ('INS v. Stevic (1984)', 0.10074666563716587),\n",
       " ('Taylor v. United (1990)', 0.08312757966320608),\n",
       " ('DIA v. ASHCROFT (2003)', 0.07104716758546635),\n",
       " ('Navas v. INS (2000)', 0.06892987565617112)]"
      ]
     },
     "execution_count": 19,
     "metadata": {},
     "output_type": "execute_result"
    }
   ],
   "source": [
    "Counter(nx.eigenvector_centrality(G)).most_common(10)\n"
   ]
  },
  {
   "cell_type": "markdown",
   "metadata": {},
   "source": [
    "## Discovering Communities\n"
   ]
  },
  {
   "cell_type": "code",
   "execution_count": null,
   "metadata": {},
   "outputs": [],
   "source": [
    "import sys\n",
    "sys.path.append('/Users/kevingmagana/DSI/capstone/capstone-update/Capstone_Proposal/py_scripts')\n",
    "from communities import find_communities_n, find_communities_modularity\n",
    "\n",
    "communities = find_communities_n(G, 1)\n",
    "print (len(communities))\n",
    "print (communities)"
   ]
  },
  {
   "cell_type": "code",
   "execution_count": null,
   "metadata": {},
   "outputs": [],
   "source": [
    "pwd"
   ]
  },
  {
   "cell_type": "code",
   "execution_count": null,
   "metadata": {},
   "outputs": [],
   "source": []
  }
 ],
 "metadata": {
  "kernelspec": {
   "display_name": "Python 3",
   "language": "python",
   "name": "python3"
  },
  "language_info": {
   "codemirror_mode": {
    "name": "ipython",
    "version": 3
   },
   "file_extension": ".py",
   "mimetype": "text/x-python",
   "name": "python",
   "nbconvert_exporter": "python",
   "pygments_lexer": "ipython3",
   "version": "3.6.3"
  }
 },
 "nbformat": 4,
 "nbformat_minor": 2
}
