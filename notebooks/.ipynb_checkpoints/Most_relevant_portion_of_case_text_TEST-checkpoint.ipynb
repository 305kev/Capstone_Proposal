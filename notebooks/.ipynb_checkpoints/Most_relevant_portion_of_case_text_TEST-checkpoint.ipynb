{
 "cells": [
  {
   "cell_type": "code",
   "execution_count": 89,
   "metadata": {},
   "outputs": [],
   "source": [
    "import numpy as np\n",
    "import pandas as pd\n",
    "import sys\n",
    "sys.path.append('/Users/kevingmagana/DSI/capstone/capstone-update/Capstone_Proposal/py_scripts/')\n",
    "import results\n",
    "from bs4 import BeautifulSoup\n",
    "%reload_ext autoreload\n",
    "%autoreload 2\n",
    "import requests\n",
    "from sklearn.feature_extraction.text import TfidfVectorizer,CountVectorizer\n",
    "from sklearn.metrics.pairwise import linear_kernel\n",
    "import string\n",
    "from nltk.tokenize import word_tokenize\n",
    "from nltk.corpus import stopwords\n",
    "from nltk.stem.snowball import SnowballStemmer\n",
    "\n",
    "\n"
   ]
  },
  {
   "cell_type": "code",
   "execution_count": 126,
   "metadata": {},
   "outputs": [
    {
     "name": "stdout",
     "output_type": "stream",
     "text": [
      "<class 'pandas.core.frame.DataFrame'>\n",
      "Int64Index: 4470 entries, 0 to 4469\n",
      "Data columns (total 13 columns):\n",
      "Unnamed: 0      4470 non-null int64\n",
      "Unnamed: 0.1    4470 non-null int64\n",
      "case_text       4470 non-null object\n",
      "case_title      4470 non-null object\n",
      "court           4470 non-null object\n",
      "date            4470 non-null object\n",
      "docket          4470 non-null object\n",
      "tags            4470 non-null object\n",
      "type_of_law     4470 non-null object\n",
      "url             4470 non-null object\n",
      "web_source      4470 non-null object\n",
      "html_format     4470 non-null object\n",
      "title_date      4470 non-null object\n",
      "dtypes: int64(2), object(11)\n",
      "memory usage: 648.9+ KB\n"
     ]
    }
   ],
   "source": [
    "model[3].info()"
   ]
  },
  {
   "cell_type": "code",
   "execution_count": 7,
   "metadata": {},
   "outputs": [],
   "source": [
    "df = pd.read_csv('/Users/kevingmagana/DSI/capstone/case_corpus.csv')\n",
    "df = df.dropna()\n",
    "df['title_date'] = df[['case_title', 'date']].apply(lambda x: ' '.join(x), axis=1)\n",
    "\n",
    "\n",
    "df2 = df.iloc[:, [2, 12]]\n",
    "df2 = df2.drop_duplicates(subset='title_date')\n",
    "df2 = df2.reset_index(drop=True)\n"
   ]
  },
  {
   "cell_type": "code",
   "execution_count": 15,
   "metadata": {},
   "outputs": [],
   "source": [
    "\n",
    "\n",
    "model = results.load_model()\n",
    "def process_query(query):\n",
    "    \"\"\"\n",
    "    :param query: string, the query\n",
    "    :return: list, of indices or DOC IDs\n",
    "      EX:\n",
    "      \t [2939, 4213, 3703, 695, 1810, 3397, 3311, 2663, 177, 1587]\n",
    "    \"\"\"\n",
    "    # Step 1: Intake and get Indexed Cases\n",
    "    query =  query\n",
    "    indices = results.indexed_results(model[0], query)\n",
    "    # Step 2: Get index_vectors and case_val dictionary\n",
    "    index_vectors, case_value_dictionary= results.get_index_vectors(model[2], indices)\n",
    "    # Step 3: Vectorize query\n",
    "    vectorized_query = results.query_vector(model[1], query)\n",
    "    # Step 4: Get Cosine similarities\n",
    "    cosine_similarities = results.cosine_similarity(vectorized_query, index_vectors)\n",
    "    # Step 5: Get top results and rank them (top 10 right now...)\n",
    "    top_results = (results.get_top_values(cosine_similarities[0], 10), query)\n",
    "    res = [case_value_dictionary[array_value] for array_value in top_results[0]]\n",
    "    return res\n"
   ]
  },
  {
   "cell_type": "code",
   "execution_count": 32,
   "metadata": {},
   "outputs": [
    {
     "data": {
      "text/plain": [
       "\"United States Court of Appeals,Tenth Circuit.\\nAlfredo Yero PORRO, Plaintiff-Appellant, v. Stanley BARNES; and Michael Bryant, in his official capacity as Sheriff of Jefferson County, Defendants-Appellees.\\nNo. 10-6002.\\nDecided: November 09, 2010\\n\\nBefore KELLY and GORSUCH, Circuit Judges, and MELGREN, District Judge.**Submitted on the briefs: *Mark E. Bialick and David B. Donchin, Durbin, Larimore & Bialick, Oklahoma City, OK; and David W. Little, Law Offices of David Little, Oklahoma City, OK, for Plaintiff-Appellant. Robert S. Lafferrandre and Randall J. Wood, Pierce Couch Hendrickson Baysinger & Green, L.L.P., Oklahoma City, OK; and Chris J. Collins, Timothy M. Melton, and Linda K. Soper, Collins, Zorn & Wagner, P.C., Oklahoma City, OK, for Defendants-Appellees.\\nThis case presents two central questions: What provision of the Constitution should this court use to analyze a federal immigration detainee's claim of excessive force? And does a county's failure to adopt a prophylactic policy with a standard of care higher than what the Constitution requires suffice, by itself, to suggest deliberate indifference to the Constitution's protections against excessive force? On the first question, we hold that the due process guarantee is the proper doctrinal prism through which to analyze the claims of federal immigration detainees who don't challenge the lawfulness of their detention but only the force used during that detention. On the second, we hold that the answer is simply no. To create a triable question of fact on the use of excessive force, a plaintiff must do more than show that the defendant county failed to adopt the most protective possible policy against the application of force. Because our conclusions mirror those reached by the district court on summary judgment, we affirm.IThis case began when members of a certified emergency response team (“CERT”) at the Jefferson County Jail in Oklahoma responded to a call that Alfredo Yero Porro, a federal immigration detainee, was acting in a disruptive manner in his cell, destroying parts of it. To address the situation, CERT members removed Mr. Porro from his cell, walked him to the jail's booking area, and placed him in a restraint chair. No one challenges the propriety of any of this. But then, after Mr. Porro was restrained, a member of the CERT proceeded to taser Mr. Porro at least three times. And it is this force that eventually gave rise to this lawsuit. Mr. Porro filed his claim under 42 U.S.C. § 1983, against three defendants: Kenny Lovett, the CERT member who tasered him; Stanley Barnes, the sheriff of Jefferson County at the time of the incident; and Michael Bryant, Mr. Barnes's successor. Against all three, Mr. Porro alleged that they violated the Constitution's prohibitions against the use of excessive force. Mr. Porro appeared to sue Messrs. Lovett and Barnes in their individual capacities, and Messrs. Barnes and Bryant in their official capacities.At summary judgment, the district court entered a pair of rulings. First, it entered judgment for Mr. Porro against Mr. Lovett and awarded damages of $100,000. The court found, among other things, that Mr. Lovett violated county rules prohibiting the use of a taser against a restrained detainee who presented no threat of harm, and that the force Mr. Lovett applied was constitutionally excessive. Second, the district court granted summary judgment to Messrs. Barnes and Bryant. The court held that Mr. Porro had come forward with no more than “supposition, conjecture and innuendo” to suggest Mr. Barnes's personal involvement or the county's culpability. Aplt.App. at 467. The court added that all the evidence adduced before it suggested that Mr. Lovett's tasering was no “more than a random act or isolated event which occurred outside of the policies and procedures implemented by Defendant Barnes.” Aplt.App. at 471.Only the district court's latter judgment-in favor of Messrs. Barnes and Bryant-is contested on appeal. While not entirely clear from the briefing before us, Mr. Porro appears to suggest that the court erred in two distinct ways. First, he seems to say, a triable question of fact exists on whether Mr. Barnes should be held liable in his individual capacity for his alleged personal role in the tasering incident. Second, Mr. Porro appears to suggest, a triable question exists on whether both Messrs. Barnes and Bryant should be held liable in their official capacities because the policy of the County's Sheriff's Office was the moving force behind his injury.We address these two arguments in turn. Because this case comes to us on summary judgment, we of course review it de novo and may affirm only if the facts, viewed in the light most favorable to Mr. Porro, warrant that result as a matter of law.IITo assess Mr. Porro's first argument-that Mr. Barnes is liable in his individual capacity for unconstitutional use of excessive force-we must begin by asking which constitutional standard controls before asking whether the evidence presented creates a triable question of fact under that standard.AOur first task in any § 1983 suit alleging a constitutional violation is “to isolate the precise constitutional violation with which [the defendant] is charged.” Baker v. McCollan, 443 U.S. 137, 140, 99 S.Ct. 2689, 61 L.Ed.2d 433 (1979). On this score, Mr. Porro doesn't offer much help: he alleges simply a violation of the “Fourth, Eighth, and Fourteenth” Amendments, without suggesting which one he thinks best applies to his case or offering any further explanation. See Amd. Compl. ¶ 3.The choice of amendment matters. Excessive force claims can be maintained under the Fourth, Fifth, Eighth, or Fourteenth Amendment-all depending on where the defendant finds himself in the criminal justice system-and each carries with it a very different legal test. So, because the Fourth Amendment protects against “unreasonable searches and seizures” and pertains to the events leading up to and including an arrest of a citizen previously at liberty, excessive force claims arising during this period are generally reviewed under a relatively exacting “objective reasonableness” standard. See Graham v. Connor, 490 U.S. 386, 394-95, 109 S.Ct. 1865, 104 L.Ed.2d 443 (1989); Austin v. Hamilton, 945 F.2d 1155, 1160 (10th Cir.1991) (holding that the Fourth Amendment applies until formal charges are brought or an arraignment is held because force used is part of the “seizure”), abrogated on other grounds, Johnson v. Jones, 515 U.S. 304, 115 S.Ct. 2151, 132 L.Ed.2d 238 (1995).Meanwhile, prisoners already convicted of a crime who claim that their punishments involve excessive force must proceed under the more restrictive terms of the Eighth Amendment's “cruel and unusual punishments” clause. Here, we ask only whether the “force was applied in a good-faith effort to maintain or restore discipline, or maliciously and sadistically to cause harm.” See Hudson v. McMillan, 503 U.S. 1, 6-7, 112 S.Ct. 995, 117 L.Ed.2d 156 (1992); Ingraham v. Wright, 430 U.S. 651, 671 n. 40, 97 S.Ct. 1401, 51 L.Ed.2d 711 (1977).And when neither the Fourth nor Eighth Amendment applies-when the plaintiff finds himself in the criminal justice system somewhere between the two stools of an initial seizure and post-conviction punishment-we turn to the due process clauses of the Fifth or Fourteenth Amendment and their protection against arbitrary governmental action by federal or state authorities. See County of Sacramento v. Lewis, 523 U.S. 833, 843, 118 S.Ct. 1708, 140 L.Ed.2d 1043 (1998). Take the example of an arraigned pretrial detainee who brings an excessive force claim. He doesn't dispute that he's been lawfully seized and committed to pretrial detention, and he isn't complaining about any punishment meted out as part of a post-conviction sentence. Instead, his complaint is about arbitrary governmental action, taken without due process, while he is detained awaiting trial. In these circumstances, our precedent instructs us to focus on three factors: “(1) the relationship between the amount of force used and the need presented; (2) the extent of the injury inflicted; and (3) the motives of the state actor.” Roska v. Peterson, 328 F.3d 1230, 1243 (10th Cir.2003). We've also said that “[f]orce inspired by malice or by unwise, excessive zeal amounting to an abuse of official power that shocks the conscience may be redressed under the Fourteenth Amendment.”\\nId (internal quotation and alterations omitted).We hold that it is this last, due process, standard that controls excessive force claims brought by federal immigration detainees like Mr. Porro. Why he was being detained at the Jefferson County Jail-whether, for example, he had violated his parole or was awaiting deportation-Mr. Porro does not tell us. But neither does he dispute that he had been lawfully seized and detained. In this way, he is unlike the citizen who complains about the force used to effect his seizure in his initial encounter with the police, which would trigger the Fourth Amendment's protections. Mr. Porro also appears to be unlike the convicted prisoner who may be lawfully subjected to punishment as part of his sentence, but who complains that his punishment involves excessive force and so must resort to the Eighth Amendment. No one alleges that Mr. Porro's detention came after any conviction. In these circumstances-circumstances in which many federal immigration detainees' claims of excessive force must surely arise-Mr. Porro appears to walk in much the same shoes as an arraigned pre-trial detainee. He is therefore protected by the due process clause (in this case, the Fourteenth Amendment's due process clause, given that Mr. Porro's complaint is against state officials). We note that other courts confronting the status of immigration detainees before us have reached this same conclusion, assessing their excessive force claims under the due process rubric. See, e.g., Edwards v. Johnson, 209 F.3d 772, 778 (5th Cir.2000); Sidorov v. Sabol, 2010 WL 500415, *2 n. 2 (M.D.Pa. Feb.4, 2010).BThat much straightened out, we agree with the district court that Mr. Porro cannot make out an excessive force claim against Mr. Barnes. And this is because there's no evidence of his direct personal responsibility for the force used against Mr. Porro. In our due process precedent we have said that we examine the force used, the injury inflicted, and relevant motives. But in each instance, the focus must always be on the defendant-on the force he used or caused to be used, on the injury he inflicted or caused to be inflicted, and on his motives. This is because § 1983 isn't a strict liability offense. It renders liable only those persons “who, under color of any [state law] ․ subject[ ], or cause[ ] to be subjected, any citizen” to a deprivation of his or her lawful rights. 42 U.S.C. § 1983. From this statutory language, it is evident that “[i]n order for liability to arise under § 1983, a defendant's direct personal responsibility for the claimed deprivation of a constitutional right must be established.” Trujillo v. Williams, 465 F.3d 1210, 1227 (10th Cir.2006) (emphasis added); see also Novitsky v. City of Aurora, 491 F.3d 1244, 1254 (10th Cir.2007) (requiring that the defendant have “personally participated” in the constitutional deprivation and holding that mere presence at the scene was insufficient).Viewed through this prism, Mr. Porro can satisfy none of the due process factors against Mr. Barnes individually.1 True enough, Mr. Porro was subjected to force, injured by it, and an improper motive was involved. But all this came at Mr. Lovett's hands and as a result of his motives. When it comes to Mr. Barnes, the undisputed facts show that Mr. Barnes did not employ any force on Mr. Porro and was not present when the force was applied. Neither does the record suggest Mr. Barnes gave any advance approval to the use of a taser on Mr. Porro. Though Mr. Porro says that Mr. Barnes knew CERT members “planned” to taser him and assented to it, this claim is, as the district court observed, based on innuendo and speculation rather than fact. The facts to which Mr. Porro himself stipulated indicate that Mr. Barnes did not hear any prior discussions among members of the CERT that a taser was going to be used, or might be used, on Mr. Porro. Aplt. Appx. at 15, 272. The record likewise lacks any evidence suggesting that Mr. Barnes caused any of Mr. Porro's injuries, or bore malice or exhibited excessive zeal toward him.To all this, Mr. Porro seems to reply that Mr. Barnes should be held liable by virtue of the fact that he was Mr. Lovett's supervisor. But even assuming Mr. Barnes enjoyed supervisory authority over Mr. Lovett and the rest of the CERT-a question suggested by the parties' briefs but which we need not explore-that isn't enough to generate a triable question of liability.Just as § 1983's plain language doesn't authorize strict liability, it doesn't authorize respondeat superior liability. The plain language of the statute, again, asks simply whether the defendant at issue “subject[ed], or cause[d] to be subjected ” a plaintiff to a deprivation of his legal rights. 42 U.S.C. § 1983 (emphasis added). To establish a violation of § 1983 by a supervisor, as with everyone else, then, “the plaintiff must establish a deliberate, intentional act” on the part of the defendant “to violate [the plaintiff's legal] rights.” Serna v. Colo. Dep't. of Corr., 455 F.3d 1146, 1151 (10th Cir.2006) (internal quotation marks omitted); see also Jenkins v. Wood, 81 F.3d 988, 994 (10th Cir.1996) (“[T]here is no concept of strict supervisor liability.”) (internal quotation omitted); Coleman v. Turpen, 697 F.2d 1341, 1346 n. 7 (10th Cir.1982).In the due process context, this means the focus is on the force the supervisor used or caused to be used, the resulting injury attributable to his conduct, and the mens rea required of him to be held liable, which can be no less than the mens rea required of anyone else. See Ashcroft v. Iqbal, ---U.S. ----, ----, 129 S.Ct. 1937, 1949, 173 L.Ed.2d 868 (2009); Dodds v. Richardson, 614 F.3d 1185, 1204 (10th Cir.2010) (a plaintiff can “no longer succeed on a § 1983 claim ․ by showing that as a supervisor [the defendant] behaved knowingly or with deliberate indifference that a constitutional violation would occur at the hands of his subordinates, unless that is the same state of mind required for the constitutional deprivation he alleges”) (internal quotation omitted). Simply put, there's no special rule of liability for supervisors. The test for them is the same as the test for everyone else. And as we've already explained, Mr. Porro's claim against Mr. Barnes fails that test.IIIEven if Mr. Barnes isn't liable in his individual capacity, Mr. Porro argues that Mr. Barnes-and Mr. Bryant-are liable in their official capacities for violating his constitutional due process rights by failing to train CERT members adequately. Suing individual defendants in their official capacities under § 1983, we've recognized, is essentially another way of pleading an action against the county or municipality they represent. See Monell v. Dep't of Soc. Serv. of New York, 436 U.S. 658, 690 n. 55, 98 S.Ct. 2018, 56 L.Ed.2d 611 (1978); Barney v. Pulsipher, 143 F.3d 1299, 1307 (10th Cir.1998). Because of this, we apply the standard of liability to municipalities and counties in assessing whether Mr. Porro's official capacity claim for failure to train survives summary judgment. See Kentucky v. Graham, 473 U.S. 159, 165-66, 105 S.Ct. 3099, 87 L.Ed.2d 114 (1985); see also Dodds, 614 F.3d at 1202 (noting that although Iqbal clarified the standards for assessing supervisory liability, “[n]othing in Iqbal contradicts” the standards for municipal liability under § 1983).To prevail under this standard, Mr. Porro must demonstrate, among other things, that “the need for more or different training [was] so obvious, and the inadequacy so likely to result in the violation of [his due process] rights, that the policymakers of the [county] can reasonably be said to have been deliberately indifferent to the need for additional training.” Jenkins, 81 F.3d at 994 (internal quotation omitted). It isn't enough to “show that there were general deficiencies in the county's training program for jailers.”\\nLopez v. LeMaster, 172 F.3d 756, 760 (10th Cir.1999). Rather, a plaintiff must “identify a specific deficiency” that was obvious and “closely related” to his injury, id., so that it might fairly be said that the official policy or custom was both deliberately indifferent to his constitutional rights and the moving force behind his injury, see City of Canton v. Harris, 489 U.S. 378, 385, 109 S.Ct. 1197, 103 L.Ed.2d 412 (1989).Mr. Porro cannot shoulder that burden in this case. The undisputed facts show that the county trained jailers to use tasers only if and when an inmate should become violent, combative, and pose a direct threat to the security of staff. The record also shows that Mr. Lovett knew he was acting in defiance of this policy when he tasered Mr. Porro. See Aplt.App. at 16, 110. From this undisputed evidence, any reasonable fact finder would have to conclude that-far from exhibiting deliberate indifference to Mr. Porro's due process rights against the use of excessive force or causing his injury-the county actively sought to protect those rights and it was (only) Mr. Lovett's improper actions, taken in defiance of county policy, that caused Mr. Porro's injuries. See id. at 16, 110, 273.2 To this, Mr. Porro replies that the county exhibited deliberate indifference by failing to enforce a putative federal policy that completely bans the use of tasers on immigration detainees. In pursuing this line, Mr. Porro seems to assume that the putative federal policy and the Constitution are congruent, so that a failure to train on the former is incontrovertible evidence that the latter was offended. The failure to abide by the federal policy apparently amounts, in his view, to automatic or per se proof of deliberate indifference. Cf. Restatement (Third) of Torts: Liability for Physical and Emotional Harm § 14 (2010) (discussing statutory violations as negligence per se ).3 The problem is that Mr. Porro never seeks to explain how or why the violation of the federal policy (assuming it existed and controlled in a county jail) necessarily demonstrates deliberate indifference to his constitutional due process rights. It is his burden to establish that the Constitution, not just a policy, is implicated. Yet he overlooks this necessity altogether. Cf. Jolivet v. Cook, 1995 WL 94496, *2 (10th Cir.1995) (unpublished) (“Plaintiff notes that defendants admitted they violated prison policy on use of taser weapons. However, violation of a prison regulation does not give rise to an Eighth Amendment violation absent evidence the prison official's conduct failed to conform to the constitutional standard.”).No doubt Mr. Porro hasn't sought to carry this burden because he can't. Policies are often prophylactic, setting standards of care higher than what the Constitution requires. And that's surely the case here. While the putative federal policy may totally forbid the use of tasers on immigration detainees, the Constitution doesn't go so far. The use of tasers in at least some circumstances-such as in a good faith effort to stop a detainee who is attempting to inflict harm on others-can comport with due process. Cf. Hinton v. City of Elwood, 997 F.2d 774, 777 (10th Cir.1993) (holding, in the Fourth Amendment context, that it is not excessive force for officers to use an “electrical stun gun” on a man resisting arrest); Hunter v. Young, 238 F. App'x 336, 339 (10th Cir.2007) (unpublished) (use of taser is not per se unconstitutional when used to compel obedience by inmates); Draper v. Reynolds, 369 F.3d 1270, 1278 (11th Cir.2004); Jasper v. Thalacker, 999 F.2d 353, 354 (8th Cir.1993); Caldwell v. Moore, 968 F.2d 595, 602 (6th Cir.1992); Michenfelder v. Sumner, 860 F.2d 328, 335-36 (9th Cir.1988).Simply put, the failure to enforce a prophylactic policy imposing a standard of care well in excess of what due process requires cannot be-and we hold is not-enough by itself to create a triable question over whether county officials were deliberately indifferent to the Constitution. This isn't to say, of course, a county's failure to train its employees in a prophylactic policy is always or categorically irrelevant to the question of deliberate indifference. We need and do reject only Mr. Porro's claim that such a failure alone suffices to make out a claim of deliberate indifference.* * *Mr. Porro won a significant judgment against Mr. Lovett, the individual who tasered him. With this result, no party to this appeal has any quarrel. We hold only, as did the district court, that Mr. Porro has failed to adduce evidence suggesting that Messrs. Barnes or Bryant also bear legal responsibility for the violation of his constitutional rights. The judgment of the district court isAffirmed.GORSUCH, Circuit Judge.\\n\\n\\n\\n\\n\\n\\n\\n\\n\\n\\n\\n\\n\\n\\n\\n\\n\\n\\n\""
      ]
     },
     "execution_count": 32,
     "metadata": {},
     "output_type": "execute_result"
    }
   ],
   "source": [
    "model[3].case_text[0]"
   ]
  },
  {
   "cell_type": "code",
   "execution_count": 226,
   "metadata": {},
   "outputs": [
    {
     "data": {
      "text/plain": [
       "76"
      ]
     },
     "execution_count": 226,
     "metadata": {},
     "output_type": "execute_result"
    }
   ],
   "source": [
    "html = model[3].html_format[4213]\n",
    "\n",
    "# content = requests.get(html).content\n",
    "soup = BeautifulSoup(html, 'lxml')\n",
    "\n",
    "\n",
    "list_of_paragraphs = []\n",
    "for paragaph in soup.findAll('p'): \n",
    "    list_of_paragraphs.append(str(paragaph.text.encode('ascii', 'ignore')).replace(\"'\", \"\"))\n",
    "# print(model[3].html_format[0])\n",
    "\n",
    "len(list_of_paragraphs)"
   ]
  },
  {
   "cell_type": "code",
   "execution_count": 231,
   "metadata": {},
   "outputs": [
    {
     "data": {
      "text/plain": [
       "((76, 1122), 76)"
      ]
     },
     "execution_count": 231,
     "metadata": {},
     "output_type": "execute_result"
    }
   ],
   "source": [
    "### Step 1: Vectorize and apply Tf-IDF weights on the case\n",
    "\n",
    "cleaned_text = clean_text(list_of_paragraphs)\n",
    "\n",
    "# tokenized= tokenize(list_of_paragraphs)\n",
    "# remove_stops = remove_stop_words(tokenized)\n",
    "# cleaned_text = stem_words(remove_stops)\n",
    "\n",
    "list_of_strings = [\" \".join(lst) for lst in cleaned_text]\n",
    "\n",
    "vectorizer = TfidfVectorizer(stop_words='english')\n",
    "vectors = vectorizer.fit_transform(list_of_strings)\n",
    "\n",
    "vectors.shape, len(list_of_paragraphs)"
   ]
  },
  {
   "cell_type": "code",
   "execution_count": 232,
   "metadata": {},
   "outputs": [
    {
     "name": "stdout",
     "output_type": "stream",
     "text": [
      "([69, 20, 44, 40, 39, 14, 37, 46, 51, 68], ['What is the penalty for drug trafficking?'])\n"
     ]
    }
   ],
   "source": [
    "query = ['What is the penalty for drug trafficking?']\n",
    "### Step 2: Vectorize the query\n",
    "\n",
    "cleaned_query = clean_text(query)\n",
    "query_list_of_strings = [\" \".join(lst) for lst in cleaned_query]\n",
    "tokenized_query = vectorizer.transform(query_list_of_strings)\n",
    "\n",
    "cosine_similarities = linear_kernel(tokenized_query, vectors) \n",
    "top_results = (get_top_values(cosine_similarities[0], 10), query)\n",
    "print(top_results)"
   ]
  },
  {
   "cell_type": "code",
   "execution_count": 233,
   "metadata": {},
   "outputs": [
    {
     "data": {
      "text/plain": [
       "[69, 20, 44, 40, 39, 14, 37, 46, 51, 68]"
      ]
     },
     "execution_count": 233,
     "metadata": {},
     "output_type": "execute_result"
    }
   ],
   "source": [
    "top_results[0]"
   ]
  },
  {
   "cell_type": "code",
   "execution_count": 234,
   "metadata": {},
   "outputs": [
    {
     "name": "stdout",
     "output_type": "stream",
     "text": [
      "['What is the penalty for drug trafficking?']\n",
      "b5.As noted above, aggravated felony includes the illicit trafficking in a controlled substance  including a drug trafficking crime (as defined in section 924(c) of Title 18).  Although it does not matter in application, we note that a drug offense with a trafficking element is illicit trafficking and a drug offense that is punishable as a felony under federal law is a drug trafficking crime.\n"
     ]
    }
   ],
   "source": [
    "# print(tokenized_query.todense())\n",
    "# vectorizer.vocabulary_\n",
    "# print(list_of_strings)\n",
    "# data= model[3].case_text[2939].split('\\n')\n",
    "print(query)\n",
    "# print(list_of_strings)\n",
    "print(list_of_paragraphs[69])\n"
   ]
  },
  {
   "cell_type": "code",
   "execution_count": 355,
   "metadata": {},
   "outputs": [],
   "source": [
    "def highlight_key_query_words(question, most_relevant_part):\n",
    "    \"\"\"\n",
    "    :param question:\n",
    "    :param most_relevant_part:\n",
    "    :return:\n",
    "    \"\"\"\n",
    "    # print(question)\n",
    "    # print(most_relevant_part)\n",
    "    final_results = []\n",
    "    stop = set(stopwords.words('english'))\n",
    "    parse_query = \"\".join(question).split(' ')\n",
    "    parse_query = clean_text(parse_query)\n",
    "    \n",
    "    check_result = clean_text(most_relevant)\n",
    "    # print(len(most_relevant))\n",
    "    # print(len(check_result))\n",
    "    #\n",
    "    # print(most_relevant)\n",
    "    # print(check_result)\n",
    "\n",
    "    for ind, word in enumerate(most_relevant):\n",
    "        if check_result[ind] in parse_query and check_result[ind] != []:\n",
    "#             final_results.append('<b>' + word + '</b>') ## If rendering on HTML\n",
    "            final_results.append('\\033[1m' + word + '\\033[0m') ## Python\n",
    "        else:\n",
    "            final_results.append(word)\n",
    "\n",
    "#     return \" \".join(('...', ' '.join(final_results), '<b>' + '... Continue reading case' + '</b>' )) HTML\n",
    "    return \" \".join(('...', ' '.join(final_results), '\\033[1m' + '... Continue reading case' + '\\033[0m')) ## Python\n",
    "\n",
    "def get_most_relevant_part(case_index, corpus_df, query, top_n=3, highlight_num=1):\n",
    "    \"\"\"\n",
    "    :param case_index: int, the index of the case\n",
    "    :param corpus_df: pandas dataframe, for the entire corpus of cases\n",
    "    :param query: string, of the web-input query\n",
    "    :param top_n: int, the top n matching paragraphs with query\n",
    "    :returns query: the original query,\n",
    "            top_result: list, of top indexed matching paragraphs,\n",
    "            list_of_paragraphs:\n",
    "\n",
    "    Two use cases: \n",
    "        (1) if highlight_num == 1 then it's to return for single highlighting. \n",
    "            See highlight_key_query_words() for example. \n",
    "        (2) if highlight_num > 1 then this function is for returning the list of 3 most\n",
    "        relevant parts of a text to be highlighted once a user clicks on the search result. \n",
    "    \n",
    "    \"\"\"\n",
    "    ## Step 1: Load up the data frame\n",
    "    html = corpus_df.html_format[case_index]\n",
    "    soup = BeautifulSoup(html, 'lxml')\n",
    "\n",
    "    ## Step 2: Parse the case into a list of strings\n",
    "    list_of_paragraphs = []\n",
    "    for paragaph in soup.findAll('p'):\n",
    "        list_of_paragraphs.append(str(paragaph.text.encode('ascii', 'ignore')).replace(\"'\", \"\"))\n",
    "\n",
    "    ## Step 3: Parse case and vectorize with Tf-IDF weights\n",
    "    cleaned_text = clean_text(list_of_paragraphs)\n",
    "    list_of_strings = [\" \".join(lst) for lst in cleaned_text]\n",
    "    vectorizer = TfidfVectorizer(stop_words='english')\n",
    "    vectors = vectorizer.fit_transform(list_of_strings)\n",
    "\n",
    "    ## Step 4: Vectorize Query\n",
    "#     query_list = [query]\n",
    "    cleaned_query = clean_text(query)\n",
    "    query_list_of_strings = [\" \".join(lst) for lst in cleaned_query]\n",
    "    tokenized_query = vectorizer.transform(query_list_of_strings)\n",
    "\n",
    "    ## Step 5: Run Cosine Similarity on Query and Case Text\n",
    "    cosine_similarities = linear_kernel(tokenized_query, vectors)\n",
    "    top_results = [i for i in np.argsort(cosine_similarities[0])[-1:-top_n - 1:-1]]\n",
    "    \n",
    "    if highlight_num == 1: \n",
    "        highlight_output = list_of_paragraphs[top_results[0]]\n",
    "        print(highlight_output)\n",
    "    elif highlight_num == 2: \n",
    "        highlight_output = list_of_paragraphs[top_results[0:2]]\n",
    "    else: \n",
    "        highlight_output = list_of_paragraphs[top_results[0:3]]\n",
    "    return highlight_output  ## Returns top 3 indexed cases\n"
   ]
  },
  {
   "cell_type": "markdown",
   "metadata": {},
   "source": [
    "## QUERY: What is the penalty for drug trafficking?\n",
    "## Index of RESULTS [2939, 4213, 3703, 695, 1810, 3397, 3311, 2663, 177, 1587]\n"
   ]
  },
  {
   "cell_type": "code",
   "execution_count": 286,
   "metadata": {},
   "outputs": [],
   "source": [
    "# What is the penalty for drug trafficking?\n",
    "## FLASK RESULT: [2269, 1219, 1416, 2458, 4468, 1769, 1948, 2035, 4466, 1927]\n",
    "## result.py RESULT: [1537, 1659, 2446, 1761, 1868, 1927, 82, 1272, 864, 3177]\n",
    "\n",
    "\n"
   ]
  },
  {
   "cell_type": "code",
   "execution_count": 360,
   "metadata": {},
   "outputs": [
    {
     "name": "stdout",
     "output_type": "stream",
     "text": [
      "... b6.Congress cut back on the availability of  212(c) relief prior to its eventual repeal by the IIRIRA. In the Immigration Act of 1990, Pub.L. No. 101-649, 104 Stat. 4978, 5052, Congress limited  212(c) relief to aliens who had served fewer than five years in prison. The Anti-Terrorism and Effective Death \u001b[1mPenalty\u001b[0m Act (AEDPA), Pub.L. No. 104-132, 110 Stat. 1214 (1996), then made  212(c) relief unavailable to aliens convicted of aggravated felonies and other specified crimes. See AEDPA  440(d). \u001b[1m... Continue reading case\u001b[0m\n"
     ]
    }
   ],
   "source": [
    "\n",
    "## Make sure query is in a LIST, otherwise WON'T WORK!\n",
    "legal_query = ['What is the penalty for drug trafficking?']\n",
    "data = model[3]\n",
    "index = 2269\n",
    "html = data.html_format[index]\n",
    "\n",
    "num_of_highlights = 1\n",
    "results = get_most_relevant_part(index, data, legal_query, top_n=3, highlight_num = num_of_highlights)\n",
    "# print(results)\n",
    "highlights = highlight_key_query_words(legal_query, results)\n",
    "print(highlights)\n",
    "\n"
   ]
  },
  {
   "cell_type": "code",
   "execution_count": 350,
   "metadata": {},
   "outputs": [
    {
     "name": "stdout",
     "output_type": "stream",
     "text": [
      "[<div class=\"caselawcontent searchable-content\">\n",
      "<center>\n",
      "<h2>United States Court of Appeals,Seventh Circuit.</h2>\n",
      "<h3><p>UNITED STATES of America, Plaintiff-Appellee, v. Jose DE HORTA GARCIA, Defendant-Appellant.</p></h3>\n",
      "<h3>No. 07-2060.</h3>\n",
      "<h3>    Decided: March 13, 2008</h3>\n",
      "</center>\n",
      "\t\tBefore BAUER, KANNE and ROVNER, Circuit Judges.David Reinhard (argued), Office of the United States Attorney, Madison, WI, for Plaintiff-Appellee. William R. Jones (argued), Jones Law Firm, Madison, WI, for Defendant-Appellant.<!-- main body -->\n",
      "<p>Jose De Horta Garcia, then a permanent resident alien, was deported in 1996 because he had been convicted of a drug trafficking crime.   This case involves his second illegal re-entry into the country after deportation.   During his first prosecution for illegal re-entry, he challenged the validity of his deportation order on the grounds that he was denied his right to seek a discretionary waiver of deportation under former INA § 212(c), 8 U.S.C. § 1182(c) (1995) (repealed), arguing that the repeal of discretionary waiver should not have been applied to prevent him from applying for the waiver.   The District of Alaska rejected his contention and De Horta Garcia did not appeal.   He raised the argument again in this prosecution and the district court rejected it based on circuit precedent.   We affirm.</p><p>Background</p><p>De Horta Garcia first came to the United States from Mexico in 1976.   He married a United States citizen in 1983 and became a lawful permanent resident.   By November 1995, De Horta Garcia had separated from his wife and moved to Alaska where he was arrested in a drug sting.   In February 1996, De Horta Garcia waived his speedy trial rights, Alaska R.Crim. P. 45, extending the state's time to prosecute him into June 1996.   In June 1996 he pleaded guilty to attempted misconduct involving a controlled substance.   He appeared, without counsel, at a group deportation hearing in December 1996 and was ordered deported under INA § 212(a)(2)(C);  8 U.S.C. § 1182(a)(2)(C), which at that time made excludable any alien who had been an illicit trafficker of any controlled substance.   He was released at the Mexican border the next day.</p><p>The timing of De Horta Garcia's guilty plea and deportation were very unfortunate for him.   Had he pleaded guilty and appeared at a deportation hearing only a few months earlier, before April 23, 1996, he would have had the right to petition the Attorney General for relief from deportation.   See INA § 212(c);  8 U.S.C. § 1182(c) (1995) (repealed);  see also INS v. St. Cyr, 533 U.S. 289, 295-96, 121 S.Ct. 2271, 150 L.Ed.2d 347 (2001).   When Congress passed the Antiterrorism and Effective Death Penalty Act, effective April 23, 1996, however, it amended § 212(c) so that it no longer applied to aliens, including De Horta Garcia, made excludable for most controlled substance offenses.   See INA § 212(c);  8 U.S.C. §§ 1182(c), 1251(a)(2)(B) (1996).   The IJ at De Horta Garcia's deportation hearing apparently concluded that AEDPA's modification of § 212(c) applied to aliens who offended and were arrested before the modification but convicted after it, and so did not tell De Horta Garcia that he had a right to petition the Attorney General for relief from deportation.</p><p>About a year after he was deported, De Horta Garcia was discovered in Alaska and charged with illegal re-entry after deportation.   See 8 U.S.C. § 1326(a), (b)(2).   The District Court for the District of Alaska initially dismissed the indictment, finding that the original deportation rested on an impermissible retroactive application of § 212(c) in violation of the Due Process Clause.   On the government's motion for reconsideration, though, the district court reversed itself based on binding Ninth Circuit precedent.   De Horta Garcia was ultimately convicted of illegal reentry, and he did not appeal.   At the end of his prison term in June 2002, he was deported to Mexico again.</p><p>After the district court's initial dismissal of the indictment, De Horta Garcia moved to reopen his original deportation proceedings and stay his deportation order.   The IJ denied De Horta Garcia's motion before the district court reconsidered its dismissal.   The IJ's ruling was based on BIA precedent, as well as De Horta Garcia's failure to move to reopen within the 90 days allowed by 8 C.F.R. § 3.23.   Nothing in the record suggests that De Horta Garcia appealed the IJ's ruling.</p><p>After being deported a second time, De Horta Garcia found his way back into the United States once again.   This time he was arrested in Wisconsin in September 2006 on retail theft charges.   After being referred to federal authorities, he was again indicted for illegal re-entry after deportation, 8 U.S.C. § 1326(a), (b)(2), and again argued that his original deportation was invalid because he was denied the right to petition the Attorney General for discretionary relief from deportation under § 212(c).  The district court rejected this argument based on LaGuerre v. Reno, 164 F.3d 1035, 1041 (7th Cir.1998), which concluded that AEDPA's bar against discretionary waivers applied retroactively to aliens, like De Horta Garcia, who offended before its passage, but were convicted after its passage.   De Horta Garcia pleaded guilty, but reserved his right to appeal the retroactivity issue.</p><p>Analysis</p><p>De Horta Garcia begins by conceding, as he must, that the district court properly relied upon LaGuerre and goes on to predict that “in all likelihood,” we will not revisit our prior precedent.   But counsel for De Horta Garcia makes a hard argument harder by not fully presenting his arguments for reconsidering LaGuerre in his brief.   Instead counsel includes in his short appendix the brief he filed in the district court and states in his appellate brief that it is “incorporated herein.”   We normally refuse to consider such incorporations because “[e]ven when a litigant has unused space ․, incorporation is a pointless imposition on the court's time.”  DeSilva v. DiLeonardi, 181 F.3d 865, 867 (7th Cir.1999).</p><p>In the context of a litigant's failure to provide a transcript under Federal Rule of Appellate Procedure 10(b), we have held that where “meaningful review is possible,” we may exercise our discretion and rule on the merits.  United States v. Santiago-Ochoa, 447 F.3d 1015, 1018-19 (7th Cir.2006).   Because meaningful review is possible-but just barely-in this case and because we hesitate to thwart De Horta Garcia's stated objective to challenge our precedent in the Supreme Court, we address the arguments on the merits.</p><p> Before analyzing De Horta Garcia's primary argument, though, we must analyze a procedural bar that he cannot overcome under circuit precedent.   Section 1326(d) allows a collateral attack of a deportation order only upon a showing that</p><p>(1) the alien exhausted any administrative remedies that may have been available to seek relief against the order;</p><p>(2) the deportation proceedings at which the order was issued improperly deprived the alien of the opportunity for judicial review;  and</p><p>(3) the entry of the order was fundamentally unfair.</p><p>8 U.S.C. § 1326(d).  Although De Horta Garcia can arguably meet the first two conditions, we have previously held that an alien in his position cannot meet the third.</p><p>To show fundamental unfairness, De Horta Garcia must show, first, a violation of due process, and second, that he was prejudiced by the removal proceedings.   See Santiago-Ochoa, 447 F.3d at 1019.   If De Horta Garcia truly lost his opportunity to apply for § 212(c) relief that might have been granted, then he might have been able to show that he was prejudiced, i.e., that judicial review “would have yielded him relief from deportation.”   See United States v. Espinoza-Farlo, 34 F.3d 469, 471 (7th Cir.1994).   But, we have joined the majority of circuits in holding that due process does not encompass a “right to be informed of eligibility for-or to be considered for-discretionary relief.”  Santiago-Ochoa, 447 F.3d at 1020;  but see United States v. Copeland, 376 F.3d 61, 71 (2d Cir.2004) (failure to inform alien of right to discretionary relief can be fundamentally unfair);  United States v. Ubaldo-Figueroa, 364 F.3d 1042, 1049-50 (9th Cir.2004) (same).   Thus, under this circuit's precedent, the violation De Horta Garcia contends occurred at his deportation hearing did not make the deportation order “fundamentally unfair,” and he may not collaterally attack it in this prosecution.   See Santiago-Ochoa, 447 F.3d at 1020.</p><p> Finally, even if De Horta Garcia could steer clear of the roadblocks preventing him from collaterally attacking his deportation order, his attack itself is also foreclosed by circuit precedent.   In LaGuerre, we explained that the change to § 212(c) would apply retroactively unless it would disturb reasonable expectations.  LaGuerre, 164 F.3d at 1041.   But we concluded that applying the new law retroactively to aliens like De Horta Garcia would not disturb reasonable expectations because “[i]t would border on the absurd to argue that these aliens might have decided not to commit drug crimes ․ had they known that if they were not only imprisoned but also, when their prison term ended, ordered deported, they could not ask for a discretionary waiver of deportation.”  Id. We have held that retroactive application is impermissible because it would disturb reasonable expectations in only two situations:  (1) when an alien had conceded deportability before repeal in reliance on the possibility of § 212(c) relief, Reyes-Hernandez v. INS, 89 F.3d 490, 492-93 (7th Cir.1996), and (2) when an alien had pleaded guilty to the underlying offense before repeal partly in reliance on the possibility of relief, Jideonwo v. INS, 224 F.3d 692, 700 (7th Cir.2000).   In both cases, we required a showing of specific facts demonstrating actual reliance.   Id.;  Reyes-Hernandez, 89 F.3d at 492.   In St. Cyr, the Supreme Court held that the repeal of § 212(c) did not apply retroactively to any alien who pleaded guilty before its passage, 533 U.S. at 321, 323-24, 121 S.Ct. 2271, but we have not read that case as altering the actual reliance requirement.   The rule in this circuit remains that relief under § 212(c) is not available to any alien whose removal proceeding began after repeal except to those who affirmatively abandoned rights or admitted guilt in reliance on § 212(c) relief.  Montenegro v. Ashcroft, 355 F.3d 1035, 1037 (7th Cir.2004).   Because De Horta Garcia cannot show such affirmative reliance, his primary argument is foreclosed by circuit precedent.</p><p>De Horta Garcia notes, however, that other circuits have taken alternative approaches to the reliance question.   First, some circuits have applied St. Cyr to aliens who did not plead guilty or concede deportability before enactment, but did take some affirmative action in their prosecution that evidenced reliance on § 212(c) before enactment.   E.g., Restrepo v. McElroy, 369 F.3d 627, 634-35 (2d Cir.2004);  Ponnapula v. Ashcroft, 373 F.3d 480, 494-96 (3d.   Cir.2004).   Second, two circuits, the Third and the Tenth have criticized the majority of circuits for requiring a showing of actual detrimental reliance and have only required objectively reasonable reliance.  Id. at 489-90;  Hem v. Maurer, 458 F.3d 1185, 1197 (10th Cir.2006).   The Fourth Circuit has gone further and not required a showing of reliance at all, reasoning, in part, that it is always reasonable to rely on governing law.  Olatunji v. Ashcroft, 387 F.3d 383, 389-96 (4th Cir.2004).   De Horta Garcia attempts to rely on these alternative approaches, but his arguments are far too cursory to reach the compelling reason we require before revisiting circuit precedent.   See Santos v. United States, 461 F.3d 886, 891 (7th Cir.2006).</p><p>Conclusion</p><p>We therefore affirm the judgement of the district court.</p><p>I join the court in affirming the judgment.   In key respects, De Horta Garcia's arguments for reversal are foreclosed by this circuit's precedents.   I write separately to note my reservations about those precedents in the hope that we will, at some point, re-examine them.</p><p>In order to collaterally attack his deportation order, De Horta Garcia must show, among other things, that the entry of that order was fundamentally unfair.  8 U.S.C. § 1326(d)(3).   That showing in turn demands proof that he was deprived of due process and that he was prejudiced thereby.  United States v. Santiago-Ochoa, 447 F.3d 1015, 1019-20 (7th Cir.2006).   De Horta Garcia posits that he was deprived of due process when the Immigration Judge who presided over his deportation proceeding failed to apprise him of his right to petition the Attorney General for relief from deportation pursuant to section 212(c) of the INA, 8 U.S.C. § 1182(c) (1995) (later repealed and replaced by a different form of discretionary relief known as cancellation of removal, see 8 U.S.C. 1229b(b)).  But relief under section 212(c) was discretionary, and this court has held that due process does not entitle an alien “to be informed of eligibility for-or to be considered for-discretionary relief.”  Santiago-Ochoa, 447 F.3d at 1020.</p><p>Santiago-Ochoa reflects the majority view, but I think the minority view, well articulated by the Second Circuit's decision in United States v. Copeland, 376 F.3d 61, 70-73 (2d Cir.2004), has the better of the debate among the circuits on this point.<a href=\"#footnote_1\" name=\"footnote_ref_1\"><sup>1</sup></a>  As Copeland points out, the focus on the discretionary nature of section 212(c) relief fails to properly distinguish the right to seek relief-which under section 212(c) was absolute-from the right to the relief itself.  Id. at 72.</p><p>The decisions holding that a failure to inform an alien about Section 212(c) relief cannot be a fundamental error collapse this distinction and incorrectly assume that, because the grant of Section 212(c) relief itself is discretionary, the denial of a Section 212(c) hearing cannot be a fundamental procedural error.</p><p>Id. The Supreme Court itself has explicitly recognized the distinction that the majority view has overlooked.  INS v. St. Cyr, 533 U.S. 289, 307, 121 S.Ct. 2271, 2283, 150 L.Ed.2d 347 (2001) (“Traditionally, courts recognized a distinction between eligibility for discretionary relief, on the one hand, and the favorable exercise of discretion, on the other hand.”).   Indeed, notwithstanding the discretionary nature of section 212(c) relief, the Court in St. Cyr treated the loss of an alien's eligibility to seek such relief as a concrete detriment that counseled against applying the 1996 repeal of section 212(c) retroactively to aliens who pleaded guilty to deportable offenses at a time when they still would have been eligible for section 212(c) relief.   Id. at 321-25, 121 S.Ct. at 2290-93.   The Court observed that for purposes of the retroactivity analysis, “[t]here is a clear difference ․ between facing possible deportation and facing certain deportation.”  Id. at 325, 121 S.Ct. at 2293 (emphasis mine).   Thus, although the right to relief itself may be discretionary, what matters is the fact that the right of eligible aliens to seek relief is absolute.  Copeland, 376 F.3d at 72.   For many aliens facing deportation, discretionary relief is the only avenue of relief available.  Id. at 73.   And it is worth noting that the prospect of relief under section 212(c) by no means was illusory:  as the Supreme Court noted in St. Cyr, before section 212(c) was repealed, more than one-half of all requests for discretionary relief were granted.  533 U.S. at 296 &amp; n. 5, 325 &amp; n. 54, 121 S.Ct. at 2277 &amp; n. 5, 2293 n. 54;  see also Vashti D. Van Wyke, Comment, Retroactivity and Immigration Crimes Since St. Cyr:  Emerging Signs of Judicial Restraint, 154 U. Pa. L.Rev. 741, 747 &amp; nn. 32-34 (2006).   Thus, when an Immigration Judge, who bears a special obligation to advise an alien of his legal rights, has failed to inform an unrepresented alien of his right to seek relief under section 212(c), the judge has committed a fundamental procedural error in violation of the alien's right to due process.  Copeland, 376 F.3d at 71-73;  United States v. Ubaldo-Figueroa, 364 F.3d 1042, 1049-1050 (9th Cir.2004);  see also Brent S. Wible, The Strange Afterlife of Section 212(c) Relief:  Collateral Attacks on Deportation Orders In Prosecutions for Illegal Reentry After St. Cyr, 19 Geo. Immigr. L.J.. 455, 485-92 (2005) (advocating for adoption of Second Circuit's approach).</p><p>This is not to say that the discretionary nature of section 212(c) relief is wholly irrelevant.   In order to demonstrate a fundamental unfairness that entitles him to collaterally challenge his deportation, De Horta Garcia would have to show not only that he was deprived of due process but also that he was prejudiced by the deprivation.  Santiago-Ochoa, 447 F.3d at 1019.   It is with respect to the prejudice prong of the analysis that the discretionary character of section 212(c) relief comes into play.   To establish that he was harmed by the Immigration Judge's omission, De Horta Garcia would have to establish some likelihood that he would have been granted relief under section 212(c) had he been apprised of the possibility of such relief and availed himself of the right to seek it.  Copeland, 376 F.3d at 73;  see Wible, 19 Geo. Immigr. L.J.. at 490 (describing different approaches among circuits to prejudice).   De Horta Garcia might or might not be able to make that showing;  no record has been made as to the relative merits of the case he could have made for discretionary relief.   Under the current law of this circuit, however, De Horta Garcia and others like him are never given the opportunity to show that they might have obtained relief under section 212(c);  we instead rely on the fact that section 212(c) relief was discretionary to hold that there was no due process right to be apprised of such relief or to be considered for it.   For the reasons set forth in Copeland, I believe that premise is erroneous.</p><p>As the court points out, even if the path were clear for De Horta Garcia to mount a collateral attack on the deportation order, he would face a second obstacle in this court's precedents on retroactivity and reliance.   When De Horta Garcia committed his drug offense in 1995, he had a right to seek relief from deportation pursuant to section 212(c).  But by the time he was deported in December 1996, Congress, in section 440(d) of the Antiterrorism and Effective Death Penalty Act (AEDPA), had eliminated the right to seek discretionary relief for persons who, like De Horta Garcia, had committed drug-related offenses.   See LaGuerre v. Reno, 164 F.3d 1035, 1037 (7th Cir.1998).   De Horta Garcia's collateral challenge to the deportation order presumes that the change in eligibility criteria for section 212(c) relief could not be applied to him, because although he was ordered deported after the law changed, he committed and was charged with the drug offense prior to the change.   However, LaGuerre, 164 F.3d at 1041, concludes that the new bar to discretionary relief for those convicted of drug-related offenses applies in all pending deportation proceedings, even if the alien committed the drug offense prior to the change in the law, so long as the change in eligibility criteria did not disturb an alien's reasonable expectations.  Montenegro v. Ashcroft, 355 F.3d 1035, 1037 (7th Cir.2004) (per curiam), in turn suggests that an alien's reasonable expectations have been disturbed only when he actually relied to his detriment on the availability of section 212(c) relief. This would be true where the alien conceded deportability, admitted criminal culpability, or otherwise abandoned his rights in the expectation that he still would be eligible for section 212(c) relief.  Id. But LaGuerre rejected the notion that simply because an alien committed the crime triggering his deportation before the legislative change, he might have had any reasonable expectation that he would continue to be eligible for discretionary relief.   164 F.3d at 1041.   It struck us as “border[ing] on the absurd” that an alien might have factored the availability of such relief into his decision to commit the underlying offense.  Id.;  see also Kelava v. Gonzales, 434 F.3d 1120, 1124-25 (9th Cir.), cert. denied, 549 U.S. 810, 127 S.Ct. 43, 166 L.Ed.2d 19 (2006) (coll. cases in the same vein);  Van Wyke, 154 U. Pa. L.Rev. at 776-77 &amp; n. 173 (same).</p><p>However, the Fourth Circuit's opinion in Olatunji v. Ashcroft, 387 F.3d 383, 389-95 (4th Cir.2004) (2-1 decision), makes a compelling case for the proposition that reliance is not properly an element of the retroactivity inquiry.   The critical consideration, as Olatunji details at some length, is whether a new statute changes the legal consequences of acts that took place before its effective date.  Id. at 390 (quoting Society for the Propagation of the Gospel v. Wheeler, 22 F. Cas. 756, 2 Gall. 105, 767, No. 13156 (C.C.D.N.H.1814) (Story, J.)).   As the Fourth Circuit acknowledges, there are indeed references to reliance in the Supreme Court's retroactivity precedents.  Id. at 390-91, 393-94 (discussing Landgraf v. USI Film Prods., 511 U.S. 244, 114 S.Ct. 1483, 128 L.Ed.2d 229 (1994), Hughes Aircraft Co. v. U.S. ex rel. Schumer, 520 U.S. 939, 117 S.Ct. 1871, 138 L.Ed.2d 135 (1997), St. Cyr, 533 U.S. 289, 121 S.Ct. 2271, and Republic of Austria v. Altmann, 541 U.S. 677, 124 S.Ct. 2240, 159 L.Ed.2d 1 (2004)).   That is not surprising, for reliance always looms in the background as a reason explaining the Court's longstanding presumption that when Congress enacts a new law, it does not intend for the law to apply retroactively unless it makes that intent clear. Id. at 393-94.   The Court has assumed that society orders its affairs based on existing law, and that to apply new legal rules to acts that pre-date the change in law will, to some extent, upset those expectations.   But no Supreme Court decision requires or turns on proof that the party contesting retroactive application of new legislation actually relied to his detriment on prior law in setting his own course of conduct.   “Subjective reliance ․ is neither dictated by Supreme Court precedent nor related to the presumption of congressional intent underlying the bar against retroactivity.”  Id. at 389;  see Atkinson v. Attorney Gen. of the U.S., 479 F.3d 222, 227-31 (3d Cir.2007);  Van Wyke, 154 U. Pa. L.Rev. at 787 (“[U]nfairness and the potential for reliance on the current state of the law are the reasons for the strong presumption against retroactivity, rather than the test for a retroactive effect;  and the presumption against retroactivity is not a right to be earned by individuals, but a protection granted to all members of the class [of persons potentially affected by retroactive application of the new law]”).</p><p>If, as the Fourth Circuit has concluded, the retroactivity analysis does not turn on reliance, then De Horta Garcia has a straightforward claim that he should not be deemed ineligible for section 212(c) relief because to do so would be to retroactively attach a new disability to his prior criminal conduct.   Before the law changed in 1996, De Horta Garcia's commission of a drug offense (in 1995) would have rendered him deportable but at that point he nonetheless remained eligible for discretionary relief.   And as St. Cyr recognized, he had at least a fifty-fifty shot at obtaining such relief.   533 U.S. at 296 &amp; n. 5, 325 &amp; n. 54, 121 S.Ct. at 2277 &amp; n. 5, 2293 n. 54.   After the law changed to bar those convicted of drug offenses from obtaining relief under section 212(c), he had no chance whatsoever.   As St. Cyr also acknowledged, this is a significant difference.  Id. at 325, 121 S.Ct. at 2293.   Like the panel in LaGuerre, I too find it unlikely that when De Horta Garcia decided to commit a drug offense, he entertained any thought about his prospective eligibility for relief from deportation in the event he was caught, convicted, and ordered deported.   He obviously knew that he was committing a criminal offense, and if he did not actually know that such an offense would trigger his deportation, he certainly may be charged with constructive knowledge of that eventuality.   Still, to retroactively hold him ineligible for section 212(c) relief based on his prior crime would undoubtedly increase the burden he must shoulder for that crime by eliminating even the possibility of relief from deportation.   The Supreme Court's decision in Landgraf recognizes that legislation which imposes new disability or increases the extent of one's liability for past events should not be applied retroactively absent clear evidence of an congressional intent to do so.  511 U.S. at 282-85 &amp; n. 35, 114 S.Ct. at 1506-07 &amp; n. 35.   The Court in Hughes Aircraft articulated the same rule for legislation that eliminates a defense to liability.  520 U.S. at 947-49, 117 S.Ct. at 1876-77.   Barring De Horta from discretionary relief from deportation is the equivalent of these scenarios.   See Atkinson, 479 F.3d at 230;  Ubaldo-Figueroa, 364 F.3d at 1054-56 (Pregerson, J., concurring). And because Congress, when it enacted section 440(d) of the AEDPA, expressed no intent to apply the new bar to section 212(c) relief retroactively to those who committed drug offenses prior to its enactment, see LaGuerre, 164 F.3d at 1040-41, De Horta Garcia should remain eligible for relief from deportation.</p><p>To the extent that reliance ought to play any role in the retroactivity analysis, it is objective rather than subjective reliance that should be considered, as the Third, Sixth, and Tenth Circuits have concluded.   See Ponnapula v. Ashcroft, 373 F.3d 480, 494-96 (3d Cir.2004);  Thaqi v. Jenifer, 377 F.3d 500, 504 n. 2 (6th Cir.2004);  Hem v. Maurer, 458 F.3d 1185, 1197-99 (10th Cir.2006);  see also Olatunji, 387 F.3d at 396-97.   And if it is objectively reasonable reliance that must be established, I believe that De Horta Garcia can make that showing.   In February 1996, De Horta Garcia waived his speedy trial rights, which extended until June 1996 the State of Alaska's time to prosecute him on the drug charge.   At the time De Horta Garcia made the decision to waive his rights, the AEDPA and its ban on section 212(c) relief for those convicted of drug-related offenses was not yet law.   It was not until April 24, 1996, roughly two months after the waiver, that the AEDPA had emerged from Congress and was signed into law by President Clinton.   A person in De Horta Garcia's position reasonably might have believed, at the time he waived his speedy trial rights, that when he eventually pleaded guilty he would still be able to seek section 212(c) relief.   And there is a very real chance, that had De Horta Garcia not waived his speedy trial rights and his prosecution not been delayed, he would have pleaded guilty before the AEDPA became law, thus putting him in the very category of aliens that St. Cyr held could not be deprived retroactively of their right to seek relief under section 212(c).  This set of facts is sufficient to demonstrate objectively reasonable reliance on the availability of section 212(c) relief.   Cf. Restrepo v. McElroy, 369 F.3d 627, 634 (2d Cir.2004) (where individual decides to postpone filing his application for section 212(c) relief in order to build a more convincing case for rehabilitation, believing that such relief would still be available at a later date, “the AEDPA's undermining of this settled expectation represents a prototypical case of retroactivity”).   Even if De Horta Garcia had opted for a timely trial instead, it is not unreasonable to think that the continued availability of section 212(c) relief would have factored into his decision.   See Ponnapula, 373 F.3d at 496 (“The reasonable reliance question turns on the nature of the statutory right and the availability of some choice affecting that right, not on the choice actually made.”).</p><p>Under the law as it stands in this circuit, relief is unavailable to De Horta Garcia.   Persuasive authority from our sister circuits suggests, however, that in certain respects the precedents that stand in De Horta Garcia's path may be incorrect and should be re-visited.</p><p>I respectfully concur in the judgment.</p><p>FOOTNOTES</p><p><a href=\"#footnote_ref_1\" name=\"footnote_1\">1</a>.   See Anthony Distinti, Note, Gone But Not Forgotten:  How Section 212(c) Relief Continues to Divide Courts Presiding Over Indictments for Illegal Reentry, 74 Fordham L. Rev. 2809, 2825-35 (2006) (documenting the disparate circuit approaches);  Brent S. Wible, The Strange Afterlife of Section 212(c) Relief:  Collateral Attacks on Deportation Orders in Prosecutions for Illegal Reentry After St. Cyr, 19 Geo. Immigr. L.J. . 455, 467-80 (2005) (same).</p><p>BAUER, Circuit Judge.</p>\n",
      "<p></p>\n",
      "</div>]\n"
     ]
    }
   ],
   "source": [
    "print(data.html_format[index])"
   ]
  },
  {
   "cell_type": "markdown",
   "metadata": {},
   "source": [
    "## Finding top 3 most relevant parts of the text"
   ]
  },
  {
   "cell_type": "code",
   "execution_count": 352,
   "metadata": {},
   "outputs": [
    {
     "data": {
      "text/plain": [
       "38"
      ]
     },
     "execution_count": 352,
     "metadata": {},
     "output_type": "execute_result"
    }
   ],
   "source": [
    "html = data.html_format[index]\n",
    "\n",
    "# content = requests.get(html).content\n",
    "soup = BeautifulSoup(html, 'lxml')\n",
    "\n",
    "list_of_paragraphs = []\n",
    "for paragaph in soup.findAll('p'): \n",
    "    list_of_paragraphs.append(str(paragaph.text.encode('ascii', 'ignore')).replace(\"'\", \"\"))\n",
    "# print(model[3].html_format[0])\n",
    "\n",
    "# len(list_of_paragraphs)\n"
   ]
  },
  {
   "cell_type": "code",
   "execution_count": 228,
   "metadata": {},
   "outputs": [],
   "source": [
    "## QUERY: What is the penalty for drug trafficking?\n",
    "## RESULTS [2939, 4213, 3703, 695, 1810, 3397, 3311, 2663, 177, 1587]\n",
    "\n",
    "def get_top_values(lst, n):\n",
    "    '''\n",
    "    INPUT: LIST, INTEGER, LIST\n",
    "    OUTPUT: LIST\n",
    "\n",
    "    Given a list of values, find the indices with the highest n values.\n",
    "    Return the labels for each of these indices.\n",
    "\n",
    "    e.g.\n",
    "    lst = [7, 3, 2, 4, 1]\n",
    "    n = 2\n",
    "    labels = [\"cat\", \"dog\", \"mouse\", \"pig\", \"rabbit\"]\n",
    "    output: [\"cat\", \"pig\"]\n",
    "    \n",
    "    [-1:-n-1:-1]\n",
    "    '''\n",
    "    return [i for i in np.argsort(lst)[-1:-n-1:-1]]\n",
    "\n",
    "def most_relevant_part_of_one_text(case, query): \n",
    "    \n",
    "    \n",
    "    vectorizer = TfidfVectorizer(stop_words='english')\n",
    "    vectors = vectorizer.fit_transform(case).toarray()\n",
    "        \n",
    "    tokenized_query = vectorizer.transform(query)\n",
    "    cosine_similarities = results.cosine_similarity(vectorized_query, index_vectors)\n",
    "    \n",
    "    top_results = (results.get_top_values(cosine_similarities[0], 10), query)\n",
    "\n",
    "    return top_results\n",
    "\n",
    "\n",
    "def tokenize(tokenize_texts):\n",
    "    \"\"\"\n",
    "    :param case_text: list of strings (case_texts)\n",
    "    :returns: list of strings, tokenized word.\n",
    "    \"\"\"\n",
    "    table = str.maketrans({key: None for key in string.punctuation})\n",
    "    return [word_tokenize(case.translate(table).lower()) for case in tokenize_texts]\n",
    "\n",
    "def remove_stop_words(remove_stop_text):\n",
    "    \"\"\"\n",
    "    :param case_text: list of lists of strings (tokens)\n",
    "    :returns: list of lists of strings(tokens) without stopwords\n",
    "    \"\"\"\n",
    "    stop = set(stopwords.words('english'))\n",
    "    return [[word for word in words if word not in stop] for words in remove_stop_text]\n",
    "\n",
    "def stem_words(stem_word_text):\n",
    "    \"\"\"\n",
    "    :param without_stop: list of lists without stop words\n",
    "    :return: list of lists of strings (stemmed words)\n",
    "    \"\"\"\n",
    "    snowball = SnowballStemmer('english')\n",
    "    return [[snowball.stem(word) for word in words] for words in stem_word_text]\n",
    "\n",
    "\n",
    "def clean_text(case_text):\n",
    "    \"\"\"\n",
    "    :param case_text: list of strings (case_text)\n",
    "    :return: list of lists of strings (stemmed words)\n",
    "    \"\"\"\n",
    "    \n",
    "    table = str.maketrans({key: None for key in string.punctuation})\n",
    "    tokenized = [word_tokenize(case.translate(table).lower()) for case in case_text]\n",
    "    stop = set(stopwords.words('english'))\n",
    "    remove_stop_words = [[word for word in words if word not in stop] for words in tokenized]\n",
    "    snowball = SnowballStemmer('english')\n",
    "    ## Stemmed words \n",
    "    return [[snowball.stem(word) for word in words] for words in remove_stop_words]\n",
    "\n",
    "# most_relevant_part_of_one_text(model[3].case_text[0], query)\n",
    "\n",
    "# ## Step \n",
    "\n",
    "# vectorizer = TfidfVectorizer(stop_words='english')\n",
    "# vectors = vectorizer.fit_transform(data).toarray()\n"
   ]
  }
 ],
 "metadata": {
  "kernelspec": {
   "display_name": "Python 3",
   "language": "python",
   "name": "python3"
  },
  "language_info": {
   "codemirror_mode": {
    "name": "ipython",
    "version": 3
   },
   "file_extension": ".py",
   "mimetype": "text/x-python",
   "name": "python",
   "nbconvert_exporter": "python",
   "pygments_lexer": "ipython3",
   "version": "3.6.3"
  }
 },
 "nbformat": 4,
 "nbformat_minor": 2
}
