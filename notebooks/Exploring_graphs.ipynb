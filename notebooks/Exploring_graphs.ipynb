{
 "cells": [
  {
   "cell_type": "code",
   "execution_count": 3,
   "metadata": {},
   "outputs": [],
   "source": [
    "import pandas as pd\n",
    "import numpy as np\n",
    "import find_citation\n",
    "import networkx as nx\n",
    "import pandas as pd\n",
    "from collections import Counter\n",
    "import matplotlib.pyplot as plt\n",
    "%matplotlib inline\n",
    "import community"
   ]
  },
  {
   "cell_type": "code",
   "execution_count": 7,
   "metadata": {},
   "outputs": [
    {
     "data": {
      "image/png": "[encoded data removed]",
      "text/plain": [
       "<matplotlib.figure.Figure at 0x151ba4b748>"
      ]
     },
     "metadata": {},
     "output_type": "display_data"
    }
   ],
   "source": [
    "#other example to display a graph with its community :\n",
    "#better with karate_graph() as defined in networkx examples\n",
    "#erdos renyi don't have true community structure\n",
    "G = nx.erdos_renyi_graph(30, 0.05)\n",
    "#first compute the best partition\n",
    "partition = community.best_partition(G)\n",
    "#drawing\n",
    "size = float(len(set(partition.values())))\n",
    "pos = nx.spring_layout(G)\n",
    "count = 0.\n",
    "\n",
    "for com in set(partition.values()) :\n",
    "    count += 1.\n",
    "    list_nodes = [nodes for nodes in partition.keys() if partition[nodes] == com]\n",
    "    \n",
    "    nx.draw_networkx_nodes(G, pos, list_nodes, node_size = 20, node_color = str(count / size))\n",
    "    nx.draw_networkx_edges(G, pos, alpha=0.5)\n",
    "\n",
    "plt.show()"
   ]
  },
  {
   "cell_type": "code",
   "execution_count": 11,
   "metadata": {},
   "outputs": [],
   "source": [
    "df = pd.read_csv('/Users/kevingmagana/DSI/capstone/external_data/first_merged_case_law.csv', sep='\\t', encoding='utf-8')"
   ]
  },
  {
   "cell_type": "code",
   "execution_count": 12,
   "metadata": {},
   "outputs": [
    {
     "data": {
      "text/html": [
       "<div>\n",
       "<style>\n",
       "    .dataframe thead tr:only-child th {\n",
       "        text-align: right;\n",
       "    }\n",
       "\n",
       "    .dataframe thead th {\n",
       "        text-align: left;\n",
       "    }\n",
       "\n",
       "    .dataframe tbody tr th {\n",
       "        vertical-align: top;\n",
       "    }\n",
       "</style>\n",
       "<table border=\"1\" class=\"dataframe\">\n",
       "  <thead>\n",
       "    <tr style=\"text-align: right;\">\n",
       "      <th></th>\n",
       "      <th>Unnamed: 0</th>\n",
       "      <th>case_text</th>\n",
       "      <th>case_title</th>\n",
       "      <th>court</th>\n",
       "      <th>date</th>\n",
       "      <th>docket</th>\n",
       "      <th>tags</th>\n",
       "      <th>type_of_law</th>\n",
       "      <th>url</th>\n",
       "      <th>web_source</th>\n",
       "    </tr>\n",
       "  </thead>\n",
       "  <tbody>\n",
       "    <tr>\n",
       "      <th>0</th>\n",
       "      <td>0</td>\n",
       "      <td>NaN</td>\n",
       "      <td>Green v. Napolitano</td>\n",
       "      <td>United States Tenth Circuit</td>\n",
       "      <td>12/21/2010</td>\n",
       "      <td>10-1156</td>\n",
       "      <td>Administrative Law, Immigration Law</td>\n",
       "      <td>case</td>\n",
       "      <td>http://www.ca10.uscourts.gov/opinions/10/10-11...</td>\n",
       "      <td>findlaw.com</td>\n",
       "    </tr>\n",
       "    <tr>\n",
       "      <th>1</th>\n",
       "      <td>1</td>\n",
       "      <td>United States Court of Appeals,Tenth Circuit.\\...</td>\n",
       "      <td>Porro v. Barnes</td>\n",
       "      <td>United States Tenth Circuit</td>\n",
       "      <td>11/09/2010</td>\n",
       "      <td>10-6002</td>\n",
       "      <td>Civil Rights, Constitutional Law, Immigration ...</td>\n",
       "      <td>case</td>\n",
       "      <td>http://caselaw.findlaw.com/us-10th-circuit/154...</td>\n",
       "      <td>findlaw.com</td>\n",
       "    </tr>\n",
       "    <tr>\n",
       "      <th>2</th>\n",
       "      <td>2</td>\n",
       "      <td>United States Court of Appeals,Tenth Circuit.\\...</td>\n",
       "      <td>Garcia-Carbajal v. Holder</td>\n",
       "      <td>United States Tenth Circuit</td>\n",
       "      <td>11/05/2010</td>\n",
       "      <td>09-9558</td>\n",
       "      <td>Administrative Law, Immigration Law</td>\n",
       "      <td>case</td>\n",
       "      <td>http://caselaw.findlaw.com/us-10th-circuit/154...</td>\n",
       "      <td>findlaw.com</td>\n",
       "    </tr>\n",
       "    <tr>\n",
       "      <th>3</th>\n",
       "      <td>3</td>\n",
       "      <td>United States Court of Appeals,Tenth Circuit.\\...</td>\n",
       "      <td>US v. Rendon-Alamo</td>\n",
       "      <td>United States Tenth Circuit</td>\n",
       "      <td>10/19/2010</td>\n",
       "      <td>10-2089</td>\n",
       "      <td>Sentencing, Immigration Law, Criminal Law &amp; Pr...</td>\n",
       "      <td>case</td>\n",
       "      <td>http://caselaw.findlaw.com/us-10th-circuit/154...</td>\n",
       "      <td>findlaw.com</td>\n",
       "    </tr>\n",
       "    <tr>\n",
       "      <th>4</th>\n",
       "      <td>4</td>\n",
       "      <td>NaN</td>\n",
       "      <td>Dallakoti v. Holder</td>\n",
       "      <td>United States Tenth Circuit</td>\n",
       "      <td>10/05/2010</td>\n",
       "      <td>09-9565</td>\n",
       "      <td>Administrative Law, Immigration Law</td>\n",
       "      <td>case</td>\n",
       "      <td>http://ca10.uscourts.gov/opinions/09/09-9565.pdf</td>\n",
       "      <td>findlaw.com</td>\n",
       "    </tr>\n",
       "  </tbody>\n",
       "</table>\n",
       "</div>"
      ],
      "text/plain": [
       "   Unnamed: 0                                          case_text  \\\n",
       "0           0                                                NaN   \n",
       "1           1  United States Court of Appeals,Tenth Circuit.\\...   \n",
       "2           2  United States Court of Appeals,Tenth Circuit.\\...   \n",
       "3           3  United States Court of Appeals,Tenth Circuit.\\...   \n",
       "4           4                                                NaN   \n",
       "\n",
       "                  case_title                        court        date  \\\n",
       "0        Green v. Napolitano  United States Tenth Circuit  12/21/2010   \n",
       "1            Porro v. Barnes  United States Tenth Circuit  11/09/2010   \n",
       "2  Garcia-Carbajal v. Holder  United States Tenth Circuit  11/05/2010   \n",
       "3         US v. Rendon-Alamo  United States Tenth Circuit  10/19/2010   \n",
       "4        Dallakoti v. Holder  United States Tenth Circuit  10/05/2010   \n",
       "\n",
       "    docket                                               tags type_of_law  \\\n",
       "0  10-1156                Administrative Law, Immigration Law        case   \n",
       "1  10-6002  Civil Rights, Constitutional Law, Immigration ...        case   \n",
       "2  09-9558                Administrative Law, Immigration Law        case   \n",
       "3  10-2089  Sentencing, Immigration Law, Criminal Law & Pr...        case   \n",
       "4  09-9565                Administrative Law, Immigration Law        case   \n",
       "\n",
       "                                                 url   web_source  \n",
       "0  http://www.ca10.uscourts.gov/opinions/10/10-11...  findlaw.com  \n",
       "1  http://caselaw.findlaw.com/us-10th-circuit/154...  findlaw.com  \n",
       "2  http://caselaw.findlaw.com/us-10th-circuit/154...  findlaw.com  \n",
       "3  http://caselaw.findlaw.com/us-10th-circuit/154...  findlaw.com  \n",
       "4   http://ca10.uscourts.gov/opinions/09/09-9565.pdf  findlaw.com  "
      ]
     },
     "execution_count": 12,
     "metadata": {},
     "output_type": "execute_result"
    }
   ],
   "source": [
    "df.head()"
   ]
  },
  {
   "cell_type": "code",
   "execution_count": null,
   "metadata": {},
   "outputs": [],
   "source": []
  },
  {
   "cell_type": "code",
   "execution_count": 25,
   "metadata": {},
   "outputs": [],
   "source": [
    "\n",
    "    "
   ]
  },
  {
   "cell_type": "code",
   "execution_count": null,
   "metadata": {},
   "outputs": [],
   "source": []
  },
  {
   "cell_type": "code",
   "execution_count": null,
   "metadata": {},
   "outputs": [],
   "source": []
  }
 ],
 "metadata": {
  "kernelspec": {
   "display_name": "Python 3",
   "language": "python",
   "name": "python3"
  },
  "language_info": {
   "codemirror_mode": {
    "name": "ipython",
    "version": 3
   },
   "file_extension": ".py",
   "mimetype": "text/x-python",
   "name": "python",
   "nbconvert_exporter": "python",
   "pygments_lexer": "ipython3",
   "version": "3.6.3"
  }
 },
 "nbformat": 4,
 "nbformat_minor": 2
}
