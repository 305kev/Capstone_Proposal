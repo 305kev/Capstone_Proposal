{
 "cells": [
  {
   "cell_type": "code",
   "execution_count": 1,
   "metadata": {},
   "outputs": [],
   "source": [
    "import pandas as pd\n",
    "import numpy as np\n",
    "import sys\n",
    "sys.path.append('/Users/kevingmagana/DSI/capstone/capstone-update/Capstone_Proposal/py_scripts/')\n",
    "import find_citation, index\n",
    "import networkx as nx\n",
    "import pandas as pd\n",
    "from collections import Counter\n",
    "import matplotlib.pyplot as plt\n",
    "%matplotlib inline\n",
    "from collections import defaultdict\n",
    "import copy\n",
    "import re\n",
    "import boto3\n",
    "from io import StringIO, BytesIO\n",
    "from nltk.stem.porter import PorterStemmer\n",
    "from nltk.stem.snowball import SnowballStemmer\n",
    "from nltk.stem.wordnet import WordNetLemmatizer\n",
    "from nltk.corpus import stopwords\n",
    "from nltk.tokenize import word_tokenize\n",
    "import string\n",
    "from gensim.models import phrases\n",
    "from gensim.models.phrases import Phraser\n",
    "import os\n",
    "# from _pickle import *\n",
    "import _pickle as cPickle\n",
    "\n"
   ]
  },
  {
   "cell_type": "markdown",
   "metadata": {},
   "source": [
    "## (1) Load Merged Data (with Scraped html formatting )"
   ]
  },
  {
   "cell_type": "code",
   "execution_count": 2,
   "metadata": {},
   "outputs": [],
   "source": [
    "# 's3' is a key word. create connection to S3 using default config and all buckets within S3\n",
    "s3 = boto3.resource('s3')\n",
    "client = boto3.client('s3') #low-level functional API\n",
    "\n",
    "obj = client.get_object(Bucket='court-case-data', Key='merged_data_with_html_format.csv')\n",
    "df = pd.read_csv(BytesIO(obj['Body'].read()))\n",
    "\n"
   ]
  },
  {
   "cell_type": "code",
   "execution_count": 3,
   "metadata": {},
   "outputs": [
    {
     "data": {
      "text/html": [
       "<div>\n",
       "<style>\n",
       "    .dataframe thead tr:only-child th {\n",
       "        text-align: right;\n",
       "    }\n",
       "\n",
       "    .dataframe thead th {\n",
       "        text-align: left;\n",
       "    }\n",
       "\n",
       "    .dataframe tbody tr th {\n",
       "        vertical-align: top;\n",
       "    }\n",
       "</style>\n",
       "<table border=\"1\" class=\"dataframe\">\n",
       "  <thead>\n",
       "    <tr style=\"text-align: right;\">\n",
       "      <th></th>\n",
       "      <th>Unnamed: 0</th>\n",
       "      <th>case_text</th>\n",
       "      <th>case_title</th>\n",
       "      <th>court</th>\n",
       "      <th>date</th>\n",
       "      <th>docket</th>\n",
       "      <th>tags</th>\n",
       "      <th>type_of_law</th>\n",
       "      <th>url</th>\n",
       "      <th>web_source</th>\n",
       "      <th>html_format</th>\n",
       "    </tr>\n",
       "  </thead>\n",
       "  <tbody>\n",
       "    <tr>\n",
       "      <th>1</th>\n",
       "      <td>1</td>\n",
       "      <td>United States Court of Appeals,Tenth Circuit.\\...</td>\n",
       "      <td>Porro v. Barnes</td>\n",
       "      <td>United States Tenth Circuit</td>\n",
       "      <td>11/09/2010</td>\n",
       "      <td>10-6002</td>\n",
       "      <td>Civil Rights, Constitutional Law, Immigration ...</td>\n",
       "      <td>case</td>\n",
       "      <td>http://caselaw.findlaw.com/us-10th-circuit/154...</td>\n",
       "      <td>findlaw.com</td>\n",
       "      <td>[&lt;div class=\"caselawcontent searchable-content...</td>\n",
       "    </tr>\n",
       "    <tr>\n",
       "      <th>2</th>\n",
       "      <td>2</td>\n",
       "      <td>United States Court of Appeals,Tenth Circuit.\\...</td>\n",
       "      <td>Garcia-Carbajal v. Holder</td>\n",
       "      <td>United States Tenth Circuit</td>\n",
       "      <td>11/05/2010</td>\n",
       "      <td>09-9558</td>\n",
       "      <td>Administrative Law, Immigration Law</td>\n",
       "      <td>case</td>\n",
       "      <td>http://caselaw.findlaw.com/us-10th-circuit/154...</td>\n",
       "      <td>findlaw.com</td>\n",
       "      <td>[&lt;div class=\"caselawcontent searchable-content...</td>\n",
       "    </tr>\n",
       "    <tr>\n",
       "      <th>3</th>\n",
       "      <td>3</td>\n",
       "      <td>United States Court of Appeals,Tenth Circuit.\\...</td>\n",
       "      <td>US v. Rendon-Alamo</td>\n",
       "      <td>United States Tenth Circuit</td>\n",
       "      <td>10/19/2010</td>\n",
       "      <td>10-2089</td>\n",
       "      <td>Sentencing, Immigration Law, Criminal Law &amp; Pr...</td>\n",
       "      <td>case</td>\n",
       "      <td>http://caselaw.findlaw.com/us-10th-circuit/154...</td>\n",
       "      <td>findlaw.com</td>\n",
       "      <td>[&lt;div class=\"caselawcontent searchable-content...</td>\n",
       "    </tr>\n",
       "    <tr>\n",
       "      <th>5</th>\n",
       "      <td>5</td>\n",
       "      <td>United States Court of Appeals,Tenth Circuit.\\...</td>\n",
       "      <td>Iliev v. Holder</td>\n",
       "      <td>United States Tenth Circuit</td>\n",
       "      <td>07/19/2010</td>\n",
       "      <td>09-9517</td>\n",
       "      <td>Administrative Law, Immigration Law</td>\n",
       "      <td>case</td>\n",
       "      <td>http://caselaw.findlaw.com/us-10th-circuit/153...</td>\n",
       "      <td>findlaw.com</td>\n",
       "      <td>[&lt;div class=\"caselawcontent searchable-content...</td>\n",
       "    </tr>\n",
       "    <tr>\n",
       "      <th>6</th>\n",
       "      <td>6</td>\n",
       "      <td>United States Court of Appeals,Tenth Circuit.\\...</td>\n",
       "      <td>US v. Adame-Orozco</td>\n",
       "      <td>United States Tenth Circuit</td>\n",
       "      <td>06/04/2010</td>\n",
       "      <td>09-3296</td>\n",
       "      <td>Criminal Law &amp; Procedure, Immigration Law</td>\n",
       "      <td>case</td>\n",
       "      <td>http://caselaw.findlaw.com/us-10th-circuit/152...</td>\n",
       "      <td>findlaw.com</td>\n",
       "      <td>[&lt;div class=\"caselawcontent searchable-content...</td>\n",
       "    </tr>\n",
       "  </tbody>\n",
       "</table>\n",
       "</div>"
      ],
      "text/plain": [
       "   Unnamed: 0                                          case_text  \\\n",
       "1           1  United States Court of Appeals,Tenth Circuit.\\...   \n",
       "2           2  United States Court of Appeals,Tenth Circuit.\\...   \n",
       "3           3  United States Court of Appeals,Tenth Circuit.\\...   \n",
       "5           5  United States Court of Appeals,Tenth Circuit.\\...   \n",
       "6           6  United States Court of Appeals,Tenth Circuit.\\...   \n",
       "\n",
       "                  case_title                        court        date  \\\n",
       "1            Porro v. Barnes  United States Tenth Circuit  11/09/2010   \n",
       "2  Garcia-Carbajal v. Holder  United States Tenth Circuit  11/05/2010   \n",
       "3         US v. Rendon-Alamo  United States Tenth Circuit  10/19/2010   \n",
       "5            Iliev v. Holder  United States Tenth Circuit  07/19/2010   \n",
       "6         US v. Adame-Orozco  United States Tenth Circuit  06/04/2010   \n",
       "\n",
       "    docket                                               tags type_of_law  \\\n",
       "1  10-6002  Civil Rights, Constitutional Law, Immigration ...        case   \n",
       "2  09-9558                Administrative Law, Immigration Law        case   \n",
       "3  10-2089  Sentencing, Immigration Law, Criminal Law & Pr...        case   \n",
       "5  09-9517                Administrative Law, Immigration Law        case   \n",
       "6  09-3296          Criminal Law & Procedure, Immigration Law        case   \n",
       "\n",
       "                                                 url   web_source  \\\n",
       "1  http://caselaw.findlaw.com/us-10th-circuit/154...  findlaw.com   \n",
       "2  http://caselaw.findlaw.com/us-10th-circuit/154...  findlaw.com   \n",
       "3  http://caselaw.findlaw.com/us-10th-circuit/154...  findlaw.com   \n",
       "5  http://caselaw.findlaw.com/us-10th-circuit/153...  findlaw.com   \n",
       "6  http://caselaw.findlaw.com/us-10th-circuit/152...  findlaw.com   \n",
       "\n",
       "                                         html_format  \n",
       "1  [<div class=\"caselawcontent searchable-content...  \n",
       "2  [<div class=\"caselawcontent searchable-content...  \n",
       "3  [<div class=\"caselawcontent searchable-content...  \n",
       "5  [<div class=\"caselawcontent searchable-content...  \n",
       "6  [<div class=\"caselawcontent searchable-content...  "
      ]
     },
     "execution_count": 3,
     "metadata": {},
     "output_type": "execute_result"
    }
   ],
   "source": [
    "corp = df.dropna()\n",
    "corp.head()"
   ]
  },
  {
   "cell_type": "markdown",
   "metadata": {},
   "source": [
    "## (2) Data Cleaning, Index, and finally and Bag of Words (TF-IDF)"
   ]
  },
  {
   "cell_type": "code",
   "execution_count": null,
   "metadata": {},
   "outputs": [],
   "source": [
    "\"\"\"\n",
    "Initial Data Pre-Processing \n",
    "Steps: \n",
    "    (1) Tokenize everything \n",
    "    (2) Remove Stop Words\n",
    "    (3) Stem / Lemm \n",
    "    (4) -- Create classes \n",
    "\n",
    "Wish List: \n",
    "    (1) Bigram, Trigram, and N-Gram tokenizer. \n",
    "    (2) Citation Parsing \n",
    "\"\"\""
   ]
  },
  {
   "cell_type": "code",
   "execution_count": 6,
   "metadata": {},
   "outputs": [],
   "source": [
    "def tokenize(tokenize_texts): \n",
    "    \"\"\"\n",
    "    :param case_text: list of strings (case_texts)\n",
    "    :returns: list of strings, tokenized word.\n",
    "    \"\"\"\n",
    "    table = str.maketrans({key: None for key in string.punctuation})\n",
    "    return [word_tokenize(case.translate(table).lower()) for case in tokenize_texts]\n",
    "\n",
    "\n",
    "def remove_stop_words(remove_stop_text):\n",
    "    \"\"\" \n",
    "    :param case_text: list of lists of strings (tokens)\n",
    "    :returns: list of lists of strings(tokens) without stopwords\n",
    "    \"\"\"\n",
    "    stop = set(stopwords.words('english'))\n",
    "    return [[word for word in words if word not in stop] for words in remove_stop_text]\n",
    "     \n",
    "def stem_words(stem_word_text): \n",
    "    \"\"\"\n",
    "    :param without_stop: list of lists without stop words\n",
    "    :return: list of lists of strings (stemmed words)\n",
    "    \"\"\"\n",
    "    snowball = SnowballStemmer('english')\n",
    "    return [[snowball.stem(word) for word in words] for words in stem_word_text]"
   ]
  },
  {
   "cell_type": "markdown",
   "metadata": {},
   "source": [
    "### process_cases takes 3-5 mins to run"
   ]
  },
  {
   "cell_type": "code",
   "execution_count": 5,
   "metadata": {},
   "outputs": [],
   "source": [
    "def process_cases(cases):\n",
    "    \"\"\"\n",
    "    :param cases: dataframe, where column1 is case_titles, column2 is case_texts\n",
    "    :returns case_to_terms: dict, where keys are case_titles and values are words/ tokens in that case \n",
    "        EX: \n",
    "            case_to_terms = {case_title: [world1, word2], ...}\n",
    "    \"\"\"\n",
    "    case_to_terms = {}\n",
    "    tokenized= tokenize(cases['case_text'])\n",
    "    remove_stops = remove_stop_words(tokenized)\n",
    "    stem_the_words = stem_words(remove_stops)\n",
    "    \n",
    "    for ind, case in enumerate(cases['case_title']):\n",
    "        case_to_terms[case] = stem_the_words[ind]\n",
    "    return case_to_terms"
   ]
  },
  {
   "cell_type": "markdown",
   "metadata": {},
   "source": [
    "\n"
   ]
  },
  {
   "cell_type": "code",
   "execution_count": 4,
   "metadata": {},
   "outputs": [
    {
     "name": "stderr",
     "output_type": "stream",
     "text": [
      "/Users/kevingmagana/anaconda3/lib/python3.6/site-packages/ipykernel_launcher.py:7: SettingWithCopyWarning: \n",
      "A value is trying to be set on a copy of a slice from a DataFrame.\n",
      "Try using .loc[row_indexer,col_indexer] = value instead\n",
      "\n",
      "See the caveats in the documentation: http://pandas.pydata.org/pandas-docs/stable/indexing.html#indexing-view-versus-copy\n",
      "  import sys\n"
     ]
    }
   ],
   "source": [
    "# corp['case_title'].describe()\n",
    "\n",
    "# corp[corp['case_title']=='Singh v. Gonzales']\n",
    "\n",
    "# corp['title_date'] = corp['case_title'] + corp['date']\n",
    "\n",
    "corp['title_date'] = corp[['case_title', 'date']].apply(lambda x: ' '.join(x), axis=1)\n"
   ]
  },
  {
   "cell_type": "code",
   "execution_count": 5,
   "metadata": {},
   "outputs": [
    {
     "data": {
      "text/html": [
       "<div>\n",
       "<style>\n",
       "    .dataframe thead tr:only-child th {\n",
       "        text-align: right;\n",
       "    }\n",
       "\n",
       "    .dataframe thead th {\n",
       "        text-align: left;\n",
       "    }\n",
       "\n",
       "    .dataframe tbody tr th {\n",
       "        vertical-align: top;\n",
       "    }\n",
       "</style>\n",
       "<table border=\"1\" class=\"dataframe\">\n",
       "  <thead>\n",
       "    <tr style=\"text-align: right;\">\n",
       "      <th></th>\n",
       "      <th>case_text</th>\n",
       "      <th>title_date</th>\n",
       "    </tr>\n",
       "  </thead>\n",
       "  <tbody>\n",
       "    <tr>\n",
       "      <th>1</th>\n",
       "      <td>United States Court of Appeals,Tenth Circuit.\\...</td>\n",
       "      <td>Porro v. Barnes 11/09/2010</td>\n",
       "    </tr>\n",
       "    <tr>\n",
       "      <th>2</th>\n",
       "      <td>United States Court of Appeals,Tenth Circuit.\\...</td>\n",
       "      <td>Garcia-Carbajal v. Holder 11/05/2010</td>\n",
       "    </tr>\n",
       "    <tr>\n",
       "      <th>3</th>\n",
       "      <td>United States Court of Appeals,Tenth Circuit.\\...</td>\n",
       "      <td>US v. Rendon-Alamo 10/19/2010</td>\n",
       "    </tr>\n",
       "    <tr>\n",
       "      <th>5</th>\n",
       "      <td>United States Court of Appeals,Tenth Circuit.\\...</td>\n",
       "      <td>Iliev v. Holder 07/19/2010</td>\n",
       "    </tr>\n",
       "    <tr>\n",
       "      <th>6</th>\n",
       "      <td>United States Court of Appeals,Tenth Circuit.\\...</td>\n",
       "      <td>US v. Adame-Orozco 06/04/2010</td>\n",
       "    </tr>\n",
       "  </tbody>\n",
       "</table>\n",
       "</div>"
      ],
      "text/plain": [
       "                                           case_text  \\\n",
       "1  United States Court of Appeals,Tenth Circuit.\\...   \n",
       "2  United States Court of Appeals,Tenth Circuit.\\...   \n",
       "3  United States Court of Appeals,Tenth Circuit.\\...   \n",
       "5  United States Court of Appeals,Tenth Circuit.\\...   \n",
       "6  United States Court of Appeals,Tenth Circuit.\\...   \n",
       "\n",
       "                             title_date  \n",
       "1            Porro v. Barnes 11/09/2010  \n",
       "2  Garcia-Carbajal v. Holder 11/05/2010  \n",
       "3         US v. Rendon-Alamo 10/19/2010  \n",
       "5            Iliev v. Holder 07/19/2010  \n",
       "6         US v. Adame-Orozco 06/04/2010  "
      ]
     },
     "execution_count": 5,
     "metadata": {},
     "output_type": "execute_result"
    }
   ],
   "source": [
    "corpus = corp.iloc[:, [1, 11]]\n",
    "corpus.head()"
   ]
  },
  {
   "cell_type": "markdown",
   "metadata": {},
   "source": [
    "### If you dropna here, you MUST dropna in the S3 CSV bucket. "
   ]
  },
  {
   "cell_type": "code",
   "execution_count": 7,
   "metadata": {},
   "outputs": [
    {
     "data": {
      "text/plain": [
       "4018"
      ]
     },
     "execution_count": 7,
     "metadata": {},
     "output_type": "execute_result"
    }
   ],
   "source": [
    "# corp = df.dropna()\n",
    "# corp.head(2)\n",
    "\n",
    "### Warning -- this takes about 3-5 minutes to run!!!\n",
    "case_to_terms = process_cases(corp)\n",
    "len(case_to_terms)\n"
   ]
  },
  {
   "cell_type": "markdown",
   "metadata": {},
   "source": [
    ">>> ### Will have to figure out HOW to sync up the case titles from the dataframe here and the titles I used in graphing earlier this week\n",
    "\n",
    "\n"
   ]
  },
  {
   "cell_type": "code",
   "execution_count": 169,
   "metadata": {},
   "outputs": [],
   "source": [
    "#input = [word1, word2, ...]\n",
    "#output = {word1: [pos1, pos2], word2: [pos2, pos434], ...}\n",
    "def index_one_file(termlist):\n",
    "    \"\"\"\n",
    "    :param termlist: list of terms  \n",
    "    :returns: dict, single caseIndex\n",
    "        EX: \n",
    "        {word1: [pos1, pos2], word2: [pos2, pos434], ...}\n",
    "    \n",
    "    \"\"\"\n",
    "    caseIndex={}\n",
    "    for index, word in enumerate(termlist):\n",
    "        if word in caseIndex.keys():\n",
    "            caseIndex[word].append(index)\n",
    "        else: \n",
    "            caseIndex[word].append = [index]\n",
    "    return caseIndex\n",
    "\n",
    "#input = {filename: [word1, word2, ...], ...}\n",
    "#res = {filename: {word: [pos1, pos2, ...]}, ...}\n",
    "def make_indices(termlists):\n",
    "    total = {}\n",
    "    for filename in termlists.keys():\n",
    "        total[filename] = self.index_one_file(termlists[filename])\n",
    "    return total\n"
   ]
  },
  {
   "cell_type": "markdown",
   "metadata": {},
   "source": [
    "## Run the code"
   ]
  },
  {
   "cell_type": "code",
   "execution_count": 85,
   "metadata": {},
   "outputs": [],
   "source": [
    "\n",
    "docs = corp[0:3]\n",
    "docs_names = docs.case_title\n",
    "doc_texts = docs.case_text\n",
    "\n",
    "# process_cases(docs_names, doc_texts)"
   ]
  },
  {
   "cell_type": "markdown",
   "metadata": {},
   "source": [
    "## Wish List: *** Bigram, Trigram, & N-gram *** Tokenizing"
   ]
  },
  {
   "cell_type": "markdown",
   "metadata": {},
   "source": [
    "### Grab the Citation Parser & Include it here"
   ]
  },
  {
   "cell_type": "code",
   "execution_count": 151,
   "metadata": {},
   "outputs": [],
   "source": [
    "docs = [word_tokenize(content) for content in doc_texts]\n",
    "test = tokenize(doc_texts[1:3])\n",
    "phrases = Phrases(test)\n",
    "bigram = Phraser(phrases)\n",
    "# sent = [u'the', u'mayor', u'of', u'new', u'york', u'was', u'there']\n",
    "# print(list(bigram[test[1]]))\n",
    "# print()"
   ]
  },
  {
   "cell_type": "markdown",
   "metadata": {},
   "source": [
    "### RESET INDEX"
   ]
  },
  {
   "cell_type": "code",
   "execution_count": 6,
   "metadata": {},
   "outputs": [
    {
     "data": {
      "text/html": [
       "<div>\n",
       "<style>\n",
       "    .dataframe thead tr:only-child th {\n",
       "        text-align: right;\n",
       "    }\n",
       "\n",
       "    .dataframe thead th {\n",
       "        text-align: left;\n",
       "    }\n",
       "\n",
       "    .dataframe tbody tr th {\n",
       "        vertical-align: top;\n",
       "    }\n",
       "</style>\n",
       "<table border=\"1\" class=\"dataframe\">\n",
       "  <thead>\n",
       "    <tr style=\"text-align: right;\">\n",
       "      <th></th>\n",
       "      <th>case_text</th>\n",
       "      <th>title_date</th>\n",
       "    </tr>\n",
       "  </thead>\n",
       "  <tbody>\n",
       "    <tr>\n",
       "      <th>count</th>\n",
       "      <td>4470</td>\n",
       "      <td>4470</td>\n",
       "    </tr>\n",
       "    <tr>\n",
       "      <th>unique</th>\n",
       "      <td>4310</td>\n",
       "      <td>4470</td>\n",
       "    </tr>\n",
       "    <tr>\n",
       "      <th>top</th>\n",
       "      <td>United States Court of Appeals,Fifth Circuit.\\...</td>\n",
       "      <td>US v. Ruiz-Lopez 04/25/2014</td>\n",
       "    </tr>\n",
       "    <tr>\n",
       "      <th>freq</th>\n",
       "      <td>3</td>\n",
       "      <td>1</td>\n",
       "    </tr>\n",
       "  </tbody>\n",
       "</table>\n",
       "</div>"
      ],
      "text/plain": [
       "                                                case_text  \\\n",
       "count                                                4470   \n",
       "unique                                               4310   \n",
       "top     United States Court of Appeals,Fifth Circuit.\\...   \n",
       "freq                                                    3   \n",
       "\n",
       "                         title_date  \n",
       "count                          4470  \n",
       "unique                         4470  \n",
       "top     US v. Ruiz-Lopez 04/25/2014  \n",
       "freq                              1  "
      ]
     },
     "execution_count": 6,
     "metadata": {},
     "output_type": "execute_result"
    }
   ],
   "source": [
    "corpus = corp.iloc[:, [1, 11]]\n",
    "corpus = corpus.drop_duplicates(subset='title_date')\n",
    "corpus = corpus.reset_index(drop=True)\n",
    "corpus.describe()"
   ]
  },
  {
   "cell_type": "code",
   "execution_count": 7,
   "metadata": {},
   "outputs": [
    {
     "data": {
      "text/html": [
       "<div>\n",
       "<style>\n",
       "    .dataframe thead tr:only-child th {\n",
       "        text-align: right;\n",
       "    }\n",
       "\n",
       "    .dataframe thead th {\n",
       "        text-align: left;\n",
       "    }\n",
       "\n",
       "    .dataframe tbody tr th {\n",
       "        vertical-align: top;\n",
       "    }\n",
       "</style>\n",
       "<table border=\"1\" class=\"dataframe\">\n",
       "  <thead>\n",
       "    <tr style=\"text-align: right;\">\n",
       "      <th></th>\n",
       "      <th>case_text</th>\n",
       "      <th>title_date</th>\n",
       "    </tr>\n",
       "  </thead>\n",
       "  <tbody>\n",
       "    <tr>\n",
       "      <th>0</th>\n",
       "      <td>United States Court of Appeals,Tenth Circuit.\\...</td>\n",
       "      <td>Porro v. Barnes 11/09/2010</td>\n",
       "    </tr>\n",
       "    <tr>\n",
       "      <th>1</th>\n",
       "      <td>United States Court of Appeals,Tenth Circuit.\\...</td>\n",
       "      <td>Garcia-Carbajal v. Holder 11/05/2010</td>\n",
       "    </tr>\n",
       "    <tr>\n",
       "      <th>2</th>\n",
       "      <td>United States Court of Appeals,Tenth Circuit.\\...</td>\n",
       "      <td>US v. Rendon-Alamo 10/19/2010</td>\n",
       "    </tr>\n",
       "    <tr>\n",
       "      <th>3</th>\n",
       "      <td>United States Court of Appeals,Tenth Circuit.\\...</td>\n",
       "      <td>Iliev v. Holder 07/19/2010</td>\n",
       "    </tr>\n",
       "    <tr>\n",
       "      <th>4</th>\n",
       "      <td>United States Court of Appeals,Tenth Circuit.\\...</td>\n",
       "      <td>US v. Adame-Orozco 06/04/2010</td>\n",
       "    </tr>\n",
       "  </tbody>\n",
       "</table>\n",
       "</div>"
      ],
      "text/plain": [
       "                                           case_text  \\\n",
       "0  United States Court of Appeals,Tenth Circuit.\\...   \n",
       "1  United States Court of Appeals,Tenth Circuit.\\...   \n",
       "2  United States Court of Appeals,Tenth Circuit.\\...   \n",
       "3  United States Court of Appeals,Tenth Circuit.\\...   \n",
       "4  United States Court of Appeals,Tenth Circuit.\\...   \n",
       "\n",
       "                             title_date  \n",
       "0            Porro v. Barnes 11/09/2010  \n",
       "1  Garcia-Carbajal v. Holder 11/05/2010  \n",
       "2         US v. Rendon-Alamo 10/19/2010  \n",
       "3            Iliev v. Holder 07/19/2010  \n",
       "4         US v. Adame-Orozco 06/04/2010  "
      ]
     },
     "execution_count": 7,
     "metadata": {},
     "output_type": "execute_result"
    }
   ],
   "source": [
    "corpus.head()"
   ]
  },
  {
   "cell_type": "markdown",
   "metadata": {},
   "source": [
    "## Testing index.py BuildIndex class (5-8 mins to run)"
   ]
  },
  {
   "cell_type": "code",
   "execution_count": 8,
   "metadata": {},
   "outputs": [],
   "source": [
    "build_index = index.BuildIndex(corpus)\n"
   ]
  },
  {
   "cell_type": "markdown",
   "metadata": {},
   "source": [
    "## Save/Pickle the Index Object (2-3 mins)\n"
   ]
  },
  {
   "cell_type": "code",
   "execution_count": 9,
   "metadata": {},
   "outputs": [],
   "source": [
    "# from _pickle import *\n",
    "\n",
    "file_path = \"/Users/kevingmagana/DSI/capstone/build_index_object_2.pkl\"\n",
    "n_bytes = 2**31\n",
    "max_bytes = 2**31 - 1\n",
    "# data = bytearray(n_bytes)\n",
    "data = build_index\n",
    "\n",
    "## write\n",
    "bytes_out = cPickle.dumps(data)\n",
    "with open(file_path, 'wb') as f_out:\n",
    "    for idx in range(0, n_bytes, max_bytes):\n",
    "        f_out.write(bytes_out[idx:idx+max_bytes])\n",
    "        \n"
   ]
  },
  {
   "cell_type": "markdown",
   "metadata": {},
   "source": [
    "## To load - takes about (2-3 mins)"
   ]
  },
  {
   "cell_type": "code",
   "execution_count": 14,
   "metadata": {},
   "outputs": [],
   "source": [
    "import os\n",
    "\n",
    "file_path = \"/Users/kevingmagana/DSI/capstone/build_index_object_2.pkl\"\n",
    "\n",
    "## read\n",
    "bytes_in = bytearray(0)\n",
    "input_size = os.path.getsize(file_path)\n",
    "with open(file_path, 'rb') as f_in:\n",
    "    for _ in range(0, input_size, max_bytes):\n",
    "        bytes_in += f_in.read(max_bytes)\n",
    "\n",
    "data2 = cPickle.loads(bytes_in)\n",
    "\n"
   ]
  },
  {
   "cell_type": "code",
   "execution_count": 15,
   "metadata": {},
   "outputs": [
    {
     "data": {
      "text/plain": [
       "array(['Porro v. Barnes 11/09/2010',\n",
       "       'Garcia-Carbajal v. Holder 11/05/2010',\n",
       "       'US v. Rendon-Alamo 10/19/2010', ...,\n",
       "       'Hui v. Castaneda 05/03/2010', 'Padilla v. Kentucky 03/31/2010',\n",
       "       'Kucana v. Holder 01/20/2010'], dtype=object)"
      ]
     },
     "execution_count": 15,
     "metadata": {},
     "output_type": "execute_result"
    }
   ],
   "source": [
    "data2.case_titles.unique()"
   ]
  },
  {
   "cell_type": "markdown",
   "metadata": {},
   "source": [
    "## Load the Index Object"
   ]
  },
  {
   "cell_type": "code",
   "execution_count": 181,
   "metadata": {},
   "outputs": [
    {
     "name": "stderr",
     "output_type": "stream",
     "text": [
      "IOPub data rate exceeded.\n",
      "The notebook server will temporarily stop sending output\n",
      "to the client in order to avoid crashing it.\n",
      "To change this limit, set the config variable\n",
      "`--NotebookApp.iopub_data_rate_limit`.\n",
      "\n",
      "Current values:\n",
      "NotebookApp.iopub_data_rate_limit=1000000.0 (bytes/sec)\n",
      "NotebookApp.rate_limit_window=3.0 (secs)\n",
      "\n"
     ]
    }
   ],
   "source": [
    "with open(\"build_index_object.pkl\", \"rb\") as myFile:\n",
    "    index_object = pickle.load(myFile)\n",
    "\n"
   ]
  },
  {
   "cell_type": "code",
   "execution_count": null,
   "metadata": {},
   "outputs": [],
   "source": []
  },
  {
   "cell_type": "code",
   "execution_count": 16,
   "metadata": {},
   "outputs": [],
   "source": [
    "from sklearn.feature_extraction.text import TfidfVectorizer,CountVectorizer\n",
    "\n",
    "vectorizer = TfidfVectorizer(stop_words='english')\n",
    "vectors = vectorizer.fit_transform(corpus.case_text).toarray()"
   ]
  },
  {
   "cell_type": "code",
   "execution_count": 19,
   "metadata": {},
   "outputs": [
    {
     "data": {
      "text/plain": [
       "array([0.        , 0.00481816, 0.        , ..., 0.        , 0.        ,\n",
       "       0.        ])"
      ]
     },
     "execution_count": 19,
     "metadata": {},
     "output_type": "execute_result"
    }
   ],
   "source": [
    "## The first index is the row, and second is the column. \n",
    "vectors[0]"
   ]
  },
  {
   "cell_type": "code",
   "execution_count": 26,
   "metadata": {},
   "outputs": [],
   "source": [
    "df = pd.read_csv('/Users/kevingmagana/DSI/capstone/case_corpus.csv')\n",
    "df = df.dropna()\n",
    "df['title_date'] = df[['case_title', 'date']].apply(lambda x: ' '.join(x), axis=1)\n",
    "df = df.iloc[:, [2, 12]]\n",
    "df = df.drop_duplicates(subset='title_date')\n",
    "df = df.reset_index(drop=True)"
   ]
  },
  {
   "cell_type": "code",
   "execution_count": 28,
   "metadata": {},
   "outputs": [
    {
     "name": "stdout",
     "output_type": "stream",
     "text": [
      "<class 'pandas.core.frame.DataFrame'>\n",
      "RangeIndex: 4470 entries, 0 to 4469\n",
      "Data columns (total 2 columns):\n",
      "case_text     4470 non-null object\n",
      "title_date    4470 non-null object\n",
      "dtypes: object(2)\n",
      "memory usage: 69.9+ KB\n"
     ]
    }
   ],
   "source": [
    "df.info()"
   ]
  },
  {
   "cell_type": "code",
   "execution_count": 29,
   "metadata": {},
   "outputs": [],
   "source": [
    "answer = [126, 46, 33, 34, 35, 36, 37, 38, 39, 40]\n"
   ]
  },
  {
   "cell_type": "code",
   "execution_count": 31,
   "metadata": {},
   "outputs": [
    {
     "data": {
      "text/plain": [
       "'Hey Hey Hey'"
      ]
     },
     "execution_count": 31,
     "metadata": {},
     "output_type": "execute_result"
    }
   ],
   "source": [
    "list1 = [\"Hey Hey Hey\"]\n",
    "str1 = ''.join(list1)\n",
    "str1"
   ]
  },
  {
   "cell_type": "code",
   "execution_count": null,
   "metadata": {},
   "outputs": [],
   "source": []
  }
 ],
 "metadata": {
  "kernelspec": {
   "display_name": "Python 3",
   "language": "python",
   "name": "python3"
  },
  "language_info": {
   "codemirror_mode": {
    "name": "ipython",
    "version": 3
   },
   "file_extension": ".py",
   "mimetype": "text/x-python",
   "name": "python",
   "nbconvert_exporter": "python",
   "pygments_lexer": "ipython3",
   "version": "3.6.3"
  }
 },
 "nbformat": 4,
 "nbformat_minor": 2
}
