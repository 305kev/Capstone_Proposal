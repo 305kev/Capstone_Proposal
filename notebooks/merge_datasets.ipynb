{
 "cells": [
  {
   "cell_type": "code",
   "execution_count": 59,
   "metadata": {
    "collapsed": true
   },
   "outputs": [],
   "source": [
    "import boto3\n",
    "import pandas as pd\n",
    "from io import StringIO, BytesIO\n"
   ]
  },
  {
   "cell_type": "markdown",
   "metadata": {},
   "source": [
    "## List all items in S3 bucket"
   ]
  },
  {
   "cell_type": "code",
   "execution_count": 9,
   "metadata": {},
   "outputs": [
    {
     "name": "stdout",
     "output_type": "stream",
     "text": [
      "s3.ObjectSummary(bucket_name='court-case-data', key=u'10th.csv')\n",
      "s3.ObjectSummary(bucket_name='court-case-data', key=u'11th.csv')\n",
      "s3.ObjectSummary(bucket_name='court-case-data', key=u'1st.csv')\n",
      "s3.ObjectSummary(bucket_name='court-case-data', key=u'2nd.csv')\n",
      "s3.ObjectSummary(bucket_name='court-case-data', key=u'3rd.csv')\n",
      "s3.ObjectSummary(bucket_name='court-case-data', key=u'4th.csv')\n",
      "s3.ObjectSummary(bucket_name='court-case-data', key=u'5th.csv')\n",
      "s3.ObjectSummary(bucket_name='court-case-data', key=u'6th.csv')\n",
      "s3.ObjectSummary(bucket_name='court-case-data', key=u'7th.csv')\n",
      "s3.ObjectSummary(bucket_name='court-case-data', key=u'8th.csv')\n",
      "s3.ObjectSummary(bucket_name='court-case-data', key=u'9th.csv')\n",
      "s3.ObjectSummary(bucket_name='court-case-data', key=u'us_supreme_court.csv')\n"
     ]
    }
   ],
   "source": [
    "s3 = boto3.resource('s3')\n",
    "my_bucket = s3.Bucket('court-case-data')\n",
    "\n",
    "for object in my_bucket.objects.all():\n",
    "    print(object)"
   ]
  },
  {
   "cell_type": "markdown",
   "metadata": {},
   "source": [
    "## Store all dataframes into a dictionary"
   ]
  },
  {
   "cell_type": "code",
   "execution_count": 41,
   "metadata": {},
   "outputs": [],
   "source": [
    "s3 = boto3.resource('s3')\n",
    "client = boto3.client('s3') #low-level functional API\n",
    "my_bucket = s3.Bucket('court-case-data')\n",
    "d = {}\n",
    "\n",
    "for ind, object in enumerate(my_bucket.objects.all(), 1):\n",
    "    obj = client.get_object(Bucket='court-case-data', Key=object.key)\n",
    "    d['df{}'.format(ind)] = pd.read_csv(BytesIO(obj['Body'].read()))\n"
   ]
  },
  {
   "cell_type": "markdown",
   "metadata": {},
   "source": [
    "## Merge using Pandas"
   ]
  },
  {
   "cell_type": "code",
   "execution_count": 43,
   "metadata": {},
   "outputs": [],
   "source": [
    "merged = pd.concat(d.values(), ignore_index=True)\n"
   ]
  },
  {
   "cell_type": "code",
   "execution_count": 51,
   "metadata": {},
   "outputs": [
    {
     "data": {
      "text/html": [
       "<div>\n",
       "<style>\n",
       "    .dataframe thead tr:only-child th {\n",
       "        text-align: right;\n",
       "    }\n",
       "\n",
       "    .dataframe thead th {\n",
       "        text-align: left;\n",
       "    }\n",
       "\n",
       "    .dataframe tbody tr th {\n",
       "        vertical-align: top;\n",
       "    }\n",
       "</style>\n",
       "<table border=\"1\" class=\"dataframe\">\n",
       "  <thead>\n",
       "    <tr style=\"text-align: right;\">\n",
       "      <th></th>\n",
       "      <th>case_text</th>\n",
       "      <th>case_title</th>\n",
       "      <th>court</th>\n",
       "      <th>date</th>\n",
       "      <th>docket</th>\n",
       "      <th>tags</th>\n",
       "      <th>type_of_law</th>\n",
       "      <th>url</th>\n",
       "      <th>web_source</th>\n",
       "    </tr>\n",
       "  </thead>\n",
       "  <tbody>\n",
       "    <tr>\n",
       "      <th>0</th>\n",
       "      <td>United States Court of Appeals,Seventh Circuit...</td>\n",
       "      <td>Ward v. Holder</td>\n",
       "      <td>United States Seventh Circuit</td>\n",
       "      <td>01/21/2011</td>\n",
       "      <td>10-2063</td>\n",
       "      <td>Government Law, Immigration Law</td>\n",
       "      <td>case</td>\n",
       "      <td>http://caselaw.findlaw.com/us-7th-circuit/1553...</td>\n",
       "      <td>findlaw.com</td>\n",
       "    </tr>\n",
       "    <tr>\n",
       "      <th>1</th>\n",
       "      <td>United States Court of Appeals,Seventh Circuit...</td>\n",
       "      <td>Alvarado-Fonseca v. Holder</td>\n",
       "      <td>United States Seventh Circuit</td>\n",
       "      <td>01/06/2011</td>\n",
       "      <td>10-1917</td>\n",
       "      <td>Constitutional Law, Criminal Law &amp; Procedure, ...</td>\n",
       "      <td>case</td>\n",
       "      <td>http://caselaw.findlaw.com/us-7th-circuit/1551...</td>\n",
       "      <td>findlaw.com</td>\n",
       "    </tr>\n",
       "    <tr>\n",
       "      <th>2</th>\n",
       "      <td>United States Court of Appeals,Seventh Circuit...</td>\n",
       "      <td>Lin v. Holder</td>\n",
       "      <td>United States Seventh Circuit</td>\n",
       "      <td>12/23/2010</td>\n",
       "      <td>10-1401</td>\n",
       "      <td>Government Law, Health Law, Immigration Law</td>\n",
       "      <td>case</td>\n",
       "      <td>http://caselaw.findlaw.com/us-7th-circuit/1549...</td>\n",
       "      <td>findlaw.com</td>\n",
       "    </tr>\n",
       "  </tbody>\n",
       "</table>\n",
       "</div>"
      ],
      "text/plain": [
       "                                           case_text  \\\n",
       "0  United States Court of Appeals,Seventh Circuit...   \n",
       "1  United States Court of Appeals,Seventh Circuit...   \n",
       "2  United States Court of Appeals,Seventh Circuit...   \n",
       "\n",
       "                   case_title                          court        date  \\\n",
       "0              Ward v. Holder  United States Seventh Circuit  01/21/2011   \n",
       "1  Alvarado-Fonseca v. Holder  United States Seventh Circuit  01/06/2011   \n",
       "2               Lin v. Holder  United States Seventh Circuit  12/23/2010   \n",
       "\n",
       "    docket                                               tags type_of_law  \\\n",
       "0  10-2063                    Government Law, Immigration Law        case   \n",
       "1  10-1917  Constitutional Law, Criminal Law & Procedure, ...        case   \n",
       "2  10-1401        Government Law, Health Law, Immigration Law        case   \n",
       "\n",
       "                                                 url   web_source  \n",
       "0  http://caselaw.findlaw.com/us-7th-circuit/1553...  findlaw.com  \n",
       "1  http://caselaw.findlaw.com/us-7th-circuit/1551...  findlaw.com  \n",
       "2  http://caselaw.findlaw.com/us-7th-circuit/1549...  findlaw.com  "
      ]
     },
     "execution_count": 51,
     "metadata": {},
     "output_type": "execute_result"
    }
   ],
   "source": [
    "merged.head(3)"
   ]
  },
  {
   "cell_type": "code",
   "execution_count": 52,
   "metadata": {},
   "outputs": [
    {
     "name": "stdout",
     "output_type": "stream",
     "text": [
      "<class 'pandas.core.frame.DataFrame'>\n",
      "RangeIndex: 4941 entries, 0 to 4940\n",
      "Data columns (total 9 columns):\n",
      "case_text      4527 non-null object\n",
      "case_title     4941 non-null object\n",
      "court          4941 non-null object\n",
      "date           4941 non-null object\n",
      "docket         4941 non-null object\n",
      "tags           4941 non-null object\n",
      "type_of_law    4941 non-null object\n",
      "url            4941 non-null object\n",
      "web_source     4941 non-null object\n",
      "dtypes: object(9)\n",
      "memory usage: 347.5+ KB\n"
     ]
    }
   ],
   "source": [
    "merged.info()"
   ]
  },
  {
   "cell_type": "code",
   "execution_count": 53,
   "metadata": {},
   "outputs": [
    {
     "data": {
      "text/html": [
       "<div>\n",
       "<style>\n",
       "    .dataframe thead tr:only-child th {\n",
       "        text-align: right;\n",
       "    }\n",
       "\n",
       "    .dataframe thead th {\n",
       "        text-align: left;\n",
       "    }\n",
       "\n",
       "    .dataframe tbody tr th {\n",
       "        vertical-align: top;\n",
       "    }\n",
       "</style>\n",
       "<table border=\"1\" class=\"dataframe\">\n",
       "  <thead>\n",
       "    <tr style=\"text-align: right;\">\n",
       "      <th></th>\n",
       "      <th>case_text</th>\n",
       "      <th>case_title</th>\n",
       "      <th>court</th>\n",
       "      <th>date</th>\n",
       "      <th>docket</th>\n",
       "      <th>tags</th>\n",
       "      <th>type_of_law</th>\n",
       "      <th>url</th>\n",
       "      <th>web_source</th>\n",
       "    </tr>\n",
       "  </thead>\n",
       "  <tbody>\n",
       "    <tr>\n",
       "      <th>count</th>\n",
       "      <td>4527</td>\n",
       "      <td>4941</td>\n",
       "      <td>4941</td>\n",
       "      <td>4941</td>\n",
       "      <td>4941</td>\n",
       "      <td>4941</td>\n",
       "      <td>4941</td>\n",
       "      <td>4941</td>\n",
       "      <td>4941</td>\n",
       "    </tr>\n",
       "    <tr>\n",
       "      <th>unique</th>\n",
       "      <td>4311</td>\n",
       "      <td>4358</td>\n",
       "      <td>12</td>\n",
       "      <td>2618</td>\n",
       "      <td>4625</td>\n",
       "      <td>333</td>\n",
       "      <td>1</td>\n",
       "      <td>4723</td>\n",
       "      <td>1</td>\n",
       "    </tr>\n",
       "    <tr>\n",
       "      <th>top</th>\n",
       "      <td>United States Court of Appeals,Fifth Circuit.\\...</td>\n",
       "      <td>Singh v. Gonzales</td>\n",
       "      <td>United States Ninth Circuit</td>\n",
       "      <td>03/14/2008</td>\n",
       "      <td>05-60914</td>\n",
       "      <td>Immigration Law</td>\n",
       "      <td>case</td>\n",
       "      <td>http://caselaw.findlaw.com/us-1st-circuit/1493...</td>\n",
       "      <td>findlaw.com</td>\n",
       "    </tr>\n",
       "    <tr>\n",
       "      <th>freq</th>\n",
       "      <td>5</td>\n",
       "      <td>19</td>\n",
       "      <td>1468</td>\n",
       "      <td>8</td>\n",
       "      <td>5</td>\n",
       "      <td>1661</td>\n",
       "      <td>4941</td>\n",
       "      <td>5</td>\n",
       "      <td>4941</td>\n",
       "    </tr>\n",
       "  </tbody>\n",
       "</table>\n",
       "</div>"
      ],
      "text/plain": [
       "                                                case_text         case_title  \\\n",
       "count                                                4527               4941   \n",
       "unique                                               4311               4358   \n",
       "top     United States Court of Appeals,Fifth Circuit.\\...  Singh v. Gonzales   \n",
       "freq                                                    5                 19   \n",
       "\n",
       "                              court        date    docket             tags  \\\n",
       "count                          4941        4941      4941             4941   \n",
       "unique                           12        2618      4625              333   \n",
       "top     United States Ninth Circuit  03/14/2008  05-60914  Immigration Law   \n",
       "freq                           1468           8         5             1661   \n",
       "\n",
       "       type_of_law                                                url  \\\n",
       "count         4941                                               4941   \n",
       "unique           1                                               4723   \n",
       "top           case  http://caselaw.findlaw.com/us-1st-circuit/1493...   \n",
       "freq          4941                                                  5   \n",
       "\n",
       "         web_source  \n",
       "count          4941  \n",
       "unique            1  \n",
       "top     findlaw.com  \n",
       "freq           4941  "
      ]
     },
     "execution_count": 53,
     "metadata": {},
     "output_type": "execute_result"
    }
   ],
   "source": [
    "merged.describe()"
   ]
  },
  {
   "cell_type": "markdown",
   "metadata": {},
   "source": [
    "## Save as a CSV "
   ]
  },
  {
   "cell_type": "code",
   "execution_count": 58,
   "metadata": {},
   "outputs": [],
   "source": [
    "merged.to_csv('../data/src_law/first_merged_case_law.csv', sep='\\t', encoding='utf-8')"
   ]
  },
  {
   "cell_type": "code",
   "execution_count": null,
   "metadata": {},
   "outputs": [],
   "source": []
  },
  {
   "cell_type": "code",
   "execution_count": null,
   "metadata": {
    "collapsed": true
   },
   "outputs": [],
   "source": []
  }
 ],
 "metadata": {
  "kernelspec": {
   "display_name": "Python 2",
   "language": "python",
   "name": "python2"
  },
  "language_info": {
   "codemirror_mode": {
    "name": "ipython",
    "version": 2
   },
   "file_extension": ".py",
   "mimetype": "text/x-python",
   "name": "python",
   "nbconvert_exporter": "python",
   "pygments_lexer": "ipython2",
   "version": "2.7.13"
  }
 },
 "nbformat": 4,
 "nbformat_minor": 2
}
