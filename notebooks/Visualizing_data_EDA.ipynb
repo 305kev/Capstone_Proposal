{
 "cells": [
  {
   "cell_type": "code",
   "execution_count": 1,
   "metadata": {},
   "outputs": [],
   "source": [
    "\n",
    "import pandas as pd"
   ]
  },
  {
   "cell_type": "code",
   "execution_count": 3,
   "metadata": {},
   "outputs": [],
   "source": [
    "df = pd.read_csv('/Users/kevingmagana/DSI/capstone/case_corpus.csv')"
   ]
  },
  {
   "cell_type": "code",
   "execution_count": 5,
   "metadata": {},
   "outputs": [],
   "source": [
    "df = df.drop(['Unnamed: 0', 'Unnamed: 0.1'], axis=1)"
   ]
  },
  {
   "cell_type": "code",
   "execution_count": 8,
   "metadata": {},
   "outputs": [],
   "source": [
    "df.to_csv('/Users/kevingmagana/DSI/capstone/case_corpus_updated.csv')"
   ]
  },
  {
   "cell_type": "code",
   "execution_count": 18,
   "metadata": {},
   "outputs": [
    {
     "data": {
      "text/plain": [
       "0"
      ]
     },
     "execution_count": 18,
     "metadata": {},
     "output_type": "execute_result"
    }
   ],
   "source": [
    "df.index[df['title_date'] == 'Porro v. Barnes 11/09/2010'].tolist()[0]\n"
   ]
  },
  {
   "cell_type": "code",
   "execution_count": 12,
   "metadata": {},
   "outputs": [
    {
     "data": {
      "text/html": [
       "<div>\n",
       "<style>\n",
       "    .dataframe thead tr:only-child th {\n",
       "        text-align: right;\n",
       "    }\n",
       "\n",
       "    .dataframe thead th {\n",
       "        text-align: left;\n",
       "    }\n",
       "\n",
       "    .dataframe tbody tr th {\n",
       "        vertical-align: top;\n",
       "    }\n",
       "</style>\n",
       "<table border=\"1\" class=\"dataframe\">\n",
       "  <thead>\n",
       "    <tr style=\"text-align: right;\">\n",
       "      <th></th>\n",
       "      <th>case_text</th>\n",
       "      <th>case_title</th>\n",
       "      <th>court</th>\n",
       "      <th>date</th>\n",
       "      <th>docket</th>\n",
       "      <th>tags</th>\n",
       "      <th>type_of_law</th>\n",
       "      <th>url</th>\n",
       "      <th>web_source</th>\n",
       "      <th>html_format</th>\n",
       "      <th>title_date</th>\n",
       "    </tr>\n",
       "  </thead>\n",
       "  <tbody>\n",
       "    <tr>\n",
       "      <th>0</th>\n",
       "      <td>United States Court of Appeals,Tenth Circuit.\\...</td>\n",
       "      <td>Porro v. Barnes</td>\n",
       "      <td>United States Tenth Circuit</td>\n",
       "      <td>11/09/2010</td>\n",
       "      <td>10-6002</td>\n",
       "      <td>Civil Rights, Constitutional Law, Immigration ...</td>\n",
       "      <td>case</td>\n",
       "      <td>http://caselaw.findlaw.com/us-10th-circuit/154...</td>\n",
       "      <td>findlaw.com</td>\n",
       "      <td>[&lt;div class=\"caselawcontent searchable-content...</td>\n",
       "      <td>Porro v. Barnes 11/09/2010</td>\n",
       "    </tr>\n",
       "    <tr>\n",
       "      <th>1</th>\n",
       "      <td>United States Court of Appeals,Tenth Circuit.\\...</td>\n",
       "      <td>Garcia-Carbajal v. Holder</td>\n",
       "      <td>United States Tenth Circuit</td>\n",
       "      <td>11/05/2010</td>\n",
       "      <td>09-9558</td>\n",
       "      <td>Administrative Law, Immigration Law</td>\n",
       "      <td>case</td>\n",
       "      <td>http://caselaw.findlaw.com/us-10th-circuit/154...</td>\n",
       "      <td>findlaw.com</td>\n",
       "      <td>[&lt;div class=\"caselawcontent searchable-content...</td>\n",
       "      <td>Garcia-Carbajal v. Holder 11/05/2010</td>\n",
       "    </tr>\n",
       "    <tr>\n",
       "      <th>2</th>\n",
       "      <td>United States Court of Appeals,Tenth Circuit.\\...</td>\n",
       "      <td>US v. Rendon-Alamo</td>\n",
       "      <td>United States Tenth Circuit</td>\n",
       "      <td>10/19/2010</td>\n",
       "      <td>10-2089</td>\n",
       "      <td>Sentencing, Immigration Law, Criminal Law &amp; Pr...</td>\n",
       "      <td>case</td>\n",
       "      <td>http://caselaw.findlaw.com/us-10th-circuit/154...</td>\n",
       "      <td>findlaw.com</td>\n",
       "      <td>[&lt;div class=\"caselawcontent searchable-content...</td>\n",
       "      <td>US v. Rendon-Alamo 10/19/2010</td>\n",
       "    </tr>\n",
       "    <tr>\n",
       "      <th>3</th>\n",
       "      <td>United States Court of Appeals,Tenth Circuit.\\...</td>\n",
       "      <td>Iliev v. Holder</td>\n",
       "      <td>United States Tenth Circuit</td>\n",
       "      <td>07/19/2010</td>\n",
       "      <td>09-9517</td>\n",
       "      <td>Administrative Law, Immigration Law</td>\n",
       "      <td>case</td>\n",
       "      <td>http://caselaw.findlaw.com/us-10th-circuit/153...</td>\n",
       "      <td>findlaw.com</td>\n",
       "      <td>[&lt;div class=\"caselawcontent searchable-content...</td>\n",
       "      <td>Iliev v. Holder 07/19/2010</td>\n",
       "    </tr>\n",
       "    <tr>\n",
       "      <th>4</th>\n",
       "      <td>United States Court of Appeals,Tenth Circuit.\\...</td>\n",
       "      <td>US v. Adame-Orozco</td>\n",
       "      <td>United States Tenth Circuit</td>\n",
       "      <td>06/04/2010</td>\n",
       "      <td>09-3296</td>\n",
       "      <td>Criminal Law &amp; Procedure, Immigration Law</td>\n",
       "      <td>case</td>\n",
       "      <td>http://caselaw.findlaw.com/us-10th-circuit/152...</td>\n",
       "      <td>findlaw.com</td>\n",
       "      <td>[&lt;div class=\"caselawcontent searchable-content...</td>\n",
       "      <td>US v. Adame-Orozco 06/04/2010</td>\n",
       "    </tr>\n",
       "  </tbody>\n",
       "</table>\n",
       "</div>"
      ],
      "text/plain": [
       "                                           case_text  \\\n",
       "0  United States Court of Appeals,Tenth Circuit.\\...   \n",
       "1  United States Court of Appeals,Tenth Circuit.\\...   \n",
       "2  United States Court of Appeals,Tenth Circuit.\\...   \n",
       "3  United States Court of Appeals,Tenth Circuit.\\...   \n",
       "4  United States Court of Appeals,Tenth Circuit.\\...   \n",
       "\n",
       "                  case_title                        court        date  \\\n",
       "0            Porro v. Barnes  United States Tenth Circuit  11/09/2010   \n",
       "1  Garcia-Carbajal v. Holder  United States Tenth Circuit  11/05/2010   \n",
       "2         US v. Rendon-Alamo  United States Tenth Circuit  10/19/2010   \n",
       "3            Iliev v. Holder  United States Tenth Circuit  07/19/2010   \n",
       "4         US v. Adame-Orozco  United States Tenth Circuit  06/04/2010   \n",
       "\n",
       "    docket                                               tags type_of_law  \\\n",
       "0  10-6002  Civil Rights, Constitutional Law, Immigration ...        case   \n",
       "1  09-9558                Administrative Law, Immigration Law        case   \n",
       "2  10-2089  Sentencing, Immigration Law, Criminal Law & Pr...        case   \n",
       "3  09-9517                Administrative Law, Immigration Law        case   \n",
       "4  09-3296          Criminal Law & Procedure, Immigration Law        case   \n",
       "\n",
       "                                                 url   web_source  \\\n",
       "0  http://caselaw.findlaw.com/us-10th-circuit/154...  findlaw.com   \n",
       "1  http://caselaw.findlaw.com/us-10th-circuit/154...  findlaw.com   \n",
       "2  http://caselaw.findlaw.com/us-10th-circuit/154...  findlaw.com   \n",
       "3  http://caselaw.findlaw.com/us-10th-circuit/153...  findlaw.com   \n",
       "4  http://caselaw.findlaw.com/us-10th-circuit/152...  findlaw.com   \n",
       "\n",
       "                                         html_format  \\\n",
       "0  [<div class=\"caselawcontent searchable-content...   \n",
       "1  [<div class=\"caselawcontent searchable-content...   \n",
       "2  [<div class=\"caselawcontent searchable-content...   \n",
       "3  [<div class=\"caselawcontent searchable-content...   \n",
       "4  [<div class=\"caselawcontent searchable-content...   \n",
       "\n",
       "                             title_date  \n",
       "0            Porro v. Barnes 11/09/2010  \n",
       "1  Garcia-Carbajal v. Holder 11/05/2010  \n",
       "2         US v. Rendon-Alamo 10/19/2010  \n",
       "3            Iliev v. Holder 07/19/2010  \n",
       "4         US v. Adame-Orozco 06/04/2010  "
      ]
     },
     "execution_count": 12,
     "metadata": {},
     "output_type": "execute_result"
    }
   ],
   "source": [
    "df.head()"
   ]
  },
  {
   "cell_type": "code",
   "execution_count": 21,
   "metadata": {},
   "outputs": [],
   "source": [
    "a_dict = {'hi' : 'means hello', 'bye': 'means see ya later!'}"
   ]
  },
  {
   "cell_type": "code",
   "execution_count": 22,
   "metadata": {},
   "outputs": [
    {
     "data": {
      "text/plain": [
       "[{'bye': 'means see ya later!', 'hi': 'means hello'}]"
      ]
     },
     "execution_count": 22,
     "metadata": {},
     "output_type": "execute_result"
    }
   ],
   "source": [
    "[a_dict]"
   ]
  },
  {
   "cell_type": "code",
   "execution_count": null,
   "metadata": {},
   "outputs": [],
   "source": []
  },
  {
   "cell_type": "code",
   "execution_count": null,
   "metadata": {},
   "outputs": [],
   "source": []
  }
 ],
 "metadata": {
  "kernelspec": {
   "display_name": "Python 3",
   "language": "python",
   "name": "python3"
  },
  "language_info": {
   "codemirror_mode": {
    "name": "ipython",
    "version": 3
   },
   "file_extension": ".py",
   "mimetype": "text/x-python",
   "name": "python",
   "nbconvert_exporter": "python",
   "pygments_lexer": "ipython3",
   "version": "3.6.3"
  }
 },
 "nbformat": 4,
 "nbformat_minor": 2
}
