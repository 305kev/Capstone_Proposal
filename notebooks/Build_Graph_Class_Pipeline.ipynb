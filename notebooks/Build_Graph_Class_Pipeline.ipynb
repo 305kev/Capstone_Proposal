{
 "cells": [
  {
   "cell_type": "code",
   "execution_count": 10,
   "metadata": {},
   "outputs": [],
   "source": [
    "import community \n",
    "import pandas as pd\n",
    "import numpy as np\n",
    "import sys\n",
    "sys.path.append('/Users/kevingmagana/DSI/capstone/capstone-update/Capstone_Proposal/py_scripts/')\n",
    "import find_citation\n",
    "from graph_pipeline import GraphRecommender\n",
    "import networkx as nx\n",
    "import pandas as pd\n",
    "from collections import Counter\n",
    "import matplotlib.pyplot as plt\n",
    "%matplotlib inline\n",
    "from collections import defaultdict\n",
    "import copy\n",
    "import re\n",
    "import _pickle as cPickle\n",
    "\n"
   ]
  },
  {
   "cell_type": "code",
   "execution_count": 7,
   "metadata": {},
   "outputs": [
    {
     "data": {
      "text/plain": [
       "'/Users/kevingmagana/DSI/capstone/capstone-update/Capstone_Proposal/notebooks'"
      ]
     },
     "execution_count": 7,
     "metadata": {},
     "output_type": "execute_result"
    }
   ],
   "source": [
    "pwd"
   ]
  },
  {
   "cell_type": "code",
   "execution_count": 2,
   "metadata": {},
   "outputs": [],
   "source": [
    "df = pd.read_csv('/Users/kevingmagana/DSI/capstone/case_corpus.csv')"
   ]
  },
  {
   "cell_type": "code",
   "execution_count": 3,
   "metadata": {},
   "outputs": [
    {
     "data": {
      "text/html": [
       "<div>\n",
       "<style>\n",
       "    .dataframe thead tr:only-child th {\n",
       "        text-align: right;\n",
       "    }\n",
       "\n",
       "    .dataframe thead th {\n",
       "        text-align: left;\n",
       "    }\n",
       "\n",
       "    .dataframe tbody tr th {\n",
       "        vertical-align: top;\n",
       "    }\n",
       "</style>\n",
       "<table border=\"1\" class=\"dataframe\">\n",
       "  <thead>\n",
       "    <tr style=\"text-align: right;\">\n",
       "      <th></th>\n",
       "      <th>case_text</th>\n",
       "      <th>case_title</th>\n",
       "      <th>court</th>\n",
       "      <th>date</th>\n",
       "      <th>docket</th>\n",
       "      <th>tags</th>\n",
       "      <th>type_of_law</th>\n",
       "      <th>url</th>\n",
       "      <th>web_source</th>\n",
       "      <th>html_format</th>\n",
       "      <th>title_date</th>\n",
       "    </tr>\n",
       "  </thead>\n",
       "  <tbody>\n",
       "    <tr>\n",
       "      <th>0</th>\n",
       "      <td>United States Court of Appeals,Tenth Circuit.\\...</td>\n",
       "      <td>Porro v. Barnes</td>\n",
       "      <td>United States Tenth Circuit</td>\n",
       "      <td>11/09/2010</td>\n",
       "      <td>10-6002</td>\n",
       "      <td>Civil Rights, Constitutional Law, Immigration ...</td>\n",
       "      <td>case</td>\n",
       "      <td>http://caselaw.findlaw.com/us-10th-circuit/154...</td>\n",
       "      <td>findlaw.com</td>\n",
       "      <td>[&lt;div class=\"caselawcontent searchable-content...</td>\n",
       "      <td>Porro v. Barnes 11/09/2010</td>\n",
       "    </tr>\n",
       "    <tr>\n",
       "      <th>1</th>\n",
       "      <td>United States Court of Appeals,Tenth Circuit.\\...</td>\n",
       "      <td>Garcia-Carbajal v. Holder</td>\n",
       "      <td>United States Tenth Circuit</td>\n",
       "      <td>11/05/2010</td>\n",
       "      <td>09-9558</td>\n",
       "      <td>Administrative Law, Immigration Law</td>\n",
       "      <td>case</td>\n",
       "      <td>http://caselaw.findlaw.com/us-10th-circuit/154...</td>\n",
       "      <td>findlaw.com</td>\n",
       "      <td>[&lt;div class=\"caselawcontent searchable-content...</td>\n",
       "      <td>Garcia-Carbajal v. Holder 11/05/2010</td>\n",
       "    </tr>\n",
       "    <tr>\n",
       "      <th>2</th>\n",
       "      <td>United States Court of Appeals,Tenth Circuit.\\...</td>\n",
       "      <td>US v. Rendon-Alamo</td>\n",
       "      <td>United States Tenth Circuit</td>\n",
       "      <td>10/19/2010</td>\n",
       "      <td>10-2089</td>\n",
       "      <td>Sentencing, Immigration Law, Criminal Law &amp; Pr...</td>\n",
       "      <td>case</td>\n",
       "      <td>http://caselaw.findlaw.com/us-10th-circuit/154...</td>\n",
       "      <td>findlaw.com</td>\n",
       "      <td>[&lt;div class=\"caselawcontent searchable-content...</td>\n",
       "      <td>US v. Rendon-Alamo 10/19/2010</td>\n",
       "    </tr>\n",
       "    <tr>\n",
       "      <th>3</th>\n",
       "      <td>United States Court of Appeals,Tenth Circuit.\\...</td>\n",
       "      <td>Iliev v. Holder</td>\n",
       "      <td>United States Tenth Circuit</td>\n",
       "      <td>07/19/2010</td>\n",
       "      <td>09-9517</td>\n",
       "      <td>Administrative Law, Immigration Law</td>\n",
       "      <td>case</td>\n",
       "      <td>http://caselaw.findlaw.com/us-10th-circuit/153...</td>\n",
       "      <td>findlaw.com</td>\n",
       "      <td>[&lt;div class=\"caselawcontent searchable-content...</td>\n",
       "      <td>Iliev v. Holder 07/19/2010</td>\n",
       "    </tr>\n",
       "    <tr>\n",
       "      <th>4</th>\n",
       "      <td>United States Court of Appeals,Tenth Circuit.\\...</td>\n",
       "      <td>US v. Adame-Orozco</td>\n",
       "      <td>United States Tenth Circuit</td>\n",
       "      <td>06/04/2010</td>\n",
       "      <td>09-3296</td>\n",
       "      <td>Criminal Law &amp; Procedure, Immigration Law</td>\n",
       "      <td>case</td>\n",
       "      <td>http://caselaw.findlaw.com/us-10th-circuit/152...</td>\n",
       "      <td>findlaw.com</td>\n",
       "      <td>[&lt;div class=\"caselawcontent searchable-content...</td>\n",
       "      <td>US v. Adame-Orozco 06/04/2010</td>\n",
       "    </tr>\n",
       "  </tbody>\n",
       "</table>\n",
       "</div>"
      ],
      "text/plain": [
       "                                           case_text  \\\n",
       "0  United States Court of Appeals,Tenth Circuit.\\...   \n",
       "1  United States Court of Appeals,Tenth Circuit.\\...   \n",
       "2  United States Court of Appeals,Tenth Circuit.\\...   \n",
       "3  United States Court of Appeals,Tenth Circuit.\\...   \n",
       "4  United States Court of Appeals,Tenth Circuit.\\...   \n",
       "\n",
       "                  case_title                        court        date  \\\n",
       "0            Porro v. Barnes  United States Tenth Circuit  11/09/2010   \n",
       "1  Garcia-Carbajal v. Holder  United States Tenth Circuit  11/05/2010   \n",
       "2         US v. Rendon-Alamo  United States Tenth Circuit  10/19/2010   \n",
       "3            Iliev v. Holder  United States Tenth Circuit  07/19/2010   \n",
       "4         US v. Adame-Orozco  United States Tenth Circuit  06/04/2010   \n",
       "\n",
       "    docket                                               tags type_of_law  \\\n",
       "0  10-6002  Civil Rights, Constitutional Law, Immigration ...        case   \n",
       "1  09-9558                Administrative Law, Immigration Law        case   \n",
       "2  10-2089  Sentencing, Immigration Law, Criminal Law & Pr...        case   \n",
       "3  09-9517                Administrative Law, Immigration Law        case   \n",
       "4  09-3296          Criminal Law & Procedure, Immigration Law        case   \n",
       "\n",
       "                                                 url   web_source  \\\n",
       "0  http://caselaw.findlaw.com/us-10th-circuit/154...  findlaw.com   \n",
       "1  http://caselaw.findlaw.com/us-10th-circuit/154...  findlaw.com   \n",
       "2  http://caselaw.findlaw.com/us-10th-circuit/154...  findlaw.com   \n",
       "3  http://caselaw.findlaw.com/us-10th-circuit/153...  findlaw.com   \n",
       "4  http://caselaw.findlaw.com/us-10th-circuit/152...  findlaw.com   \n",
       "\n",
       "                                         html_format  \\\n",
       "0  [<div class=\"caselawcontent searchable-content...   \n",
       "1  [<div class=\"caselawcontent searchable-content...   \n",
       "2  [<div class=\"caselawcontent searchable-content...   \n",
       "3  [<div class=\"caselawcontent searchable-content...   \n",
       "4  [<div class=\"caselawcontent searchable-content...   \n",
       "\n",
       "                             title_date  \n",
       "0            Porro v. Barnes 11/09/2010  \n",
       "1  Garcia-Carbajal v. Holder 11/05/2010  \n",
       "2         US v. Rendon-Alamo 10/19/2010  \n",
       "3            Iliev v. Holder 07/19/2010  \n",
       "4         US v. Adame-Orozco 06/04/2010  "
      ]
     },
     "execution_count": 3,
     "metadata": {},
     "output_type": "execute_result"
    }
   ],
   "source": [
    "data = df.case_text\n",
    "corpus = df.drop(['Unnamed: 0', 'Unnamed: 0.1'],axis=1)\n",
    "corpus = corpus.drop_duplicates(subset='title_date')\n",
    "corpus = corpus.reset_index(drop=True)\n",
    "# print(corpus.describe())\n",
    "corpus.head()"
   ]
  },
  {
   "cell_type": "markdown",
   "metadata": {},
   "source": [
    "## Step 1: Load up model (5-8 mins) and find community number for single court case"
   ]
  },
  {
   "cell_type": "code",
   "execution_count": 4,
   "metadata": {},
   "outputs": [
    {
     "name": "stdout",
     "output_type": "stream",
     "text": [
      "3\n"
     ]
    }
   ],
   "source": [
    "G = nx.Graph()\n",
    "\n",
    "gr = GraphRecommender(corpus, G)\n",
    "search_query='Carpio v. Holder 01/13/2010'\n",
    "community_value = gr.parts[search_query]\n",
    "print(community_value)"
   ]
  },
  {
   "cell_type": "markdown",
   "metadata": {},
   "source": [
    "# Step 2: Return that case's community"
   ]
  },
  {
   "cell_type": "code",
   "execution_count": 5,
   "metadata": {},
   "outputs": [
    {
     "name": "stdout",
     "output_type": "stream",
     "text": [
      "524\n",
      "['Carpio v. Holder 01/13/2010', 'N-A-M v. Holder 11/20/2009', 'Mendiola v. Holder 10/28/2009', 'Rosillo-Puga v. Holder 09/15/2009', 'Herrera-Castillo v. Holder 07/27/2009', 'Wei v. Mukasey 11/10/2008', 'Lee v. Mukasey 06/03/2008', 'US v. Ochoa-Colchado 04/14/2008', 'Ochieng v. Mukasey 03/18/2008', 'Lorenzo v. Mukasey 11/21/2007']\n"
     ]
    }
   ],
   "source": [
    "commuity_nodes = gr.check[community_value]\n",
    "print(len(commuity_nodes))\n",
    "print(commuity_nodes[:10]) \n"
   ]
  },
  {
   "cell_type": "markdown",
   "metadata": {},
   "source": [
    "## Step 3: Get Recommendations"
   ]
  },
  {
   "cell_type": "code",
   "execution_count": 8,
   "metadata": {},
   "outputs": [
    {
     "data": {
      "text/plain": [
       "['De Leon-Ochoa v. Attorney General 10/01/2010',\n",
       " 'Quinchia v. US Atty. Gen. 08/07/2008',\n",
       " 'Quinchia v. U.S. Attorney Gen. 12/18/2008',\n",
       " 'Barrios v. Holder 05/27/2009',\n",
       " 'Joseph v. Holder 08/27/2009']"
      ]
     },
     "execution_count": 8,
     "metadata": {},
     "output_type": "execute_result"
    }
   ],
   "source": [
    "gr.get_recommendations('Carpio v. Holder 01/13/2010', commuity_nodes)"
   ]
  },
  {
   "cell_type": "markdown",
   "metadata": {},
   "source": [
    "## Save / Pickle the fitted graph model "
   ]
  },
  {
   "cell_type": "code",
   "execution_count": 11,
   "metadata": {},
   "outputs": [],
   "source": [
    "with open(\"/Users/kevingmagana/DSI/capstone/fitted_graph_model.pkl\", \"wb\") as f:\n",
    "    cPickle.dump(gr, f)\n"
   ]
  },
  {
   "cell_type": "code",
   "execution_count": null,
   "metadata": {},
   "outputs": [],
   "source": []
  },
  {
   "cell_type": "markdown",
   "metadata": {},
   "source": [
    "## Load the pickled graph model"
   ]
  },
  {
   "cell_type": "code",
   "execution_count": 12,
   "metadata": {},
   "outputs": [],
   "source": [
    "with open(\"/Users/kevingmagana/DSI/capstone/fitted_graph_model.pkl\", \"rb\") as f :\n",
    "    model = cPickle.load(f)\n",
    "    "
   ]
  },
  {
   "cell_type": "markdown",
   "metadata": {},
   "source": [
    "## Test the (graph recommendations) model"
   ]
  },
  {
   "cell_type": "code",
   "execution_count": 16,
   "metadata": {},
   "outputs": [
    {
     "data": {
      "text/plain": [
       "['De Leon-Ochoa v. Attorney General 10/01/2010',\n",
       " 'Quinchia v. US Atty. Gen. 08/07/2008',\n",
       " 'Quinchia v. U.S. Attorney Gen. 12/18/2008',\n",
       " 'Barrios v. Holder 05/27/2009',\n",
       " 'Joseph v. Holder 08/27/2009']"
      ]
     },
     "execution_count": 16,
     "metadata": {},
     "output_type": "execute_result"
    }
   ],
   "source": [
    "search_query='Carpio v. Holder 01/13/2010'\n",
    "community_value = model.parts[search_query]\n",
    "commuity_nodes = model.check[community_value]\n",
    "model.get_recommendations(search_query, commuity_nodes)"
   ]
  },
  {
   "cell_type": "code",
   "execution_count": null,
   "metadata": {},
   "outputs": [],
   "source": []
  },
  {
   "cell_type": "code",
   "execution_count": 15,
   "metadata": {},
   "outputs": [],
   "source": [
    "class GraphRecommender: \n",
    "    \n",
    "    def __init__(self, dataframe, nx_graph_obj): \n",
    "        self.df = dataframe\n",
    "        self.case_text = self.df.case_text \n",
    "        self.title_date = self.df.title_date\n",
    "        \n",
    "        self.all_citations= self.get_total_corpus_citations(self.case_text)\n",
    "        \n",
    "        self.g = nx_graph_obj        \n",
    "        self.graph_dict = self.get_graph_dict(self.df, self.all_citations)\n",
    "        self.weighted_edge_graph = self.build_weighted_edge_graph()\n",
    "        # self.g and the weighted egde graph will become the same. \n",
    "        # just instantiated here to create the weighted edge graph\n",
    "        \n",
    "        ## Build Community/Node Dicts from graph \n",
    "        self.parts, self.check = self.build_node_community_dicts(self.g) \n",
    "        ## self.parts = {Node: Community}\n",
    "        # EX: how to run search of community number: \n",
    "        \"\"\"\n",
    "        gr = GraphRecommender()\n",
    "        search_query='Carpio v. Holder 01/13/2010'\n",
    "        community_value = gr.parts[search_query]\n",
    "        print(community_value)\n",
    "        \"\"\"\n",
    "        ## self.check = {Community: Nodes}\n",
    "        # EX: how to look up cases inside a community \n",
    "        \"\"\"\n",
    "        commuity_nodes = gr.check[community_value]\n",
    "        print(len(commuity_nodes))\n",
    "        print(commuity_nodes)        \n",
    "        \"\"\"\n",
    "    \n",
    "    def _get_citation(self, citation):\n",
    "        \"\"\"\n",
    "        :param citation: string, a full citation\n",
    "        :returns: string, a partial citation to serve as the nodes\n",
    "        EX:\n",
    "            Baker v. McCollan (1979)\n",
    "            Graham v. Connor (1989)\n",
    "            Austin v. Hamilton (1991)\n",
    "        \"\"\"\n",
    "        cite = []\n",
    "        for ind, word in enumerate(citation.split(' ')):\n",
    "            if ind == 0 or ind == 1 or ind == 2:\n",
    "                cite.append(word.strip(','))\n",
    "            try:\n",
    "                s = re.search(r\"\\d+(\\.\\d+)?\", word)\n",
    "                year = int(s.group(0))\n",
    "                if year > 1750 and year <= 2018 and ind > (len(citation.split(' '))) * .80:\n",
    "                    year = \"(\", str(year), \")\"\n",
    "                    year = \"\".join(year)\n",
    "                    cite.append(year)\n",
    "            except:\n",
    "                continue\n",
    "        return \" \".join(cite)\n",
    "\n",
    "\n",
    "    def _get_all_citations(self, document):\n",
    "        \"\"\"\n",
    "        :param document: string, legal document with citations\n",
    "        :returns: list, a list of all citations within the document\n",
    "        \"\"\"\n",
    "        citations_objects = find_citation.get_citations(document, html=False)\n",
    "        citations_strings = []\n",
    "        for obj in citations_objects:\n",
    "            citations_strings.append(str(obj))\n",
    "        results = []\n",
    "        for citation in citations_strings:\n",
    "            results.append(self._get_citation(citation))\n",
    "        return results\n",
    "\n",
    "    def get_total_corpus_citations(self, data):\n",
    "        \"\"\"\n",
    "        :param data: pandas series, all court document texts\n",
    "        :return: list of lists, list of all document citation lists\n",
    "        \"\"\"\n",
    "        return [self._get_all_citations(document) for document in data]\n",
    "\n",
    "    def final_list_of_citations(self, all_citations):\n",
    "        \"\"\"\n",
    "        :param all_citations: list of lists, each list has all the citations per document\n",
    "        :returns: list of lists, updated lists: replaced \"States\" as plaintiff with \"United States\"\n",
    "\n",
    "        EX:\n",
    "            all_citations= \"States v. Brown (2008)\"\n",
    "            returns = \"United States v. Brown (2008)\"\n",
    "        \"\"\"\n",
    "        replace_words = {\"states\"}\n",
    "        for first, lst in enumerate(all_citations):\n",
    "            for second, citation in enumerate(lst):\n",
    "                cite = citation.split(' ')[0]\n",
    "                if cite.lower() in replace_words:\n",
    "                    all_citations[first][second] = citation.replace(cite, \"United States\")\n",
    "        # Updated Citations\n",
    "        return all_citations\n",
    "\n",
    "    def get_graph_dict(self, case_data, all_citations):\n",
    "        \"\"\"\n",
    "        :param data: Pandas series, all the court case texts\n",
    "        :param all_citations: list of lists, all the corpus citations\n",
    "        :return: dict, key: court case, value: List of citations\n",
    "        \"\"\"\n",
    "        graph_dict = {}\n",
    "        fixed_citations = self.final_list_of_citations(all_citations)\n",
    "        for ind, document in enumerate(case_data.case_text):\n",
    "            graph_dict[case_data.title_date[ind]] = fixed_citations[ind]\n",
    "        return graph_dict\n",
    "    \n",
    "    def _get_weights(self, list_a, list_b):\n",
    "        \"\"\"\n",
    "        :param list_a: string, first node\n",
    "        :param list_b: string, next node\n",
    "        :returns: int, weights\n",
    "        \"\"\"\n",
    "        return len(set(list_a) & set(list_b))\n",
    "    \n",
    "    \n",
    "    def build_weighted_edge_graph(self):\n",
    "        \"\"\"\n",
    "        This function is to create a weighted edge graph made of\n",
    "        court cases (nodes) connected by shared citations (edge weights) \n",
    "        to be used to identify communities, and make recommendations \n",
    "        of similar cases per search result.\n",
    "        :returns: None\n",
    "        \"\"\"\n",
    "        for ind, (key, value) in enumerate(self.graph_dict.items()): \n",
    "            self.g.add_node(key)\n",
    "            list_a = self.graph_dict[key]\n",
    "            for inx, (other_nodes, other_values) in enumerate(self.graph_dict.items(), ind + 1): \n",
    "                list_b = self.graph_dict[other_nodes]   \n",
    "                if list_a == list_b:\n",
    "                    continue\n",
    "                else:  \n",
    "                    weight = self._get_weights(list_a, list_b)\n",
    "                    self.g.add_edge(key, other_nodes, weight = weight)\n",
    "        return self.g\n",
    "    \n",
    "    def build_node_community_dicts(self, g): \n",
    "        \"\"\"\n",
    "        :param g: networkx graph object\n",
    "        :returns parts: dict, {Node: Community}; \n",
    "                check: dict, {Community: Node}\n",
    "        \"\"\"\n",
    "        # parts = {Node: Community} \n",
    "        parts = community.best_partition(g, weight='weight')\n",
    "        # check = {Community: Node} \n",
    "        check = {}\n",
    "        for key, value in parts.items(): \n",
    "            if value not in check: \n",
    "                check[value] = [key]\n",
    "            else: \n",
    "                check[value].append(key)\n",
    "        return parts, check\n",
    "\n",
    "    def get_recommendations(self, fitted_g, node_query, commuity_nodes, weights=False, top_n=5): \n",
    "        \"\"\"\n",
    "        :param G: a fitted network graph object\n",
    "        :param node_query: string, used to locate a community.\n",
    "        :param community_nodes: list of strings, of title_dates \n",
    "        :returns: a list, of ranked recommendations \n",
    "        \"\"\"\n",
    "        H = self.g.subgraph(commuity_nodes)\n",
    "        edges = H.edges(data=True)\n",
    "\n",
    "        ## list of 3-tuples; where 3rd item is dictionary {'weight': value}\n",
    "        node_community = [tup for tup in edges if node_query in tup]\n",
    "        sort = sorted(node_community, key=lambda x: x[2]['weight'])[::-1][:top_n]\n",
    "        weighted_results_list = defaultdict(None)\n",
    "        for tup in sort: \n",
    "            for item in tup: \n",
    "                if node_query not in item and type(item) != dict: \n",
    "                    weighted_results_list[item] = None\n",
    "                elif type(item) == dict:\n",
    "                    weighted_results_list[tup[1]] = item\n",
    "                else: \n",
    "                    continue\n",
    "        if weights: \n",
    "            results = {key: value['weight'] for key, value in weighted_results_list.items()} \n",
    "        else: \n",
    "            results = [res for res in weighted_results_list.keys()]\n",
    "        return results \n",
    "        "
   ]
  },
  {
   "cell_type": "code",
   "execution_count": 3,
   "metadata": {},
   "outputs": [],
   "source": [
    "import community"
   ]
  },
  {
   "cell_type": "code",
   "execution_count": 2,
   "metadata": {},
   "outputs": [],
   "source": [
    "import networkx"
   ]
  },
  {
   "cell_type": "code",
   "execution_count": 4,
   "metadata": {},
   "outputs": [
    {
     "data": {
      "text/plain": [
       "<function community.community_louvain.best_partition>"
      ]
     },
     "execution_count": 4,
     "metadata": {},
     "output_type": "execute_result"
    }
   ],
   "source": [
    "community.best_partition"
   ]
  },
  {
   "cell_type": "code",
   "execution_count": null,
   "metadata": {},
   "outputs": [],
   "source": []
  }
 ],
 "metadata": {
  "kernelspec": {
   "display_name": "Python 3",
   "language": "python",
   "name": "python3"
  },
  "language_info": {
   "codemirror_mode": {
    "name": "ipython",
    "version": 3
   },
   "file_extension": ".py",
   "mimetype": "text/x-python",
   "name": "python",
   "nbconvert_exporter": "python",
   "pygments_lexer": "ipython3",
   "version": "3.6.3"
  }
 },
 "nbformat": 4,
 "nbformat_minor": 2
}
